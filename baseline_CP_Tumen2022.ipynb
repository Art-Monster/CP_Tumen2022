{
 "cells": [
  {
   "cell_type": "markdown",
   "metadata": {},
   "source": [
    "# Разработка рекомендательного алгоритма для читателей библиотеки"
   ]
  },
  {
   "cell_type": "markdown",
   "metadata": {},
   "source": [
    "##### Александр Тиунов\n",
    "##### 2022 г."
   ]
  },
  {
   "cell_type": "markdown",
   "metadata": {},
   "source": [
    "<h1>Оглавление<span class=\"tocSkip\"></span></h1>\n",
    "\n",
    "*  [Условие задачи](#Условие-задачи)\n",
    "*  [Загрузка данных](#Загрузка-данных)\n",
    "*  [Изучение данных](#Изучение-данных)\n",
    "    *  [Проверка дубликатов](#Проверка-дубликатов)\n",
    "    *  [Определим число строк в таблицах](#Определим-число-строк-в-таблицах)\n",
    "*  [Добавление информации о количестве взятых книг](#Добавление-информации-о-количестве-взятых-книг)\n",
    "*  [Добавление рейтинга книг](#Добавление-рейтинга-книг)\n",
    "*  [Создание частотного списка](#Создание-частотного-списка)\n",
    "*  [Построение модели с помощью алгоритма ALS](#Построение-модели-с-помощью-алгоритма-ALS)\n",
    "*  [Метрика](#Метрика)"
   ]
  },
  {
   "cell_type": "markdown",
   "metadata": {},
   "source": [
    "## Условие задачи\n",
    "Участникам необходимо для каждого из 16 753 пользователей сделать\n",
    "подборку из 20 рекомендаций. Порядок рекомендаций не учитывается, но\n",
    "очень важно, чтобы рекомендации основывались на интересе пользователя\n",
    "и были ему релевантны. Обратите внимание, что тестирующая система\n",
    "принимает только те решения, в которых содержится не более 20\n",
    "рекомендаций для одного пользователя. Уникальных документов – 354 355.\n",
    "Участники получают 3 таблицы: users.csv, items.csv,\n",
    "train_transactions.csv. Users.csv содержит информацию о читателях, где\n",
    "каждый читатель имеет свой уникальный номер читательского билета (chb).\n",
    "Таблица items.csv, содержит описание документов, которые доступны всем\n",
    "читателям, каждый документ имеет уникальный системный номер\n",
    "(sys_numb). Таблица train_transactions.csv устанавливает связь между\n",
    "users-items, показывает наличие взаимодействия читателя с документом.\\\n",
    "Описание входных значений\\\n",
    "**users.csv**:\\\n",
    "chb – полный номер читательского билета\n",
    "age – возраст читателя\n",
    "gender – пол читателя\n",
    "chit_type – тип читателя\\\n",
    "**items.csv**:\\\n",
    "sys_numb – системный номер документа\n",
    "title – название документа\n",
    "author – автор документа\n",
    "izd – издательство\n",
    "year_izd – год издания\n",
    "bbk – ББК документа\\\n",
    "**train_transactions.csv**:\\\n",
    "chb - полный номер читательского билета\n",
    "sys_numb – системный номер документа\n",
    "date_1 – дата выдачи\n",
    "is_real – был ли выдан заказ\n",
    "type – тип книговыдачи (книговыдача/скачивание)\n",
    "source – источник (один из трёх онлайн-просмотрщиков)\n",
    "is_printed – печатный/электронный документ"
   ]
  },
  {
   "cell_type": "code",
   "execution_count": 1,
   "metadata": {
    "id": "xCPgrUJEEgaP"
   },
   "outputs": [],
   "source": [
    "import pandas as pd\n",
    "import numpy as np\n",
    "from scipy.sparse import csr_matrix\n",
    "from sklearn.model_selection import train_test_split\n",
    "from tqdm.notebook import tqdm\n",
    "import matplotlib.pyplot as plt\n",
    "import seaborn as sns\n",
    "import re"
   ]
  },
  {
   "cell_type": "raw",
   "metadata": {
    "id": "u77reaUQDslQ"
   },
   "source": [
    "#!pip install implicit"
   ]
  },
  {
   "cell_type": "markdown",
   "metadata": {},
   "source": [
    "# Загрузка данных"
   ]
  },
  {
   "cell_type": "code",
   "execution_count": 2,
   "metadata": {
    "id": "8mfp-NaFD6KW"
   },
   "outputs": [],
   "source": [
    "#считывание данных\n",
    "users = pd.read_csv('train/users.csv', sep=';', index_col=None, dtype={'age': str, 'chb': str, 'chit_type': str, 'gender': str})\n",
    "items = pd.read_csv('train/items.csv', sep=';', index_col=None, dtype={'author': str, 'bbk': str, 'izd': str, 'sys_numb': str, 'title': str, 'year_izd': str})\n",
    "train = pd.read_csv('train/train_transactions_extended.csv', sep=';', index_col=None, dtype={'chb': str, 'date_1': str, 'is_printed': str, 'is_real': str, 'source': str, 'sys_numb': str, 'type': str})"
   ]
  },
  {
   "cell_type": "markdown",
   "metadata": {},
   "source": [
    "# Изучение данных"
   ]
  },
  {
   "cell_type": "code",
   "execution_count": 3,
   "metadata": {},
   "outputs": [],
   "source": [
    "pd.set_option('display.max_rows', 10)\n",
    "pd.set_option('display.max_columns', 20)\n",
    "pd.set_option('display.max_colwidth', None)"
   ]
  },
  {
   "cell_type": "code",
   "execution_count": 4,
   "metadata": {
    "scrolled": true
   },
   "outputs": [
    {
     "data": {
      "text/html": [
       "<div>\n",
       "<style scoped>\n",
       "    .dataframe tbody tr th:only-of-type {\n",
       "        vertical-align: middle;\n",
       "    }\n",
       "\n",
       "    .dataframe tbody tr th {\n",
       "        vertical-align: top;\n",
       "    }\n",
       "\n",
       "    .dataframe thead th {\n",
       "        text-align: right;\n",
       "    }\n",
       "</style>\n",
       "<table border=\"1\" class=\"dataframe\">\n",
       "  <thead>\n",
       "    <tr style=\"text-align: right;\">\n",
       "      <th></th>\n",
       "      <th>chb</th>\n",
       "      <th>age</th>\n",
       "      <th>gender</th>\n",
       "      <th>chit_type</th>\n",
       "    </tr>\n",
       "  </thead>\n",
       "  <tbody>\n",
       "    <tr>\n",
       "      <th>0</th>\n",
       "      <td>300001020830</td>\n",
       "      <td>21</td>\n",
       "      <td>female</td>\n",
       "      <td>нет данных</td>\n",
       "    </tr>\n",
       "    <tr>\n",
       "      <th>1</th>\n",
       "      <td>300001113642</td>\n",
       "      <td>36</td>\n",
       "      <td>female</td>\n",
       "      <td>нет данных</td>\n",
       "    </tr>\n",
       "    <tr>\n",
       "      <th>2</th>\n",
       "      <td>300001148466</td>\n",
       "      <td>46</td>\n",
       "      <td>female</td>\n",
       "      <td>нет данных</td>\n",
       "    </tr>\n",
       "    <tr>\n",
       "      <th>3</th>\n",
       "      <td>300001117011</td>\n",
       "      <td>22</td>\n",
       "      <td>female</td>\n",
       "      <td>нет данных</td>\n",
       "    </tr>\n",
       "    <tr>\n",
       "      <th>4</th>\n",
       "      <td>200001038094</td>\n",
       "      <td>24</td>\n",
       "      <td>female</td>\n",
       "      <td>echb</td>\n",
       "    </tr>\n",
       "    <tr>\n",
       "      <th>...</th>\n",
       "      <td>...</td>\n",
       "      <td>...</td>\n",
       "      <td>...</td>\n",
       "      <td>...</td>\n",
       "    </tr>\n",
       "    <tr>\n",
       "      <th>16748</th>\n",
       "      <td>300001154270</td>\n",
       "      <td>45</td>\n",
       "      <td>female</td>\n",
       "      <td>нет данных</td>\n",
       "    </tr>\n",
       "    <tr>\n",
       "      <th>16749</th>\n",
       "      <td>200000851690</td>\n",
       "      <td>40</td>\n",
       "      <td>female</td>\n",
       "      <td>нет данных</td>\n",
       "    </tr>\n",
       "    <tr>\n",
       "      <th>16750</th>\n",
       "      <td>200001154993</td>\n",
       "      <td>29</td>\n",
       "      <td>male</td>\n",
       "      <td>нет данных</td>\n",
       "    </tr>\n",
       "    <tr>\n",
       "      <th>16751</th>\n",
       "      <td>200001155169</td>\n",
       "      <td>31</td>\n",
       "      <td>male</td>\n",
       "      <td>echb</td>\n",
       "    </tr>\n",
       "    <tr>\n",
       "      <th>16752</th>\n",
       "      <td>300001155049</td>\n",
       "      <td>26</td>\n",
       "      <td>male</td>\n",
       "      <td>нет данных</td>\n",
       "    </tr>\n",
       "  </tbody>\n",
       "</table>\n",
       "<p>16753 rows × 4 columns</p>\n",
       "</div>"
      ],
      "text/plain": [
       "                chb age  gender   chit_type\n",
       "0      300001020830  21  female  нет данных\n",
       "1      300001113642  36  female  нет данных\n",
       "2      300001148466  46  female  нет данных\n",
       "3      300001117011  22  female  нет данных\n",
       "4      200001038094  24  female        echb\n",
       "...             ...  ..     ...         ...\n",
       "16748  300001154270  45  female  нет данных\n",
       "16749  200000851690  40  female  нет данных\n",
       "16750  200001154993  29    male  нет данных\n",
       "16751  200001155169  31    male        echb\n",
       "16752  300001155049  26    male  нет данных\n",
       "\n",
       "[16753 rows x 4 columns]"
      ]
     },
     "execution_count": 4,
     "metadata": {},
     "output_type": "execute_result"
    }
   ],
   "source": [
    "#посмотрим содержимое таблиц\n",
    "users"
   ]
  },
  {
   "cell_type": "code",
   "execution_count": 5,
   "metadata": {
    "scrolled": false
   },
   "outputs": [
    {
     "data": {
      "text/html": [
       "<div>\n",
       "<style scoped>\n",
       "    .dataframe tbody tr th:only-of-type {\n",
       "        vertical-align: middle;\n",
       "    }\n",
       "\n",
       "    .dataframe tbody tr th {\n",
       "        vertical-align: top;\n",
       "    }\n",
       "\n",
       "    .dataframe thead th {\n",
       "        text-align: right;\n",
       "    }\n",
       "</style>\n",
       "<table border=\"1\" class=\"dataframe\">\n",
       "  <thead>\n",
       "    <tr style=\"text-align: right;\">\n",
       "      <th></th>\n",
       "      <th>sys_numb</th>\n",
       "      <th>title</th>\n",
       "      <th>author</th>\n",
       "      <th>izd</th>\n",
       "      <th>year_izd</th>\n",
       "      <th>bbk</th>\n",
       "    </tr>\n",
       "  </thead>\n",
       "  <tbody>\n",
       "    <tr>\n",
       "      <th>93032</th>\n",
       "      <td>RSL07000456796</td>\n",
       "      <td>отсутствует</td>\n",
       "      <td>отсутствует</td>\n",
       "      <td>отсутствует</td>\n",
       "      <td>отсутствует</td>\n",
       "      <td>отсутствует</td>\n",
       "    </tr>\n",
       "  </tbody>\n",
       "</table>\n",
       "</div>"
      ],
      "text/plain": [
       "             sys_numb        title       author          izd     year_izd  \\\n",
       "93032  RSL07000456796  отсутствует  отсутствует  отсутствует  отсутствует   \n",
       "\n",
       "               bbk  \n",
       "93032  отсутствует  "
      ]
     },
     "execution_count": 5,
     "metadata": {},
     "output_type": "execute_result"
    }
   ],
   "source": [
    "items[items['sys_numb'] == 'RSL07000456796'].sort_values('sys_numb')"
   ]
  },
  {
   "cell_type": "code",
   "execution_count": 6,
   "metadata": {
    "scrolled": true
   },
   "outputs": [
    {
     "data": {
      "text/plain": [
       "sys_numb    354355\n",
       "title       319821\n",
       "author      172622\n",
       "izd          36909\n",
       "year_izd      2505\n",
       "bbk         130779\n",
       "dtype: int64"
      ]
     },
     "execution_count": 6,
     "metadata": {},
     "output_type": "execute_result"
    }
   ],
   "source": [
    "items.nunique()"
   ]
  },
  {
   "cell_type": "code",
   "execution_count": 7,
   "metadata": {},
   "outputs": [
    {
     "name": "stdout",
     "output_type": "stream",
     "text": [
      "sys_numb - 0%\n",
      "title - 0%\n",
      "author - 0%\n",
      "izd - 0%\n",
      "year_izd - 0%\n",
      "bbk - 0%\n"
     ]
    }
   ],
   "source": [
    "#проверка пропущенных данных\n",
    "for col in items.columns:\n",
    "    pct_missing = np.mean(items[col].isnull())\n",
    "    print('{} - {}%'.format(col, round(pct_missing*100)))"
   ]
  },
  {
   "cell_type": "code",
   "execution_count": 8,
   "metadata": {
    "scrolled": true
   },
   "outputs": [
    {
     "data": {
      "text/html": [
       "<div>\n",
       "<style scoped>\n",
       "    .dataframe tbody tr th:only-of-type {\n",
       "        vertical-align: middle;\n",
       "    }\n",
       "\n",
       "    .dataframe tbody tr th {\n",
       "        vertical-align: top;\n",
       "    }\n",
       "\n",
       "    .dataframe thead th {\n",
       "        text-align: right;\n",
       "    }\n",
       "</style>\n",
       "<table border=\"1\" class=\"dataframe\">\n",
       "  <thead>\n",
       "    <tr style=\"text-align: right;\">\n",
       "      <th></th>\n",
       "      <th>chb</th>\n",
       "      <th>sys_numb</th>\n",
       "      <th>date_1</th>\n",
       "      <th>is_real</th>\n",
       "      <th>type</th>\n",
       "      <th>source</th>\n",
       "      <th>is_printed</th>\n",
       "    </tr>\n",
       "  </thead>\n",
       "  <tbody>\n",
       "    <tr>\n",
       "      <th>6567</th>\n",
       "      <td>100000834421</td>\n",
       "      <td>RSL07000424807</td>\n",
       "      <td>2021-10-22</td>\n",
       "      <td>yes</td>\n",
       "      <td>книговыдача</td>\n",
       "      <td>2DL.Viewer</td>\n",
       "      <td>False</td>\n",
       "    </tr>\n",
       "    <tr>\n",
       "      <th>6573</th>\n",
       "      <td>100000834421</td>\n",
       "      <td>RSL07000432551</td>\n",
       "      <td>2021-10-22</td>\n",
       "      <td>yes</td>\n",
       "      <td>книговыдача</td>\n",
       "      <td>2DL.Viewer</td>\n",
       "      <td>False</td>\n",
       "    </tr>\n",
       "    <tr>\n",
       "      <th>6570</th>\n",
       "      <td>100000834421</td>\n",
       "      <td>RSL07000432552</td>\n",
       "      <td>2021-10-22</td>\n",
       "      <td>yes</td>\n",
       "      <td>книговыдача</td>\n",
       "      <td>2DL.Viewer</td>\n",
       "      <td>False</td>\n",
       "    </tr>\n",
       "    <tr>\n",
       "      <th>6571</th>\n",
       "      <td>100000834421</td>\n",
       "      <td>RSL07000432553</td>\n",
       "      <td>2021-10-22</td>\n",
       "      <td>yes</td>\n",
       "      <td>книговыдача</td>\n",
       "      <td>2DL.Viewer</td>\n",
       "      <td>False</td>\n",
       "    </tr>\n",
       "    <tr>\n",
       "      <th>6572</th>\n",
       "      <td>100000834421</td>\n",
       "      <td>RSL07000440441</td>\n",
       "      <td>2021-10-22</td>\n",
       "      <td>yes</td>\n",
       "      <td>книговыдача</td>\n",
       "      <td>2DL.Viewer</td>\n",
       "      <td>False</td>\n",
       "    </tr>\n",
       "    <tr>\n",
       "      <th>6568</th>\n",
       "      <td>100000834421</td>\n",
       "      <td>RSL07000456796</td>\n",
       "      <td>2021-10-18</td>\n",
       "      <td>yes</td>\n",
       "      <td>книговыдача</td>\n",
       "      <td>2DL.Viewer</td>\n",
       "      <td>False</td>\n",
       "    </tr>\n",
       "    <tr>\n",
       "      <th>6569</th>\n",
       "      <td>100000834421</td>\n",
       "      <td>RSL07000474065</td>\n",
       "      <td>2021-10-18</td>\n",
       "      <td>yes</td>\n",
       "      <td>книговыдача</td>\n",
       "      <td>2DL.Viewer</td>\n",
       "      <td>False</td>\n",
       "    </tr>\n",
       "  </tbody>\n",
       "</table>\n",
       "</div>"
      ],
      "text/plain": [
       "               chb        sys_numb      date_1 is_real         type  \\\n",
       "6567  100000834421  RSL07000424807  2021-10-22     yes  книговыдача   \n",
       "6573  100000834421  RSL07000432551  2021-10-22     yes  книговыдача   \n",
       "6570  100000834421  RSL07000432552  2021-10-22     yes  книговыдача   \n",
       "6571  100000834421  RSL07000432553  2021-10-22     yes  книговыдача   \n",
       "6572  100000834421  RSL07000440441  2021-10-22     yes  книговыдача   \n",
       "6568  100000834421  RSL07000456796  2021-10-18     yes  книговыдача   \n",
       "6569  100000834421  RSL07000474065  2021-10-18     yes  книговыдача   \n",
       "\n",
       "          source is_printed  \n",
       "6567  2DL.Viewer      False  \n",
       "6573  2DL.Viewer      False  \n",
       "6570  2DL.Viewer      False  \n",
       "6571  2DL.Viewer      False  \n",
       "6572  2DL.Viewer      False  \n",
       "6568  2DL.Viewer      False  \n",
       "6569  2DL.Viewer      False  "
      ]
     },
     "execution_count": 8,
     "metadata": {},
     "output_type": "execute_result"
    }
   ],
   "source": [
    "# число взаимодействий пользователя 100000834421 \n",
    "train[train['chb'] == '100000834421'].sort_values('sys_numb')"
   ]
  },
  {
   "cell_type": "markdown",
   "metadata": {},
   "source": [
    "взаимодействий читателя с книгами может быть меньше 20, при этом книги могут быть как выданы, так и не выданы"
   ]
  },
  {
   "cell_type": "markdown",
   "metadata": {},
   "source": [
    "## Проверка дубликатов"
   ]
  },
  {
   "cell_type": "code",
   "execution_count": 9,
   "metadata": {},
   "outputs": [
    {
     "name": "stdout",
     "output_type": "stream",
     "text": [
      "Количество дубликатов в users равно 0\n"
     ]
    }
   ],
   "source": [
    "print('Количество дубликатов в users равно', users.duplicated().sum())"
   ]
  },
  {
   "cell_type": "code",
   "execution_count": 10,
   "metadata": {
    "scrolled": true
   },
   "outputs": [
    {
     "name": "stdout",
     "output_type": "stream",
     "text": [
      "Количество дубликатов в items равно 0\n"
     ]
    }
   ],
   "source": [
    "print('Количество дубликатов в items равно', items.duplicated().sum())"
   ]
  },
  {
   "cell_type": "code",
   "execution_count": 11,
   "metadata": {
    "scrolled": true
   },
   "outputs": [
    {
     "name": "stdout",
     "output_type": "stream",
     "text": [
      "Количество дубликатов в train равно 0\n"
     ]
    }
   ],
   "source": [
    "print('Количество дубликатов в train равно', train.duplicated().sum())"
   ]
  },
  {
   "cell_type": "markdown",
   "metadata": {},
   "source": [
    "##### Вывод - Дубликатов в таблицах нет, все записи уникальны"
   ]
  },
  {
   "cell_type": "markdown",
   "metadata": {},
   "source": [
    "# Определим число строк в таблицах"
   ]
  },
  {
   "cell_type": "code",
   "execution_count": 12,
   "metadata": {
    "colab": {
     "base_uri": "https://localhost:8080/"
    },
    "id": "C6L-vQgH5Sbe",
    "outputId": "5488cb00-1254-4602-91e0-5ec164183e79"
   },
   "outputs": [
    {
     "name": "stdout",
     "output_type": "stream",
     "text": [
      "Кол-во пользователей: 16753\n",
      "Кол-во документов в истории пользователей: 194666\n",
      "Общее кол-во документов: 354355\n"
     ]
    }
   ],
   "source": [
    "print(f\"Кол-во пользователей: {len(train['chb'].unique())}\")\n",
    "print(f\"Кол-во документов в истории пользователей: {len(train['sys_numb'].unique())}\")\n",
    "print(f\"Общее кол-во документов: {len(items['sys_numb'].unique())}\")"
   ]
  },
  {
   "cell_type": "code",
   "execution_count": 13,
   "metadata": {
    "id": "tmD_grJB9wys"
   },
   "outputs": [],
   "source": [
    "#строго фиксируем кол-во пользователей и уникальных документов\n",
    "n_users = len(train['chb'].unique())\n",
    "n_items = len(items['sys_numb'].unique())"
   ]
  },
  {
   "cell_type": "code",
   "execution_count": 14,
   "metadata": {},
   "outputs": [
    {
     "name": "stdout",
     "output_type": "stream",
     "text": [
      "16753 354355\n"
     ]
    }
   ],
   "source": [
    "print(n_users, n_items)"
   ]
  },
  {
   "cell_type": "markdown",
   "metadata": {},
   "source": [
    "# Добавление информации о количестве взятых книг"
   ]
  },
  {
   "cell_type": "code",
   "execution_count": 15,
   "metadata": {
    "id": "zoGgv65M4NLp"
   },
   "outputs": [],
   "source": [
    "#Посмотрим сколько раз пользователи берут одну и ту же книгу\n",
    "train_transactions = train[['chb', \n",
    "                            'sys_numb']].groupby(['chb', 'sys_numb']).size().to_frame('taked').reset_index()"
   ]
  },
  {
   "cell_type": "code",
   "execution_count": 16,
   "metadata": {
    "scrolled": true
   },
   "outputs": [
    {
     "data": {
      "text/plain": [
       "0"
      ]
     },
     "execution_count": 16,
     "metadata": {},
     "output_type": "execute_result"
    }
   ],
   "source": [
    "# проверим дубликаты\n",
    "train_transactions.sort_values('sys_numb').duplicated().sum()"
   ]
  },
  {
   "cell_type": "code",
   "execution_count": 17,
   "metadata": {
    "scrolled": true
   },
   "outputs": [
    {
     "data": {
      "text/html": [
       "<div>\n",
       "<style scoped>\n",
       "    .dataframe tbody tr th:only-of-type {\n",
       "        vertical-align: middle;\n",
       "    }\n",
       "\n",
       "    .dataframe tbody tr th {\n",
       "        vertical-align: top;\n",
       "    }\n",
       "\n",
       "    .dataframe thead th {\n",
       "        text-align: right;\n",
       "    }\n",
       "</style>\n",
       "<table border=\"1\" class=\"dataframe\">\n",
       "  <thead>\n",
       "    <tr style=\"text-align: right;\">\n",
       "      <th></th>\n",
       "      <th>chb</th>\n",
       "      <th>sys_numb</th>\n",
       "      <th>taked</th>\n",
       "    </tr>\n",
       "  </thead>\n",
       "  <tbody>\n",
       "    <tr>\n",
       "      <th>0</th>\n",
       "      <td>100000641403</td>\n",
       "      <td>RSL01000769304</td>\n",
       "      <td>1</td>\n",
       "    </tr>\n",
       "    <tr>\n",
       "      <th>148355</th>\n",
       "      <td>300000865816</td>\n",
       "      <td>RSL01009576028</td>\n",
       "      <td>1</td>\n",
       "    </tr>\n",
       "    <tr>\n",
       "      <th>148357</th>\n",
       "      <td>300000865827</td>\n",
       "      <td>RSL01002306569</td>\n",
       "      <td>1</td>\n",
       "    </tr>\n",
       "    <tr>\n",
       "      <th>148358</th>\n",
       "      <td>300000865827</td>\n",
       "      <td>RSL01002589369</td>\n",
       "      <td>1</td>\n",
       "    </tr>\n",
       "    <tr>\n",
       "      <th>148359</th>\n",
       "      <td>300000865827</td>\n",
       "      <td>RSL01002617583</td>\n",
       "      <td>1</td>\n",
       "    </tr>\n",
       "    <tr>\n",
       "      <th>...</th>\n",
       "      <td>...</td>\n",
       "      <td>...</td>\n",
       "      <td>...</td>\n",
       "    </tr>\n",
       "    <tr>\n",
       "      <th>144698</th>\n",
       "      <td>300000850004</td>\n",
       "      <td>RSL01002745675</td>\n",
       "      <td>26</td>\n",
       "    </tr>\n",
       "    <tr>\n",
       "      <th>80884</th>\n",
       "      <td>200000957291</td>\n",
       "      <td>RSL01006724299</td>\n",
       "      <td>35</td>\n",
       "    </tr>\n",
       "    <tr>\n",
       "      <th>144763</th>\n",
       "      <td>300000850004</td>\n",
       "      <td>RSL01010175347</td>\n",
       "      <td>35</td>\n",
       "    </tr>\n",
       "    <tr>\n",
       "      <th>86257</th>\n",
       "      <td>200000987642</td>\n",
       "      <td>RSL01004357029</td>\n",
       "      <td>42</td>\n",
       "    </tr>\n",
       "    <tr>\n",
       "      <th>213726</th>\n",
       "      <td>300001090427</td>\n",
       "      <td>RSL07000449201</td>\n",
       "      <td>44</td>\n",
       "    </tr>\n",
       "  </tbody>\n",
       "</table>\n",
       "<p>229002 rows × 3 columns</p>\n",
       "</div>"
      ],
      "text/plain": [
       "                 chb        sys_numb  taked\n",
       "0       100000641403  RSL01000769304      1\n",
       "148355  300000865816  RSL01009576028      1\n",
       "148357  300000865827  RSL01002306569      1\n",
       "148358  300000865827  RSL01002589369      1\n",
       "148359  300000865827  RSL01002617583      1\n",
       "...              ...             ...    ...\n",
       "144698  300000850004  RSL01002745675     26\n",
       "80884   200000957291  RSL01006724299     35\n",
       "144763  300000850004  RSL01010175347     35\n",
       "86257   200000987642  RSL01004357029     42\n",
       "213726  300001090427  RSL07000449201     44\n",
       "\n",
       "[229002 rows x 3 columns]"
      ]
     },
     "execution_count": 17,
     "metadata": {},
     "output_type": "execute_result"
    }
   ],
   "source": [
    "# посмотрим содержимое \n",
    "train_transactions.sort_values('taked')"
   ]
  },
  {
   "cell_type": "code",
   "execution_count": 18,
   "metadata": {
    "scrolled": true
   },
   "outputs": [
    {
     "data": {
      "text/html": [
       "<div>\n",
       "<style scoped>\n",
       "    .dataframe tbody tr th:only-of-type {\n",
       "        vertical-align: middle;\n",
       "    }\n",
       "\n",
       "    .dataframe tbody tr th {\n",
       "        vertical-align: top;\n",
       "    }\n",
       "\n",
       "    .dataframe thead th {\n",
       "        text-align: right;\n",
       "    }\n",
       "</style>\n",
       "<table border=\"1\" class=\"dataframe\">\n",
       "  <thead>\n",
       "    <tr style=\"text-align: right;\">\n",
       "      <th></th>\n",
       "      <th>chb</th>\n",
       "      <th>sys_numb</th>\n",
       "      <th>taked</th>\n",
       "    </tr>\n",
       "  </thead>\n",
       "  <tbody>\n",
       "    <tr>\n",
       "      <th>0</th>\n",
       "      <td>100000641403</td>\n",
       "      <td>RSL01000769304</td>\n",
       "      <td>1</td>\n",
       "    </tr>\n",
       "    <tr>\n",
       "      <th>148355</th>\n",
       "      <td>300000865816</td>\n",
       "      <td>RSL01009576028</td>\n",
       "      <td>1</td>\n",
       "    </tr>\n",
       "    <tr>\n",
       "      <th>148357</th>\n",
       "      <td>300000865827</td>\n",
       "      <td>RSL01002306569</td>\n",
       "      <td>1</td>\n",
       "    </tr>\n",
       "    <tr>\n",
       "      <th>148358</th>\n",
       "      <td>300000865827</td>\n",
       "      <td>RSL01002589369</td>\n",
       "      <td>1</td>\n",
       "    </tr>\n",
       "    <tr>\n",
       "      <th>148359</th>\n",
       "      <td>300000865827</td>\n",
       "      <td>RSL01002617583</td>\n",
       "      <td>1</td>\n",
       "    </tr>\n",
       "    <tr>\n",
       "      <th>...</th>\n",
       "      <td>...</td>\n",
       "      <td>...</td>\n",
       "      <td>...</td>\n",
       "    </tr>\n",
       "    <tr>\n",
       "      <th>130377</th>\n",
       "      <td>200001154573</td>\n",
       "      <td>RSL01004246481</td>\n",
       "      <td>20</td>\n",
       "    </tr>\n",
       "    <tr>\n",
       "      <th>86247</th>\n",
       "      <td>200000987642</td>\n",
       "      <td>RSL01003955862</td>\n",
       "      <td>20</td>\n",
       "    </tr>\n",
       "    <tr>\n",
       "      <th>213726</th>\n",
       "      <td>300001090427</td>\n",
       "      <td>RSL07000449201</td>\n",
       "      <td>20</td>\n",
       "    </tr>\n",
       "    <tr>\n",
       "      <th>121849</th>\n",
       "      <td>200001113118</td>\n",
       "      <td>RSL01006754569</td>\n",
       "      <td>20</td>\n",
       "    </tr>\n",
       "    <tr>\n",
       "      <th>144763</th>\n",
       "      <td>300000850004</td>\n",
       "      <td>RSL01010175347</td>\n",
       "      <td>20</td>\n",
       "    </tr>\n",
       "  </tbody>\n",
       "</table>\n",
       "<p>229002 rows × 3 columns</p>\n",
       "</div>"
      ],
      "text/plain": [
       "                 chb        sys_numb  taked\n",
       "0       100000641403  RSL01000769304      1\n",
       "148355  300000865816  RSL01009576028      1\n",
       "148357  300000865827  RSL01002306569      1\n",
       "148358  300000865827  RSL01002589369      1\n",
       "148359  300000865827  RSL01002617583      1\n",
       "...              ...             ...    ...\n",
       "130377  200001154573  RSL01004246481     20\n",
       "86247   200000987642  RSL01003955862     20\n",
       "213726  300001090427  RSL07000449201     20\n",
       "121849  200001113118  RSL01006754569     20\n",
       "144763  300000850004  RSL01010175347     20\n",
       "\n",
       "[229002 rows x 3 columns]"
      ]
     },
     "execution_count": 18,
     "metadata": {},
     "output_type": "execute_result"
    }
   ],
   "source": [
    "# если рейтинг больше 20 заменим значения на 20\n",
    "train_transactions.loc[(train_transactions.taked > 20), 'taked'] = 20\n",
    "train_transactions[['taked']].astype('int64')\n",
    "train_transactions.sort_values('taked')"
   ]
  },
  {
   "cell_type": "code",
   "execution_count": 19,
   "metadata": {
    "scrolled": false
   },
   "outputs": [
    {
     "data": {
      "text/plain": [
       "Text(0.5, 1.0, 'Распределение Книга - Число взаимодействий с читателем')"
      ]
     },
     "execution_count": 19,
     "metadata": {},
     "output_type": "execute_result"
    },
    {
     "data": {
      "image/png": "[encoded data removed]",
      "text/plain": [
       "<Figure size 432x288 with 1 Axes>"
      ]
     },
     "metadata": {
      "needs_background": "light"
     },
     "output_type": "display_data"
    }
   ],
   "source": [
    "sns.countplot(x = \"taked\" , data  = train_transactions).set_title('Распределение Книга - Число взаимодействий с читателем')"
   ]
  },
  {
   "cell_type": "markdown",
   "metadata": {},
   "source": [
    "В подавляющем большинстве случаев книгу берут единственный раз"
   ]
  },
  {
   "cell_type": "code",
   "execution_count": 20,
   "metadata": {
    "scrolled": false
   },
   "outputs": [
    {
     "data": {
      "text/html": [
       "<div>\n",
       "<style scoped>\n",
       "    .dataframe tbody tr th:only-of-type {\n",
       "        vertical-align: middle;\n",
       "    }\n",
       "\n",
       "    .dataframe tbody tr th {\n",
       "        vertical-align: top;\n",
       "    }\n",
       "\n",
       "    .dataframe thead th {\n",
       "        text-align: right;\n",
       "    }\n",
       "</style>\n",
       "<table border=\"1\" class=\"dataframe\">\n",
       "  <thead>\n",
       "    <tr style=\"text-align: right;\">\n",
       "      <th></th>\n",
       "      <th>chb</th>\n",
       "      <th>taked</th>\n",
       "      <th>Books</th>\n",
       "    </tr>\n",
       "  </thead>\n",
       "  <tbody>\n",
       "    <tr>\n",
       "      <th>10973</th>\n",
       "      <td>200001084452</td>\n",
       "      <td>1</td>\n",
       "      <td>1</td>\n",
       "    </tr>\n",
       "    <tr>\n",
       "      <th>5343</th>\n",
       "      <td>200000897194</td>\n",
       "      <td>6</td>\n",
       "      <td>1</td>\n",
       "    </tr>\n",
       "    <tr>\n",
       "      <th>18247</th>\n",
       "      <td>300000993621</td>\n",
       "      <td>5</td>\n",
       "      <td>1</td>\n",
       "    </tr>\n",
       "    <tr>\n",
       "      <th>5337</th>\n",
       "      <td>200000896658</td>\n",
       "      <td>3</td>\n",
       "      <td>1</td>\n",
       "    </tr>\n",
       "    <tr>\n",
       "      <th>5336</th>\n",
       "      <td>200000896658</td>\n",
       "      <td>2</td>\n",
       "      <td>1</td>\n",
       "    </tr>\n",
       "    <tr>\n",
       "      <th>...</th>\n",
       "      <td>...</td>\n",
       "      <td>...</td>\n",
       "      <td>...</td>\n",
       "    </tr>\n",
       "    <tr>\n",
       "      <th>12634</th>\n",
       "      <td>200001132993</td>\n",
       "      <td>1</td>\n",
       "      <td>1146</td>\n",
       "    </tr>\n",
       "    <tr>\n",
       "      <th>16702</th>\n",
       "      <td>300000933517</td>\n",
       "      <td>1</td>\n",
       "      <td>1261</td>\n",
       "    </tr>\n",
       "    <tr>\n",
       "      <th>13553</th>\n",
       "      <td>300000758346</td>\n",
       "      <td>1</td>\n",
       "      <td>1642</td>\n",
       "    </tr>\n",
       "    <tr>\n",
       "      <th>3806</th>\n",
       "      <td>200000789223</td>\n",
       "      <td>1</td>\n",
       "      <td>3415</td>\n",
       "    </tr>\n",
       "    <tr>\n",
       "      <th>5011</th>\n",
       "      <td>200000872413</td>\n",
       "      <td>1</td>\n",
       "      <td>6582</td>\n",
       "    </tr>\n",
       "  </tbody>\n",
       "</table>\n",
       "<p>25303 rows × 3 columns</p>\n",
       "</div>"
      ],
      "text/plain": [
       "                chb  taked  Books\n",
       "10973  200001084452      1      1\n",
       "5343   200000897194      6      1\n",
       "18247  300000993621      5      1\n",
       "5337   200000896658      3      1\n",
       "5336   200000896658      2      1\n",
       "...             ...    ...    ...\n",
       "12634  200001132993      1   1146\n",
       "16702  300000933517      1   1261\n",
       "13553  300000758346      1   1642\n",
       "3806   200000789223      1   3415\n",
       "5011   200000872413      1   6582\n",
       "\n",
       "[25303 rows x 3 columns]"
      ]
     },
     "execution_count": 20,
     "metadata": {},
     "output_type": "execute_result"
    }
   ],
   "source": [
    "# проверим, сколько наименований книг приходится на одного читателя\n",
    "train_book_per_user = train_transactions[['chb', 'sys_numb', 'taked']].groupby(['chb', 'taked']).size().to_frame('Books').reset_index().sort_values('Books')\n",
    "train_book_per_user"
   ]
  },
  {
   "cell_type": "markdown",
   "metadata": {},
   "source": [
    "Как выяснилось, мы должны дать рекомендации и тем, кто брал 2 книги 2 раза, и тем, кто брал 6671 книги"
   ]
  },
  {
   "cell_type": "code",
   "execution_count": 21,
   "metadata": {
    "scrolled": true
   },
   "outputs": [
    {
     "data": {
      "text/html": [
       "<div>\n",
       "<style scoped>\n",
       "    .dataframe tbody tr th:only-of-type {\n",
       "        vertical-align: middle;\n",
       "    }\n",
       "\n",
       "    .dataframe tbody tr th {\n",
       "        vertical-align: top;\n",
       "    }\n",
       "\n",
       "    .dataframe thead th {\n",
       "        text-align: right;\n",
       "    }\n",
       "</style>\n",
       "<table border=\"1\" class=\"dataframe\">\n",
       "  <thead>\n",
       "    <tr style=\"text-align: right;\">\n",
       "      <th></th>\n",
       "      <th>chb</th>\n",
       "      <th>taked</th>\n",
       "      <th>Books</th>\n",
       "    </tr>\n",
       "  </thead>\n",
       "  <tbody>\n",
       "    <tr>\n",
       "      <th>5014</th>\n",
       "      <td>200000872413</td>\n",
       "      <td>4</td>\n",
       "      <td>1</td>\n",
       "    </tr>\n",
       "    <tr>\n",
       "      <th>5013</th>\n",
       "      <td>200000872413</td>\n",
       "      <td>3</td>\n",
       "      <td>3</td>\n",
       "    </tr>\n",
       "    <tr>\n",
       "      <th>5012</th>\n",
       "      <td>200000872413</td>\n",
       "      <td>2</td>\n",
       "      <td>85</td>\n",
       "    </tr>\n",
       "    <tr>\n",
       "      <th>5011</th>\n",
       "      <td>200000872413</td>\n",
       "      <td>1</td>\n",
       "      <td>6582</td>\n",
       "    </tr>\n",
       "  </tbody>\n",
       "</table>\n",
       "</div>"
      ],
      "text/plain": [
       "               chb  taked  Books\n",
       "5014  200000872413      4      1\n",
       "5013  200000872413      3      3\n",
       "5012  200000872413      2     85\n",
       "5011  200000872413      1   6582"
      ]
     },
     "execution_count": 21,
     "metadata": {},
     "output_type": "execute_result"
    }
   ],
   "source": [
    "# число взаимодействий пользователя 300001122685 \n",
    "train_book_per_user[train_book_per_user['chb'] == '200000872413'].sort_values('Books')"
   ]
  },
  {
   "cell_type": "code",
   "execution_count": 22,
   "metadata": {
    "scrolled": true
   },
   "outputs": [
    {
     "data": {
      "text/html": [
       "<div>\n",
       "<style scoped>\n",
       "    .dataframe tbody tr th:only-of-type {\n",
       "        vertical-align: middle;\n",
       "    }\n",
       "\n",
       "    .dataframe tbody tr th {\n",
       "        vertical-align: top;\n",
       "    }\n",
       "\n",
       "    .dataframe thead th {\n",
       "        text-align: right;\n",
       "    }\n",
       "</style>\n",
       "<table border=\"1\" class=\"dataframe\">\n",
       "  <thead>\n",
       "    <tr style=\"text-align: right;\">\n",
       "      <th></th>\n",
       "      <th>chb</th>\n",
       "      <th>sys_numb</th>\n",
       "      <th>taked</th>\n",
       "    </tr>\n",
       "  </thead>\n",
       "  <tbody>\n",
       "    <tr>\n",
       "      <th>22664</th>\n",
       "      <td>100000989544</td>\n",
       "      <td>RSL01005233583</td>\n",
       "      <td>2</td>\n",
       "    </tr>\n",
       "    <tr>\n",
       "      <th>22622</th>\n",
       "      <td>100000989544</td>\n",
       "      <td>RSL01000570745</td>\n",
       "      <td>1</td>\n",
       "    </tr>\n",
       "    <tr>\n",
       "      <th>22671</th>\n",
       "      <td>100000989544</td>\n",
       "      <td>RSL01005345345</td>\n",
       "      <td>1</td>\n",
       "    </tr>\n",
       "    <tr>\n",
       "      <th>22678</th>\n",
       "      <td>100000989544</td>\n",
       "      <td>RSL01006278909</td>\n",
       "      <td>1</td>\n",
       "    </tr>\n",
       "    <tr>\n",
       "      <th>22677</th>\n",
       "      <td>100000989544</td>\n",
       "      <td>RSL01006016871</td>\n",
       "      <td>1</td>\n",
       "    </tr>\n",
       "    <tr>\n",
       "      <th>...</th>\n",
       "      <td>...</td>\n",
       "      <td>...</td>\n",
       "      <td>...</td>\n",
       "    </tr>\n",
       "    <tr>\n",
       "      <th>22647</th>\n",
       "      <td>100000989544</td>\n",
       "      <td>RSL01004985024</td>\n",
       "      <td>1</td>\n",
       "    </tr>\n",
       "    <tr>\n",
       "      <th>22646</th>\n",
       "      <td>100000989544</td>\n",
       "      <td>RSL01004873271</td>\n",
       "      <td>1</td>\n",
       "    </tr>\n",
       "    <tr>\n",
       "      <th>22645</th>\n",
       "      <td>100000989544</td>\n",
       "      <td>RSL01004383170</td>\n",
       "      <td>1</td>\n",
       "    </tr>\n",
       "    <tr>\n",
       "      <th>22644</th>\n",
       "      <td>100000989544</td>\n",
       "      <td>RSL01004328112</td>\n",
       "      <td>1</td>\n",
       "    </tr>\n",
       "    <tr>\n",
       "      <th>22699</th>\n",
       "      <td>100000989544</td>\n",
       "      <td>RSL07000405397</td>\n",
       "      <td>1</td>\n",
       "    </tr>\n",
       "  </tbody>\n",
       "</table>\n",
       "<p>78 rows × 3 columns</p>\n",
       "</div>"
      ],
      "text/plain": [
       "                chb        sys_numb  taked\n",
       "22664  100000989544  RSL01005233583      2\n",
       "22622  100000989544  RSL01000570745      1\n",
       "22671  100000989544  RSL01005345345      1\n",
       "22678  100000989544  RSL01006278909      1\n",
       "22677  100000989544  RSL01006016871      1\n",
       "...             ...             ...    ...\n",
       "22647  100000989544  RSL01004985024      1\n",
       "22646  100000989544  RSL01004873271      1\n",
       "22645  100000989544  RSL01004383170      1\n",
       "22644  100000989544  RSL01004328112      1\n",
       "22699  100000989544  RSL07000405397      1\n",
       "\n",
       "[78 rows x 3 columns]"
      ]
     },
     "execution_count": 22,
     "metadata": {},
     "output_type": "execute_result"
    }
   ],
   "source": [
    "train_transactions[train_transactions['chb'] == '100000989544'].sort_values('taked', ascending=False)"
   ]
  },
  {
   "cell_type": "markdown",
   "metadata": {},
   "source": [
    "Даже пользователь, взявший 6671 книг имеет свои предпочтения и определенные книги берет чаще"
   ]
  },
  {
   "cell_type": "code",
   "execution_count": 23,
   "metadata": {
    "scrolled": false
   },
   "outputs": [
    {
     "data": {
      "text/plain": [
       "Text(0.5, 1.0, 'Распределение по количеству взятых книг')"
      ]
     },
     "execution_count": 23,
     "metadata": {},
     "output_type": "execute_result"
    },
    {
     "data": {
      "image/png": "[encoded data removed]",
      "text/plain": [
       "<Figure size 432x288 with 1 Axes>"
      ]
     },
     "metadata": {
      "needs_background": "light"
     },
     "output_type": "display_data"
    }
   ],
   "source": [
    "# посмотрим распределение\n",
    "train_book_per_user[\"Books\"].plot.hist(bins=100).set_title('Распределение по количеству взятых книг')"
   ]
  },
  {
   "cell_type": "code",
   "execution_count": 24,
   "metadata": {
    "scrolled": true
   },
   "outputs": [
    {
     "data": {
      "text/plain": [
       "Text(0.5, 1.0, 'Распределение по количеству взятых книг')"
      ]
     },
     "execution_count": 24,
     "metadata": {},
     "output_type": "execute_result"
    },
    {
     "data": {
      "image/png": "[encoded data removed]",
      "text/plain": [
       "<Figure size 432x288 with 1 Axes>"
      ]
     },
     "metadata": {
      "needs_background": "light"
     },
     "output_type": "display_data"
    }
   ],
   "source": [
    "# для улучшения визуализации используем логарифмическую шкалу\n",
    "train_book_per_user[\"Books\"].plot.hist(bins=100, logy = True).set_title('Распределение по количеству взятых книг')"
   ]
  },
  {
   "cell_type": "markdown",
   "metadata": {},
   "source": [
    "Судя по распределению, количество взятых книг не превышает, как правило, нескольких сотен"
   ]
  },
  {
   "cell_type": "code",
   "execution_count": 25,
   "metadata": {
    "scrolled": true
   },
   "outputs": [
    {
     "data": {
      "text/html": [
       "<div>\n",
       "<style scoped>\n",
       "    .dataframe tbody tr th:only-of-type {\n",
       "        vertical-align: middle;\n",
       "    }\n",
       "\n",
       "    .dataframe tbody tr th {\n",
       "        vertical-align: top;\n",
       "    }\n",
       "\n",
       "    .dataframe thead th {\n",
       "        text-align: right;\n",
       "    }\n",
       "</style>\n",
       "<table border=\"1\" class=\"dataframe\">\n",
       "  <thead>\n",
       "    <tr style=\"text-align: right;\">\n",
       "      <th></th>\n",
       "      <th>chb</th>\n",
       "      <th>sys_numb</th>\n",
       "      <th>taked</th>\n",
       "      <th>number_of_books</th>\n",
       "    </tr>\n",
       "  </thead>\n",
       "  <tbody>\n",
       "    <tr>\n",
       "      <th>22664</th>\n",
       "      <td>100000989544</td>\n",
       "      <td>RSL01005233583</td>\n",
       "      <td>2</td>\n",
       "      <td>1</td>\n",
       "    </tr>\n",
       "    <tr>\n",
       "      <th>171779</th>\n",
       "      <td>300000968941</td>\n",
       "      <td>RSL01003615897</td>\n",
       "      <td>2</td>\n",
       "      <td>1</td>\n",
       "    </tr>\n",
       "    <tr>\n",
       "      <th>171882</th>\n",
       "      <td>300000969207</td>\n",
       "      <td>RSL01002635488</td>\n",
       "      <td>2</td>\n",
       "      <td>1</td>\n",
       "    </tr>\n",
       "    <tr>\n",
       "      <th>171951</th>\n",
       "      <td>300000969499</td>\n",
       "      <td>RSL01010106213</td>\n",
       "      <td>3</td>\n",
       "      <td>1</td>\n",
       "    </tr>\n",
       "    <tr>\n",
       "      <th>171967</th>\n",
       "      <td>300000969684</td>\n",
       "      <td>RSL01004066232</td>\n",
       "      <td>4</td>\n",
       "      <td>1</td>\n",
       "    </tr>\n",
       "    <tr>\n",
       "      <th>...</th>\n",
       "      <td>...</td>\n",
       "      <td>...</td>\n",
       "      <td>...</td>\n",
       "      <td>...</td>\n",
       "    </tr>\n",
       "    <tr>\n",
       "      <th>62486</th>\n",
       "      <td>200000872413</td>\n",
       "      <td>RSL01009499367</td>\n",
       "      <td>1</td>\n",
       "      <td>6582</td>\n",
       "    </tr>\n",
       "    <tr>\n",
       "      <th>62487</th>\n",
       "      <td>200000872413</td>\n",
       "      <td>RSL01009499378</td>\n",
       "      <td>1</td>\n",
       "      <td>6582</td>\n",
       "    </tr>\n",
       "    <tr>\n",
       "      <th>62488</th>\n",
       "      <td>200000872413</td>\n",
       "      <td>RSL01009499432</td>\n",
       "      <td>1</td>\n",
       "      <td>6582</td>\n",
       "    </tr>\n",
       "    <tr>\n",
       "      <th>62490</th>\n",
       "      <td>200000872413</td>\n",
       "      <td>RSL01009499863</td>\n",
       "      <td>1</td>\n",
       "      <td>6582</td>\n",
       "    </tr>\n",
       "    <tr>\n",
       "      <th>61528</th>\n",
       "      <td>200000872413</td>\n",
       "      <td>RSL01008762609</td>\n",
       "      <td>1</td>\n",
       "      <td>6582</td>\n",
       "    </tr>\n",
       "  </tbody>\n",
       "</table>\n",
       "<p>229002 rows × 4 columns</p>\n",
       "</div>"
      ],
      "text/plain": [
       "                 chb        sys_numb  taked  number_of_books\n",
       "22664   100000989544  RSL01005233583      2                1\n",
       "171779  300000968941  RSL01003615897      2                1\n",
       "171882  300000969207  RSL01002635488      2                1\n",
       "171951  300000969499  RSL01010106213      3                1\n",
       "171967  300000969684  RSL01004066232      4                1\n",
       "...              ...             ...    ...              ...\n",
       "62486   200000872413  RSL01009499367      1             6582\n",
       "62487   200000872413  RSL01009499378      1             6582\n",
       "62488   200000872413  RSL01009499432      1             6582\n",
       "62490   200000872413  RSL01009499863      1             6582\n",
       "61528   200000872413  RSL01008762609      1             6582\n",
       "\n",
       "[229002 rows x 4 columns]"
      ]
     },
     "execution_count": 25,
     "metadata": {},
     "output_type": "execute_result"
    }
   ],
   "source": [
    "train_transactions['number_of_books'] = train_transactions.groupby(['chb', 'taked'])['taked'].transform('size')\n",
    "\n",
    "train_transactions.sort_values('number_of_books')"
   ]
  },
  {
   "cell_type": "code",
   "execution_count": 26,
   "metadata": {
    "scrolled": true
   },
   "outputs": [
    {
     "data": {
      "text/html": [
       "<div>\n",
       "<style scoped>\n",
       "    .dataframe tbody tr th:only-of-type {\n",
       "        vertical-align: middle;\n",
       "    }\n",
       "\n",
       "    .dataframe tbody tr th {\n",
       "        vertical-align: top;\n",
       "    }\n",
       "\n",
       "    .dataframe thead th {\n",
       "        text-align: right;\n",
       "    }\n",
       "</style>\n",
       "<table border=\"1\" class=\"dataframe\">\n",
       "  <thead>\n",
       "    <tr style=\"text-align: right;\">\n",
       "      <th></th>\n",
       "      <th>chb</th>\n",
       "      <th>sys_numb</th>\n",
       "      <th>taked</th>\n",
       "      <th>number_of_books</th>\n",
       "    </tr>\n",
       "  </thead>\n",
       "  <tbody>\n",
       "    <tr>\n",
       "      <th>64518</th>\n",
       "      <td>200000872413</td>\n",
       "      <td>RSL01010172357</td>\n",
       "      <td>4</td>\n",
       "      <td>1</td>\n",
       "    </tr>\n",
       "    <tr>\n",
       "      <th>61741</th>\n",
       "      <td>200000872413</td>\n",
       "      <td>RSL01008776382</td>\n",
       "      <td>3</td>\n",
       "      <td>3</td>\n",
       "    </tr>\n",
       "    <tr>\n",
       "      <th>60725</th>\n",
       "      <td>200000872413</td>\n",
       "      <td>RSL01008648818</td>\n",
       "      <td>3</td>\n",
       "      <td>3</td>\n",
       "    </tr>\n",
       "    <tr>\n",
       "      <th>63474</th>\n",
       "      <td>200000872413</td>\n",
       "      <td>RSL01010170230</td>\n",
       "      <td>3</td>\n",
       "      <td>3</td>\n",
       "    </tr>\n",
       "    <tr>\n",
       "      <th>64238</th>\n",
       "      <td>200000872413</td>\n",
       "      <td>RSL01010171785</td>\n",
       "      <td>2</td>\n",
       "      <td>85</td>\n",
       "    </tr>\n",
       "    <tr>\n",
       "      <th>...</th>\n",
       "      <td>...</td>\n",
       "      <td>...</td>\n",
       "      <td>...</td>\n",
       "      <td>...</td>\n",
       "    </tr>\n",
       "    <tr>\n",
       "      <th>61105</th>\n",
       "      <td>200000872413</td>\n",
       "      <td>RSL01008683842</td>\n",
       "      <td>1</td>\n",
       "      <td>6582</td>\n",
       "    </tr>\n",
       "    <tr>\n",
       "      <th>61104</th>\n",
       "      <td>200000872413</td>\n",
       "      <td>RSL01008683825</td>\n",
       "      <td>1</td>\n",
       "      <td>6582</td>\n",
       "    </tr>\n",
       "    <tr>\n",
       "      <th>61103</th>\n",
       "      <td>200000872413</td>\n",
       "      <td>RSL01008683725</td>\n",
       "      <td>1</td>\n",
       "      <td>6582</td>\n",
       "    </tr>\n",
       "    <tr>\n",
       "      <th>61113</th>\n",
       "      <td>200000872413</td>\n",
       "      <td>RSL01008684386</td>\n",
       "      <td>1</td>\n",
       "      <td>6582</td>\n",
       "    </tr>\n",
       "    <tr>\n",
       "      <th>65537</th>\n",
       "      <td>200000872413</td>\n",
       "      <td>RSL60000347944</td>\n",
       "      <td>1</td>\n",
       "      <td>6582</td>\n",
       "    </tr>\n",
       "  </tbody>\n",
       "</table>\n",
       "<p>6671 rows × 4 columns</p>\n",
       "</div>"
      ],
      "text/plain": [
       "                chb        sys_numb  taked  number_of_books\n",
       "64518  200000872413  RSL01010172357      4                1\n",
       "61741  200000872413  RSL01008776382      3                3\n",
       "60725  200000872413  RSL01008648818      3                3\n",
       "63474  200000872413  RSL01010170230      3                3\n",
       "64238  200000872413  RSL01010171785      2               85\n",
       "...             ...             ...    ...              ...\n",
       "61105  200000872413  RSL01008683842      1             6582\n",
       "61104  200000872413  RSL01008683825      1             6582\n",
       "61103  200000872413  RSL01008683725      1             6582\n",
       "61113  200000872413  RSL01008684386      1             6582\n",
       "65537  200000872413  RSL60000347944      1             6582\n",
       "\n",
       "[6671 rows x 4 columns]"
      ]
     },
     "execution_count": 26,
     "metadata": {},
     "output_type": "execute_result"
    }
   ],
   "source": [
    "train_transactions[train_transactions['chb'] == '200000872413'].sort_values('number_of_books')"
   ]
  },
  {
   "cell_type": "code",
   "execution_count": 27,
   "metadata": {
    "scrolled": true
   },
   "outputs": [
    {
     "data": {
      "text/html": [
       "<div>\n",
       "<style scoped>\n",
       "    .dataframe tbody tr th:only-of-type {\n",
       "        vertical-align: middle;\n",
       "    }\n",
       "\n",
       "    .dataframe tbody tr th {\n",
       "        vertical-align: top;\n",
       "    }\n",
       "\n",
       "    .dataframe thead th {\n",
       "        text-align: right;\n",
       "    }\n",
       "</style>\n",
       "<table border=\"1\" class=\"dataframe\">\n",
       "  <thead>\n",
       "    <tr style=\"text-align: right;\">\n",
       "      <th></th>\n",
       "      <th>chb</th>\n",
       "      <th>sys_numb</th>\n",
       "      <th>taked</th>\n",
       "      <th>number_of_books</th>\n",
       "      <th>max_taked</th>\n",
       "    </tr>\n",
       "  </thead>\n",
       "  <tbody>\n",
       "    <tr>\n",
       "      <th>22664</th>\n",
       "      <td>100000989544</td>\n",
       "      <td>RSL01005233583</td>\n",
       "      <td>2</td>\n",
       "      <td>1</td>\n",
       "      <td>2</td>\n",
       "    </tr>\n",
       "    <tr>\n",
       "      <th>171779</th>\n",
       "      <td>300000968941</td>\n",
       "      <td>RSL01003615897</td>\n",
       "      <td>2</td>\n",
       "      <td>1</td>\n",
       "      <td>2</td>\n",
       "    </tr>\n",
       "    <tr>\n",
       "      <th>171882</th>\n",
       "      <td>300000969207</td>\n",
       "      <td>RSL01002635488</td>\n",
       "      <td>2</td>\n",
       "      <td>1</td>\n",
       "      <td>2</td>\n",
       "    </tr>\n",
       "    <tr>\n",
       "      <th>171951</th>\n",
       "      <td>300000969499</td>\n",
       "      <td>RSL01010106213</td>\n",
       "      <td>3</td>\n",
       "      <td>1</td>\n",
       "      <td>3</td>\n",
       "    </tr>\n",
       "    <tr>\n",
       "      <th>171967</th>\n",
       "      <td>300000969684</td>\n",
       "      <td>RSL01004066232</td>\n",
       "      <td>4</td>\n",
       "      <td>1</td>\n",
       "      <td>4</td>\n",
       "    </tr>\n",
       "    <tr>\n",
       "      <th>...</th>\n",
       "      <td>...</td>\n",
       "      <td>...</td>\n",
       "      <td>...</td>\n",
       "      <td>...</td>\n",
       "      <td>...</td>\n",
       "    </tr>\n",
       "    <tr>\n",
       "      <th>62486</th>\n",
       "      <td>200000872413</td>\n",
       "      <td>RSL01009499367</td>\n",
       "      <td>1</td>\n",
       "      <td>6582</td>\n",
       "      <td>4</td>\n",
       "    </tr>\n",
       "    <tr>\n",
       "      <th>62487</th>\n",
       "      <td>200000872413</td>\n",
       "      <td>RSL01009499378</td>\n",
       "      <td>1</td>\n",
       "      <td>6582</td>\n",
       "      <td>4</td>\n",
       "    </tr>\n",
       "    <tr>\n",
       "      <th>62488</th>\n",
       "      <td>200000872413</td>\n",
       "      <td>RSL01009499432</td>\n",
       "      <td>1</td>\n",
       "      <td>6582</td>\n",
       "      <td>4</td>\n",
       "    </tr>\n",
       "    <tr>\n",
       "      <th>62490</th>\n",
       "      <td>200000872413</td>\n",
       "      <td>RSL01009499863</td>\n",
       "      <td>1</td>\n",
       "      <td>6582</td>\n",
       "      <td>4</td>\n",
       "    </tr>\n",
       "    <tr>\n",
       "      <th>61528</th>\n",
       "      <td>200000872413</td>\n",
       "      <td>RSL01008762609</td>\n",
       "      <td>1</td>\n",
       "      <td>6582</td>\n",
       "      <td>4</td>\n",
       "    </tr>\n",
       "  </tbody>\n",
       "</table>\n",
       "<p>229002 rows × 5 columns</p>\n",
       "</div>"
      ],
      "text/plain": [
       "                 chb        sys_numb  taked  number_of_books  max_taked\n",
       "22664   100000989544  RSL01005233583      2                1          2\n",
       "171779  300000968941  RSL01003615897      2                1          2\n",
       "171882  300000969207  RSL01002635488      2                1          2\n",
       "171951  300000969499  RSL01010106213      3                1          3\n",
       "171967  300000969684  RSL01004066232      4                1          4\n",
       "...              ...             ...    ...              ...        ...\n",
       "62486   200000872413  RSL01009499367      1             6582          4\n",
       "62487   200000872413  RSL01009499378      1             6582          4\n",
       "62488   200000872413  RSL01009499432      1             6582          4\n",
       "62490   200000872413  RSL01009499863      1             6582          4\n",
       "61528   200000872413  RSL01008762609      1             6582          4\n",
       "\n",
       "[229002 rows x 5 columns]"
      ]
     },
     "execution_count": 27,
     "metadata": {},
     "output_type": "execute_result"
    }
   ],
   "source": [
    "train_transactions['max_taked'] = train_transactions.groupby(['chb'])['taked'].transform('max')\n",
    "\n",
    "train_transactions.sort_values('number_of_books')"
   ]
  },
  {
   "cell_type": "markdown",
   "metadata": {},
   "source": [
    "У нас есть следующие данные:\\\n",
    "**chb** - читатель\\\n",
    "**sys_numb** -  системный номер документа\\\n",
    "**taked** - сколько раз читатель взял книгу\\\n",
    "**number_of_books** - количество книг, которое читатель взял определенное число раз\\\n",
    "**max_taked** - максимальное число взаимодействий читателя с одной книгой"
   ]
  },
  {
   "cell_type": "code",
   "execution_count": 28,
   "metadata": {
    "scrolled": false
   },
   "outputs": [
    {
     "data": {
      "text/html": [
       "<div>\n",
       "<style scoped>\n",
       "    .dataframe tbody tr th:only-of-type {\n",
       "        vertical-align: middle;\n",
       "    }\n",
       "\n",
       "    .dataframe tbody tr th {\n",
       "        vertical-align: top;\n",
       "    }\n",
       "\n",
       "    .dataframe thead th {\n",
       "        text-align: right;\n",
       "    }\n",
       "</style>\n",
       "<table border=\"1\" class=\"dataframe\">\n",
       "  <thead>\n",
       "    <tr style=\"text-align: right;\">\n",
       "      <th></th>\n",
       "      <th>chb</th>\n",
       "      <th>sys_numb</th>\n",
       "      <th>taked</th>\n",
       "      <th>number_of_books</th>\n",
       "      <th>max_taked</th>\n",
       "    </tr>\n",
       "  </thead>\n",
       "  <tbody>\n",
       "    <tr>\n",
       "      <th>58867</th>\n",
       "      <td>200000872413</td>\n",
       "      <td>RSL01000306525</td>\n",
       "      <td>1</td>\n",
       "      <td>6582</td>\n",
       "      <td>4</td>\n",
       "    </tr>\n",
       "    <tr>\n",
       "      <th>63298</th>\n",
       "      <td>200000872413</td>\n",
       "      <td>RSL01009825267</td>\n",
       "      <td>1</td>\n",
       "      <td>6582</td>\n",
       "      <td>4</td>\n",
       "    </tr>\n",
       "    <tr>\n",
       "      <th>63297</th>\n",
       "      <td>200000872413</td>\n",
       "      <td>RSL01009825049</td>\n",
       "      <td>1</td>\n",
       "      <td>6582</td>\n",
       "      <td>4</td>\n",
       "    </tr>\n",
       "    <tr>\n",
       "      <th>63296</th>\n",
       "      <td>200000872413</td>\n",
       "      <td>RSL01009824744</td>\n",
       "      <td>1</td>\n",
       "      <td>6582</td>\n",
       "      <td>4</td>\n",
       "    </tr>\n",
       "    <tr>\n",
       "      <th>63295</th>\n",
       "      <td>200000872413</td>\n",
       "      <td>RSL01009822307</td>\n",
       "      <td>1</td>\n",
       "      <td>6582</td>\n",
       "      <td>4</td>\n",
       "    </tr>\n",
       "    <tr>\n",
       "      <th>...</th>\n",
       "      <td>...</td>\n",
       "      <td>...</td>\n",
       "      <td>...</td>\n",
       "      <td>...</td>\n",
       "      <td>...</td>\n",
       "    </tr>\n",
       "    <tr>\n",
       "      <th>64672</th>\n",
       "      <td>200000872413</td>\n",
       "      <td>RSL01010172650</td>\n",
       "      <td>2</td>\n",
       "      <td>85</td>\n",
       "      <td>4</td>\n",
       "    </tr>\n",
       "    <tr>\n",
       "      <th>60725</th>\n",
       "      <td>200000872413</td>\n",
       "      <td>RSL01008648818</td>\n",
       "      <td>3</td>\n",
       "      <td>3</td>\n",
       "      <td>4</td>\n",
       "    </tr>\n",
       "    <tr>\n",
       "      <th>61741</th>\n",
       "      <td>200000872413</td>\n",
       "      <td>RSL01008776382</td>\n",
       "      <td>3</td>\n",
       "      <td>3</td>\n",
       "      <td>4</td>\n",
       "    </tr>\n",
       "    <tr>\n",
       "      <th>63474</th>\n",
       "      <td>200000872413</td>\n",
       "      <td>RSL01010170230</td>\n",
       "      <td>3</td>\n",
       "      <td>3</td>\n",
       "      <td>4</td>\n",
       "    </tr>\n",
       "    <tr>\n",
       "      <th>64518</th>\n",
       "      <td>200000872413</td>\n",
       "      <td>RSL01010172357</td>\n",
       "      <td>4</td>\n",
       "      <td>1</td>\n",
       "      <td>4</td>\n",
       "    </tr>\n",
       "  </tbody>\n",
       "</table>\n",
       "<p>6671 rows × 5 columns</p>\n",
       "</div>"
      ],
      "text/plain": [
       "                chb        sys_numb  taked  number_of_books  max_taked\n",
       "58867  200000872413  RSL01000306525      1             6582          4\n",
       "63298  200000872413  RSL01009825267      1             6582          4\n",
       "63297  200000872413  RSL01009825049      1             6582          4\n",
       "63296  200000872413  RSL01009824744      1             6582          4\n",
       "63295  200000872413  RSL01009822307      1             6582          4\n",
       "...             ...             ...    ...              ...        ...\n",
       "64672  200000872413  RSL01010172650      2               85          4\n",
       "60725  200000872413  RSL01008648818      3                3          4\n",
       "61741  200000872413  RSL01008776382      3                3          4\n",
       "63474  200000872413  RSL01010170230      3                3          4\n",
       "64518  200000872413  RSL01010172357      4                1          4\n",
       "\n",
       "[6671 rows x 5 columns]"
      ]
     },
     "execution_count": 28,
     "metadata": {},
     "output_type": "execute_result"
    }
   ],
   "source": [
    "# пример для самого \"читающего\" пользователя 200000872413\n",
    "train_transactions[train_transactions['chb'] == '200000872413'].sort_values('taked')"
   ]
  },
  {
   "cell_type": "markdown",
   "metadata": {},
   "source": [
    "# Добавление рейтинга книг"
   ]
  },
  {
   "cell_type": "code",
   "execution_count": 29,
   "metadata": {
    "scrolled": true
   },
   "outputs": [
    {
     "data": {
      "text/html": [
       "<div>\n",
       "<style scoped>\n",
       "    .dataframe tbody tr th:only-of-type {\n",
       "        vertical-align: middle;\n",
       "    }\n",
       "\n",
       "    .dataframe tbody tr th {\n",
       "        vertical-align: top;\n",
       "    }\n",
       "\n",
       "    .dataframe thead th {\n",
       "        text-align: right;\n",
       "    }\n",
       "</style>\n",
       "<table border=\"1\" class=\"dataframe\">\n",
       "  <thead>\n",
       "    <tr style=\"text-align: right;\">\n",
       "      <th></th>\n",
       "      <th>chb</th>\n",
       "      <th>sys_numb</th>\n",
       "      <th>taked</th>\n",
       "      <th>number_of_books</th>\n",
       "      <th>max_taked</th>\n",
       "      <th>rating</th>\n",
       "    </tr>\n",
       "  </thead>\n",
       "  <tbody>\n",
       "    <tr>\n",
       "      <th>58867</th>\n",
       "      <td>200000872413</td>\n",
       "      <td>RSL01000306525</td>\n",
       "      <td>1</td>\n",
       "      <td>6582</td>\n",
       "      <td>4</td>\n",
       "      <td>0.000760</td>\n",
       "    </tr>\n",
       "    <tr>\n",
       "      <th>63298</th>\n",
       "      <td>200000872413</td>\n",
       "      <td>RSL01009825267</td>\n",
       "      <td>1</td>\n",
       "      <td>6582</td>\n",
       "      <td>4</td>\n",
       "      <td>0.000760</td>\n",
       "    </tr>\n",
       "    <tr>\n",
       "      <th>63297</th>\n",
       "      <td>200000872413</td>\n",
       "      <td>RSL01009825049</td>\n",
       "      <td>1</td>\n",
       "      <td>6582</td>\n",
       "      <td>4</td>\n",
       "      <td>0.000760</td>\n",
       "    </tr>\n",
       "    <tr>\n",
       "      <th>63296</th>\n",
       "      <td>200000872413</td>\n",
       "      <td>RSL01009824744</td>\n",
       "      <td>1</td>\n",
       "      <td>6582</td>\n",
       "      <td>4</td>\n",
       "      <td>0.000760</td>\n",
       "    </tr>\n",
       "    <tr>\n",
       "      <th>63295</th>\n",
       "      <td>200000872413</td>\n",
       "      <td>RSL01009822307</td>\n",
       "      <td>1</td>\n",
       "      <td>6582</td>\n",
       "      <td>4</td>\n",
       "      <td>0.000760</td>\n",
       "    </tr>\n",
       "    <tr>\n",
       "      <th>...</th>\n",
       "      <td>...</td>\n",
       "      <td>...</td>\n",
       "      <td>...</td>\n",
       "      <td>...</td>\n",
       "      <td>...</td>\n",
       "      <td>...</td>\n",
       "    </tr>\n",
       "    <tr>\n",
       "      <th>64672</th>\n",
       "      <td>200000872413</td>\n",
       "      <td>RSL01010172650</td>\n",
       "      <td>2</td>\n",
       "      <td>85</td>\n",
       "      <td>4</td>\n",
       "      <td>0.117647</td>\n",
       "    </tr>\n",
       "    <tr>\n",
       "      <th>60725</th>\n",
       "      <td>200000872413</td>\n",
       "      <td>RSL01008648818</td>\n",
       "      <td>3</td>\n",
       "      <td>3</td>\n",
       "      <td>4</td>\n",
       "      <td>5.000000</td>\n",
       "    </tr>\n",
       "    <tr>\n",
       "      <th>61741</th>\n",
       "      <td>200000872413</td>\n",
       "      <td>RSL01008776382</td>\n",
       "      <td>3</td>\n",
       "      <td>3</td>\n",
       "      <td>4</td>\n",
       "      <td>5.000000</td>\n",
       "    </tr>\n",
       "    <tr>\n",
       "      <th>63474</th>\n",
       "      <td>200000872413</td>\n",
       "      <td>RSL01010170230</td>\n",
       "      <td>3</td>\n",
       "      <td>3</td>\n",
       "      <td>4</td>\n",
       "      <td>5.000000</td>\n",
       "    </tr>\n",
       "    <tr>\n",
       "      <th>64518</th>\n",
       "      <td>200000872413</td>\n",
       "      <td>RSL01010172357</td>\n",
       "      <td>4</td>\n",
       "      <td>1</td>\n",
       "      <td>4</td>\n",
       "      <td>20.000000</td>\n",
       "    </tr>\n",
       "  </tbody>\n",
       "</table>\n",
       "<p>6671 rows × 6 columns</p>\n",
       "</div>"
      ],
      "text/plain": [
       "                chb        sys_numb  taked  number_of_books  max_taked  \\\n",
       "58867  200000872413  RSL01000306525      1             6582          4   \n",
       "63298  200000872413  RSL01009825267      1             6582          4   \n",
       "63297  200000872413  RSL01009825049      1             6582          4   \n",
       "63296  200000872413  RSL01009824744      1             6582          4   \n",
       "63295  200000872413  RSL01009822307      1             6582          4   \n",
       "...             ...             ...    ...              ...        ...   \n",
       "64672  200000872413  RSL01010172650      2               85          4   \n",
       "60725  200000872413  RSL01008648818      3                3          4   \n",
       "61741  200000872413  RSL01008776382      3                3          4   \n",
       "63474  200000872413  RSL01010170230      3                3          4   \n",
       "64518  200000872413  RSL01010172357      4                1          4   \n",
       "\n",
       "          rating  \n",
       "58867   0.000760  \n",
       "63298   0.000760  \n",
       "63297   0.000760  \n",
       "63296   0.000760  \n",
       "63295   0.000760  \n",
       "...          ...  \n",
       "64672   0.117647  \n",
       "60725   5.000000  \n",
       "61741   5.000000  \n",
       "63474   5.000000  \n",
       "64518  20.000000  \n",
       "\n",
       "[6671 rows x 6 columns]"
      ]
     },
     "execution_count": 29,
     "metadata": {},
     "output_type": "execute_result"
    }
   ],
   "source": [
    "train_transactions['rating'] = train_transactions['taked']/train_transactions['max_taked']/train_transactions['number_of_books']*20\n",
    "train_transactions[train_transactions['chb'] == '200000872413'].sort_values('rating')"
   ]
  },
  {
   "cell_type": "code",
   "execution_count": 30,
   "metadata": {
    "scrolled": true
   },
   "outputs": [
    {
     "data": {
      "text/plain": [
       "Text(0.5, 1.0, 'Распределение ratings')"
      ]
     },
     "execution_count": 30,
     "metadata": {},
     "output_type": "execute_result"
    },
    {
     "data": {
      "image/png": "[encoded data removed]",
      "text/plain": [
       "<Figure size 432x288 with 1 Axes>"
      ]
     },
     "metadata": {
      "needs_background": "light"
     },
     "output_type": "display_data"
    }
   ],
   "source": [
    "# sns.countplot(x = \"rating\" , data  = train_transactions).set_title('Распределение ratings')\n",
    "train_transactions[\"rating\"].plot.hist(bins=200).set_title('Распределение ratings')"
   ]
  },
  {
   "cell_type": "code",
   "execution_count": 34,
   "metadata": {
    "scrolled": false
   },
   "outputs": [
    {
     "data": {
      "text/html": [
       "<div>\n",
       "<style scoped>\n",
       "    .dataframe tbody tr th:only-of-type {\n",
       "        vertical-align: middle;\n",
       "    }\n",
       "\n",
       "    .dataframe tbody tr th {\n",
       "        vertical-align: top;\n",
       "    }\n",
       "\n",
       "    .dataframe thead th {\n",
       "        text-align: right;\n",
       "    }\n",
       "</style>\n",
       "<table border=\"1\" class=\"dataframe\">\n",
       "  <thead>\n",
       "    <tr style=\"text-align: right;\">\n",
       "      <th></th>\n",
       "      <th>chb</th>\n",
       "      <th>sys_numb</th>\n",
       "      <th>taked</th>\n",
       "      <th>number_of_books</th>\n",
       "      <th>max_taked</th>\n",
       "      <th>rating</th>\n",
       "    </tr>\n",
       "  </thead>\n",
       "  <tbody>\n",
       "    <tr>\n",
       "      <th>60474</th>\n",
       "      <td>200000872413</td>\n",
       "      <td>RSL01008565791</td>\n",
       "      <td>1</td>\n",
       "      <td>6582</td>\n",
       "      <td>4</td>\n",
       "      <td>0.00076</td>\n",
       "    </tr>\n",
       "    <tr>\n",
       "      <th>62152</th>\n",
       "      <td>200000872413</td>\n",
       "      <td>RSL01008938743</td>\n",
       "      <td>1</td>\n",
       "      <td>6582</td>\n",
       "      <td>4</td>\n",
       "      <td>0.00076</td>\n",
       "    </tr>\n",
       "    <tr>\n",
       "      <th>62153</th>\n",
       "      <td>200000872413</td>\n",
       "      <td>RSL01008938793</td>\n",
       "      <td>1</td>\n",
       "      <td>6582</td>\n",
       "      <td>4</td>\n",
       "      <td>0.00076</td>\n",
       "    </tr>\n",
       "    <tr>\n",
       "      <th>62154</th>\n",
       "      <td>200000872413</td>\n",
       "      <td>RSL01008939541</td>\n",
       "      <td>1</td>\n",
       "      <td>6582</td>\n",
       "      <td>4</td>\n",
       "      <td>0.00076</td>\n",
       "    </tr>\n",
       "    <tr>\n",
       "      <th>62155</th>\n",
       "      <td>200000872413</td>\n",
       "      <td>RSL01008939757</td>\n",
       "      <td>1</td>\n",
       "      <td>6582</td>\n",
       "      <td>4</td>\n",
       "      <td>0.00076</td>\n",
       "    </tr>\n",
       "    <tr>\n",
       "      <th>...</th>\n",
       "      <td>...</td>\n",
       "      <td>...</td>\n",
       "      <td>...</td>\n",
       "      <td>...</td>\n",
       "      <td>...</td>\n",
       "      <td>...</td>\n",
       "    </tr>\n",
       "    <tr>\n",
       "      <th>91757</th>\n",
       "      <td>200001014036</td>\n",
       "      <td>RSL01010625079</td>\n",
       "      <td>5</td>\n",
       "      <td>1</td>\n",
       "      <td>5</td>\n",
       "      <td>20.00000</td>\n",
       "    </tr>\n",
       "    <tr>\n",
       "      <th>91926</th>\n",
       "      <td>200001015362</td>\n",
       "      <td>RSL01005371579</td>\n",
       "      <td>2</td>\n",
       "      <td>1</td>\n",
       "      <td>2</td>\n",
       "      <td>20.00000</td>\n",
       "    </tr>\n",
       "    <tr>\n",
       "      <th>91933</th>\n",
       "      <td>200001015405</td>\n",
       "      <td>RSL01003421956</td>\n",
       "      <td>2</td>\n",
       "      <td>1</td>\n",
       "      <td>2</td>\n",
       "      <td>20.00000</td>\n",
       "    </tr>\n",
       "    <tr>\n",
       "      <th>91559</th>\n",
       "      <td>200001013571</td>\n",
       "      <td>RSL01002413977</td>\n",
       "      <td>2</td>\n",
       "      <td>1</td>\n",
       "      <td>2</td>\n",
       "      <td>20.00000</td>\n",
       "    </tr>\n",
       "    <tr>\n",
       "      <th>210599</th>\n",
       "      <td>300001081002</td>\n",
       "      <td>RSL01004320873</td>\n",
       "      <td>2</td>\n",
       "      <td>1</td>\n",
       "      <td>2</td>\n",
       "      <td>20.00000</td>\n",
       "    </tr>\n",
       "  </tbody>\n",
       "</table>\n",
       "<p>229002 rows × 6 columns</p>\n",
       "</div>"
      ],
      "text/plain": [
       "                 chb        sys_numb  taked  number_of_books  max_taked  \\\n",
       "60474   200000872413  RSL01008565791      1             6582          4   \n",
       "62152   200000872413  RSL01008938743      1             6582          4   \n",
       "62153   200000872413  RSL01008938793      1             6582          4   \n",
       "62154   200000872413  RSL01008939541      1             6582          4   \n",
       "62155   200000872413  RSL01008939757      1             6582          4   \n",
       "...              ...             ...    ...              ...        ...   \n",
       "91757   200001014036  RSL01010625079      5                1          5   \n",
       "91926   200001015362  RSL01005371579      2                1          2   \n",
       "91933   200001015405  RSL01003421956      2                1          2   \n",
       "91559   200001013571  RSL01002413977      2                1          2   \n",
       "210599  300001081002  RSL01004320873      2                1          2   \n",
       "\n",
       "          rating  \n",
       "60474    0.00076  \n",
       "62152    0.00076  \n",
       "62153    0.00076  \n",
       "62154    0.00076  \n",
       "62155    0.00076  \n",
       "...          ...  \n",
       "91757   20.00000  \n",
       "91926   20.00000  \n",
       "91933   20.00000  \n",
       "91559   20.00000  \n",
       "210599  20.00000  \n",
       "\n",
       "[229002 rows x 6 columns]"
      ]
     },
     "execution_count": 34,
     "metadata": {},
     "output_type": "execute_result"
    }
   ],
   "source": [
    "train_transactions.sort_values('rating')"
   ]
  },
  {
   "cell_type": "markdown",
   "metadata": {},
   "source": [
    "# Создание частотного списка"
   ]
  },
  {
   "cell_type": "code",
   "execution_count": 35,
   "metadata": {
    "scrolled": true
   },
   "outputs": [],
   "source": [
    "train_transactions = train_transactions.merge(items[['title', 'sys_numb']], on=['sys_numb'])"
   ]
  },
  {
   "cell_type": "code",
   "execution_count": 36,
   "metadata": {
    "scrolled": true
   },
   "outputs": [
    {
     "data": {
      "text/html": [
       "<div>\n",
       "<style scoped>\n",
       "    .dataframe tbody tr th:only-of-type {\n",
       "        vertical-align: middle;\n",
       "    }\n",
       "\n",
       "    .dataframe tbody tr th {\n",
       "        vertical-align: top;\n",
       "    }\n",
       "\n",
       "    .dataframe thead th {\n",
       "        text-align: right;\n",
       "    }\n",
       "</style>\n",
       "<table border=\"1\" class=\"dataframe\">\n",
       "  <thead>\n",
       "    <tr style=\"text-align: right;\">\n",
       "      <th></th>\n",
       "      <th>chb</th>\n",
       "      <th>sys_numb</th>\n",
       "      <th>taked</th>\n",
       "      <th>number_of_books</th>\n",
       "      <th>max_taked</th>\n",
       "      <th>rating</th>\n",
       "      <th>title</th>\n",
       "    </tr>\n",
       "  </thead>\n",
       "  <tbody>\n",
       "    <tr>\n",
       "      <th>76262</th>\n",
       "      <td>200000872413</td>\n",
       "      <td>RSL01008789367</td>\n",
       "      <td>1</td>\n",
       "      <td>6582</td>\n",
       "      <td>4</td>\n",
       "      <td>0.00076</td>\n",
       "      <td>устройства бесконтактного контроля токопроводящих покрытий топливных баков летательных аппаратов : диссертация .. кандидата технических наук : 05.13.05</td>\n",
       "    </tr>\n",
       "    <tr>\n",
       "      <th>77772</th>\n",
       "      <td>200000872413</td>\n",
       "      <td>RSL01009862694</td>\n",
       "      <td>1</td>\n",
       "      <td>6582</td>\n",
       "      <td>4</td>\n",
       "      <td>0.00076</td>\n",
       "      <td>биоэкологическая характеристика комплексного прогнозируемого воздействия балтийской аэс на экосистему реки неман : диссертация .. кандидата биологических наук : 03.02.08</td>\n",
       "    </tr>\n",
       "    <tr>\n",
       "      <th>77773</th>\n",
       "      <td>200000872413</td>\n",
       "      <td>RSL01009862889</td>\n",
       "      <td>1</td>\n",
       "      <td>6582</td>\n",
       "      <td>4</td>\n",
       "      <td>0.00076</td>\n",
       "      <td>финансирование переселенческого дела на восточных окраинах российской империи : государственная политика и практики второй половины xix - начала xx вв. : диссертация .. кандидата исторических наук : 07.00.02</td>\n",
       "    </tr>\n",
       "    <tr>\n",
       "      <th>77774</th>\n",
       "      <td>200000872413</td>\n",
       "      <td>RSL01009863076</td>\n",
       "      <td>1</td>\n",
       "      <td>6582</td>\n",
       "      <td>4</td>\n",
       "      <td>0.00076</td>\n",
       "      <td>государственная власть и русская православная церковь в ссср в зеркале персональной истории : на примере общественной и церковной деятельности митрополита гурия (егорова) : диссертация .. кандидата исторических наук : 07.00.02</td>\n",
       "    </tr>\n",
       "    <tr>\n",
       "      <th>78704</th>\n",
       "      <td>200000872413</td>\n",
       "      <td>RSL01010171913</td>\n",
       "      <td>1</td>\n",
       "      <td>6582</td>\n",
       "      <td>4</td>\n",
       "      <td>0.00076</td>\n",
       "      <td>особенности адаптационных возможностей студентов с разными индивидуально-типологическими характеристиками психической деятельности и вегетативной регуляции организма : диссертация .. кандидата медицинских наук : специальность: 03.03.01 нормальная физиология</td>\n",
       "    </tr>\n",
       "    <tr>\n",
       "      <th>...</th>\n",
       "      <td>...</td>\n",
       "      <td>...</td>\n",
       "      <td>...</td>\n",
       "      <td>...</td>\n",
       "      <td>...</td>\n",
       "      <td>...</td>\n",
       "      <td>...</td>\n",
       "    </tr>\n",
       "    <tr>\n",
       "      <th>183671</th>\n",
       "      <td>300000956433</td>\n",
       "      <td>RSL01003258646</td>\n",
       "      <td>2</td>\n",
       "      <td>1</td>\n",
       "      <td>2</td>\n",
       "      <td>20.00000</td>\n",
       "      <td>балканский фактор европейской международно-политической системы и внешняя политика россии на рубеже xix-xx вв. : автореферат дис.. кандидата исторических наук : 07.00.03</td>\n",
       "    </tr>\n",
       "    <tr>\n",
       "      <th>183620</th>\n",
       "      <td>300000955930</td>\n",
       "      <td>RSL01003070234</td>\n",
       "      <td>2</td>\n",
       "      <td>1</td>\n",
       "      <td>2</td>\n",
       "      <td>20.00000</td>\n",
       "      <td>средства создания комического в видеовербальном тексте : на материале английского юмористического сериала \"monty python flying circus\" : автореферат дис.. кандидата филологических наук : 10.02.04</td>\n",
       "    </tr>\n",
       "    <tr>\n",
       "      <th>87390</th>\n",
       "      <td>200000916398</td>\n",
       "      <td>RSL01005080308</td>\n",
       "      <td>2</td>\n",
       "      <td>1</td>\n",
       "      <td>2</td>\n",
       "      <td>20.00000</td>\n",
       "      <td>новые технологии в обучении иностранным языкам : сборник статей региональной научно-практической студенческой конференции</td>\n",
       "    </tr>\n",
       "    <tr>\n",
       "      <th>86688</th>\n",
       "      <td>300000880686</td>\n",
       "      <td>RSL01008157121</td>\n",
       "      <td>2</td>\n",
       "      <td>1</td>\n",
       "      <td>2</td>\n",
       "      <td>20.00000</td>\n",
       "      <td>передвижники : между коммерческим товариществом и художественным движением</td>\n",
       "    </tr>\n",
       "    <tr>\n",
       "      <th>210553</th>\n",
       "      <td>300001068115</td>\n",
       "      <td>RSL01007955361</td>\n",
       "      <td>3</td>\n",
       "      <td>1</td>\n",
       "      <td>3</td>\n",
       "      <td>20.00000</td>\n",
       "      <td>экономическая отсталость в исторической перспективе</td>\n",
       "    </tr>\n",
       "  </tbody>\n",
       "</table>\n",
       "<p>229002 rows × 7 columns</p>\n",
       "</div>"
      ],
      "text/plain": [
       "                 chb        sys_numb  taked  number_of_books  max_taked  \\\n",
       "76262   200000872413  RSL01008789367      1             6582          4   \n",
       "77772   200000872413  RSL01009862694      1             6582          4   \n",
       "77773   200000872413  RSL01009862889      1             6582          4   \n",
       "77774   200000872413  RSL01009863076      1             6582          4   \n",
       "78704   200000872413  RSL01010171913      1             6582          4   \n",
       "...              ...             ...    ...              ...        ...   \n",
       "183671  300000956433  RSL01003258646      2                1          2   \n",
       "183620  300000955930  RSL01003070234      2                1          2   \n",
       "87390   200000916398  RSL01005080308      2                1          2   \n",
       "86688   300000880686  RSL01008157121      2                1          2   \n",
       "210553  300001068115  RSL01007955361      3                1          3   \n",
       "\n",
       "          rating  \\\n",
       "76262    0.00076   \n",
       "77772    0.00076   \n",
       "77773    0.00076   \n",
       "77774    0.00076   \n",
       "78704    0.00076   \n",
       "...          ...   \n",
       "183671  20.00000   \n",
       "183620  20.00000   \n",
       "87390   20.00000   \n",
       "86688   20.00000   \n",
       "210553  20.00000   \n",
       "\n",
       "                                                                                                                                                                                                                                                                    title  \n",
       "76262                                                                                                             устройства бесконтактного контроля токопроводящих покрытий топливных баков летательных аппаратов : диссертация .. кандидата технических наук : 05.13.05  \n",
       "77772                                                                                           биоэкологическая характеристика комплексного прогнозируемого воздействия балтийской аэс на экосистему реки неман : диссертация .. кандидата биологических наук : 03.02.08  \n",
       "77773                                                     финансирование переселенческого дела на восточных окраинах российской империи : государственная политика и практики второй половины xix - начала xx вв. : диссертация .. кандидата исторических наук : 07.00.02  \n",
       "77774                                  государственная власть и русская православная церковь в ссср в зеркале персональной истории : на примере общественной и церковной деятельности митрополита гурия (егорова) : диссертация .. кандидата исторических наук : 07.00.02  \n",
       "78704   особенности адаптационных возможностей студентов с разными индивидуально-типологическими характеристиками психической деятельности и вегетативной регуляции организма : диссертация .. кандидата медицинских наук : специальность: 03.03.01 нормальная физиология  \n",
       "...                                                                                                                                                                                                                                                                   ...  \n",
       "183671                                                                                          балканский фактор европейской международно-политической системы и внешняя политика россии на рубеже xix-xx вв. : автореферат дис.. кандидата исторических наук : 07.00.03  \n",
       "183620                                                                средства создания комического в видеовербальном тексте : на материале английского юмористического сериала \"monty python flying circus\" : автореферат дис.. кандидата филологических наук : 10.02.04  \n",
       "87390                                                                                                                                           новые технологии в обучении иностранным языкам : сборник статей региональной научно-практической студенческой конференции  \n",
       "86688                                                                                                                                                                                          передвижники : между коммерческим товариществом и художественным движением  \n",
       "210553                                                                                                                                                                                                               экономическая отсталость в исторической перспективе   \n",
       "\n",
       "[229002 rows x 7 columns]"
      ]
     },
     "execution_count": 36,
     "metadata": {},
     "output_type": "execute_result"
    }
   ],
   "source": [
    "train_transactions['title'] = train_transactions['title'].str.lower()\n",
    "train_transactions.sort_values('rating')"
   ]
  },
  {
   "cell_type": "code",
   "execution_count": null,
   "metadata": {},
   "outputs": [],
   "source": []
  },
  {
   "cell_type": "code",
   "execution_count": 37,
   "metadata": {
    "scrolled": true
   },
   "outputs": [
    {
     "name": "stderr",
     "output_type": "stream",
     "text": [
      "C:\\Users\\User\\AppData\\Local\\Temp/ipykernel_9852/595312528.py:1: FutureWarning: The default value of regex will change from True to False in a future version.\n",
      "  train_transactions['title'] = train_transactions['title'].str.replace(r\"[^a-zа-я\\s]\", \"\")\n"
     ]
    }
   ],
   "source": [
    "train_transactions['title'] = train_transactions['title'].str.replace(r\"[^a-zа-я\\s]\", \"\")"
   ]
  },
  {
   "cell_type": "code",
   "execution_count": 38,
   "metadata": {
    "scrolled": true
   },
   "outputs": [
    {
     "data": {
      "text/html": [
       "<div>\n",
       "<style scoped>\n",
       "    .dataframe tbody tr th:only-of-type {\n",
       "        vertical-align: middle;\n",
       "    }\n",
       "\n",
       "    .dataframe tbody tr th {\n",
       "        vertical-align: top;\n",
       "    }\n",
       "\n",
       "    .dataframe thead th {\n",
       "        text-align: right;\n",
       "    }\n",
       "</style>\n",
       "<table border=\"1\" class=\"dataframe\">\n",
       "  <thead>\n",
       "    <tr style=\"text-align: right;\">\n",
       "      <th></th>\n",
       "      <th>chb</th>\n",
       "      <th>sys_numb</th>\n",
       "      <th>taked</th>\n",
       "      <th>number_of_books</th>\n",
       "      <th>max_taked</th>\n",
       "      <th>rating</th>\n",
       "      <th>title</th>\n",
       "    </tr>\n",
       "  </thead>\n",
       "  <tbody>\n",
       "    <tr>\n",
       "      <th>76262</th>\n",
       "      <td>200000872413</td>\n",
       "      <td>RSL01008789367</td>\n",
       "      <td>1</td>\n",
       "      <td>6582</td>\n",
       "      <td>4</td>\n",
       "      <td>0.00076</td>\n",
       "      <td>устройства бесконтактного контроля токопроводящих покрытий топливных баков летательных аппаратов  диссертация  кандидата технических наук</td>\n",
       "    </tr>\n",
       "    <tr>\n",
       "      <th>77772</th>\n",
       "      <td>200000872413</td>\n",
       "      <td>RSL01009862694</td>\n",
       "      <td>1</td>\n",
       "      <td>6582</td>\n",
       "      <td>4</td>\n",
       "      <td>0.00076</td>\n",
       "      <td>биоэкологическая характеристика комплексного прогнозируемого воздействия балтийской аэс на экосистему реки неман  диссертация  кандидата биологических наук</td>\n",
       "    </tr>\n",
       "    <tr>\n",
       "      <th>77773</th>\n",
       "      <td>200000872413</td>\n",
       "      <td>RSL01009862889</td>\n",
       "      <td>1</td>\n",
       "      <td>6582</td>\n",
       "      <td>4</td>\n",
       "      <td>0.00076</td>\n",
       "      <td>финансирование переселенческого дела на восточных окраинах российской империи  государственная политика и практики второй половины xix  начала xx вв  диссертация  кандидата исторических наук</td>\n",
       "    </tr>\n",
       "    <tr>\n",
       "      <th>77774</th>\n",
       "      <td>200000872413</td>\n",
       "      <td>RSL01009863076</td>\n",
       "      <td>1</td>\n",
       "      <td>6582</td>\n",
       "      <td>4</td>\n",
       "      <td>0.00076</td>\n",
       "      <td>государственная власть и русская православная церковь в ссср в зеркале персональной истории  на примере общественной и церковной деятельности митрополита гурия егорова  диссертация  кандидата исторических наук</td>\n",
       "    </tr>\n",
       "    <tr>\n",
       "      <th>78704</th>\n",
       "      <td>200000872413</td>\n",
       "      <td>RSL01010171913</td>\n",
       "      <td>1</td>\n",
       "      <td>6582</td>\n",
       "      <td>4</td>\n",
       "      <td>0.00076</td>\n",
       "      <td>особенности адаптационных возможностей студентов с разными индивидуальнотипологическими характеристиками психической деятельности и вегетативной регуляции организма  диссертация  кандидата медицинских наук  специальность  нормальная физиология</td>\n",
       "    </tr>\n",
       "    <tr>\n",
       "      <th>...</th>\n",
       "      <td>...</td>\n",
       "      <td>...</td>\n",
       "      <td>...</td>\n",
       "      <td>...</td>\n",
       "      <td>...</td>\n",
       "      <td>...</td>\n",
       "      <td>...</td>\n",
       "    </tr>\n",
       "    <tr>\n",
       "      <th>183671</th>\n",
       "      <td>300000956433</td>\n",
       "      <td>RSL01003258646</td>\n",
       "      <td>2</td>\n",
       "      <td>1</td>\n",
       "      <td>2</td>\n",
       "      <td>20.00000</td>\n",
       "      <td>балканский фактор европейской международнополитической системы и внешняя политика россии на рубеже xixxx вв  автореферат дис кандидата исторических наук</td>\n",
       "    </tr>\n",
       "    <tr>\n",
       "      <th>183620</th>\n",
       "      <td>300000955930</td>\n",
       "      <td>RSL01003070234</td>\n",
       "      <td>2</td>\n",
       "      <td>1</td>\n",
       "      <td>2</td>\n",
       "      <td>20.00000</td>\n",
       "      <td>средства создания комического в видеовербальном тексте  на материале английского юмористического сериала monty python flying circus  автореферат дис кандидата филологических наук</td>\n",
       "    </tr>\n",
       "    <tr>\n",
       "      <th>87390</th>\n",
       "      <td>200000916398</td>\n",
       "      <td>RSL01005080308</td>\n",
       "      <td>2</td>\n",
       "      <td>1</td>\n",
       "      <td>2</td>\n",
       "      <td>20.00000</td>\n",
       "      <td>новые технологии в обучении иностранным языкам  сборник статей региональной научнопрактической студенческой конференции</td>\n",
       "    </tr>\n",
       "    <tr>\n",
       "      <th>86688</th>\n",
       "      <td>300000880686</td>\n",
       "      <td>RSL01008157121</td>\n",
       "      <td>2</td>\n",
       "      <td>1</td>\n",
       "      <td>2</td>\n",
       "      <td>20.00000</td>\n",
       "      <td>передвижники  между коммерческим товариществом и художественным движением</td>\n",
       "    </tr>\n",
       "    <tr>\n",
       "      <th>210553</th>\n",
       "      <td>300001068115</td>\n",
       "      <td>RSL01007955361</td>\n",
       "      <td>3</td>\n",
       "      <td>1</td>\n",
       "      <td>3</td>\n",
       "      <td>20.00000</td>\n",
       "      <td>экономическая отсталость в исторической перспективе</td>\n",
       "    </tr>\n",
       "  </tbody>\n",
       "</table>\n",
       "<p>229002 rows × 7 columns</p>\n",
       "</div>"
      ],
      "text/plain": [
       "                 chb        sys_numb  taked  number_of_books  max_taked  \\\n",
       "76262   200000872413  RSL01008789367      1             6582          4   \n",
       "77772   200000872413  RSL01009862694      1             6582          4   \n",
       "77773   200000872413  RSL01009862889      1             6582          4   \n",
       "77774   200000872413  RSL01009863076      1             6582          4   \n",
       "78704   200000872413  RSL01010171913      1             6582          4   \n",
       "...              ...             ...    ...              ...        ...   \n",
       "183671  300000956433  RSL01003258646      2                1          2   \n",
       "183620  300000955930  RSL01003070234      2                1          2   \n",
       "87390   200000916398  RSL01005080308      2                1          2   \n",
       "86688   300000880686  RSL01008157121      2                1          2   \n",
       "210553  300001068115  RSL01007955361      3                1          3   \n",
       "\n",
       "          rating  \\\n",
       "76262    0.00076   \n",
       "77772    0.00076   \n",
       "77773    0.00076   \n",
       "77774    0.00076   \n",
       "78704    0.00076   \n",
       "...          ...   \n",
       "183671  20.00000   \n",
       "183620  20.00000   \n",
       "87390   20.00000   \n",
       "86688   20.00000   \n",
       "210553  20.00000   \n",
       "\n",
       "                                                                                                                                                                                                                                                      title  \n",
       "76262                                                                                                           устройства бесконтактного контроля токопроводящих покрытий топливных баков летательных аппаратов  диссертация  кандидата технических наук    \n",
       "77772                                                                                         биоэкологическая характеристика комплексного прогнозируемого воздействия балтийской аэс на экосистему реки неман  диссертация  кандидата биологических наук    \n",
       "77773                                                      финансирование переселенческого дела на восточных окраинах российской империи  государственная политика и практики второй половины xix  начала xx вв  диссертация  кандидата исторических наук    \n",
       "77774                                   государственная власть и русская православная церковь в ссср в зеркале персональной истории  на примере общественной и церковной деятельности митрополита гурия егорова  диссертация  кандидата исторических наук    \n",
       "78704   особенности адаптационных возможностей студентов с разными индивидуальнотипологическими характеристиками психической деятельности и вегетативной регуляции организма  диссертация  кандидата медицинских наук  специальность  нормальная физиология  \n",
       "...                                                                                                                                                                                                                                                     ...  \n",
       "183671                                                                                           балканский фактор европейской международнополитической системы и внешняя политика россии на рубеже xixxx вв  автореферат дис кандидата исторических наук    \n",
       "183620                                                                 средства создания комического в видеовербальном тексте  на материале английского юмористического сериала monty python flying circus  автореферат дис кандидата филологических наук    \n",
       "87390                                                                                                                               новые технологии в обучении иностранным языкам  сборник статей региональной научнопрактической студенческой конференции  \n",
       "86688                                                                                                                                                                             передвижники  между коммерческим товариществом и художественным движением  \n",
       "210553                                                                                                                                                                                                 экономическая отсталость в исторической перспективе   \n",
       "\n",
       "[229002 rows x 7 columns]"
      ]
     },
     "execution_count": 38,
     "metadata": {},
     "output_type": "execute_result"
    }
   ],
   "source": [
    "train_transactions.sort_values('rating')"
   ]
  },
  {
   "cell_type": "code",
   "execution_count": 39,
   "metadata": {
    "scrolled": true
   },
   "outputs": [],
   "source": [
    "# pd.set_option('display.max_rows', None)\n",
    "# pd.set_option('display.max_columns', None)\n",
    "# pd.set_option('display.max_colwidth', None)\n",
    "\n",
    "frequency_list = train_transactions.groupby(['chb'])['title'].agg(' '.join).reset_index(name='titles_sum')\n",
    "\n",
    "# df1 = df.groupby('col')['val'].agg('-'.join).reset_index(name='new')"
   ]
  },
  {
   "cell_type": "code",
   "execution_count": 40,
   "metadata": {
    "scrolled": false
   },
   "outputs": [
    {
     "data": {
      "text/html": [
       "<div>\n",
       "<style scoped>\n",
       "    .dataframe tbody tr th:only-of-type {\n",
       "        vertical-align: middle;\n",
       "    }\n",
       "\n",
       "    .dataframe tbody tr th {\n",
       "        vertical-align: top;\n",
       "    }\n",
       "\n",
       "    .dataframe thead th {\n",
       "        text-align: right;\n",
       "    }\n",
       "</style>\n",
       "<table border=\"1\" class=\"dataframe\">\n",
       "  <thead>\n",
       "    <tr style=\"text-align: right;\">\n",
       "      <th></th>\n",
       "      <th>chb</th>\n",
       "      <th>titles_sum</th>\n",
       "    </tr>\n",
       "  </thead>\n",
       "  <tbody>\n",
       "    <tr>\n",
       "      <th>0</th>\n",
       "      <td>100000641403</td>\n",
       "      <td>медицинская научная и общественная деятельность студентов военномедицинской академии в  гг  автореферат дис кандидата медицинских наук   придание огнестойкости деревянным постройкам  кирпичная изба</td>\n",
       "    </tr>\n",
       "    <tr>\n",
       "      <th>1</th>\n",
       "      <td>100000644359</td>\n",
       "      <td>медали в честь александра сергеевича пушкина  синтез и свойства новых гетероциклических соединений на основе функциональных производных бензофуроксанов  диссертация  кандидата химических наук   сравнительная цитогенетика эмбриобласта трофобласта и внутриполостной жидкости бластоцисты человека  диссертация  кандидата биологических наук   разработка энергетических мультигенерирующих установок на базе дга  диссертация  кандидата технических наук   разработка метода проектирования высокоэффективных гидроагрегатов микрогэс на напоры до  м для комбинированных источников энергии  диссертация  кандидата технических наук   развитие метода акустической эмиссии за счет автоматизации обработки данных повышения помехоустойчивости и достоверности обнаружения трещиноподобных дефектов металлоконструкций  диссертация  доктора технических наук   методы и алгоритмы интеллектуального анализа данных о сложных проблемных ситуациях с использованием нейросетевого подхода  диссертация  кандидата технических наук   правовое регулирование ответственности за нарушение налогового законодательства в соединенных штатах америки  диссертация  кандидата юридических наук   обобщнные инварианты хованова узлов в прямоугольных представлениях  диссертация  кандидата физикоматематических наук   семантика традиционной танцевальной культуры тувинцев  автореферат дис кандидата культурологии   методы и алгоритмы штрихового кодирования для задач лицевой биометрии  диссертация  кандидата технических наук</td>\n",
       "    </tr>\n",
       "    <tr>\n",
       "      <th>2</th>\n",
       "      <td>100000665127</td>\n",
       "      <td>проблема национального самосознания в идеологии бурятского просвещения  автореферат дис кандидата философских наук   власть и вера  государство и религиозные институты в истории и современности творчество пи мельниковапечорского и изображение старообрядчества в русской литературе xix века  автореферат дис кандидата филологических наук   циклизация как принцип поэтики пи мельниковапечерского  на материале произведений х гг  автореферат дис кандидата филологических наук   буддийское духовенство в социальнополитической истории калмыцкого ханства  xviixviii вв  автореферат дис кандидата исторических наук   национальный образ мира в русской литературе  пи мельниковпечерский ис шмелев аи солженицын  автореферат дис доктора филологических наук   раскольнические типы в беллетристических произведениях пи мельникова печерского  раскольники в россии  извлечения из распоряжений по делам о раскольниках при императорах николае и александре ii пополненные запискою пи мельниковапечерского полное собрание сочинений пи мельникова андрея печерского   очерки мордвы  дорожные записки на пути из тамбовской губернии в сибирь  статьи исторического содержания полное собрание сочинений пи мельникова андрея печерского   княжна тараканова и принцесса владимирская  семейство богачевых  старина  балахонцовы полное собрание сочинений пи мельникова андрея печерского  т    ч  полное собрание сочинений пи мельникова андрея печерского  на горах  роман  в  ч ч  полное собрание сочинений пи мельникова андрея печерского  т    ч  полное собрание сочинений пи мельникова андрея печерского  в лесах  роман  в  ч ч  полное собрание сочинений пи мельникова андрея печерского  павел иванович мельников его жизнь и литературная деятельность бузавы  очерки истории донских калмыцких станиц   нива  г  полное собрание сочинений п и мельниковапечерского  плакат</td>\n",
       "    </tr>\n",
       "  </tbody>\n",
       "</table>\n",
       "</div>"
      ],
      "text/plain": [
       "            chb  \\\n",
       "0  100000641403   \n",
       "1  100000644359   \n",
       "2  100000665127   \n",
       "\n",
       "                                                                                                                                                                                                                                                                                                                                                                                                                                                                                                                                                                                                                                                                                                                                                                                                                                                                                                                                                                                                                                                                                                                                                                                                                                                                                                                                                                                                                                                                                                                                                                                                                                                                                                                                                                                                                                                                                                        titles_sum  \n",
       "0                                                                                                                                                                                                                                                                                                                                                                                                                                                                                                                                                                                                                                                                                                                                                                                                                                                                                                                                                                                                                                                                                                                                                                                                                                                                                                                                                                                                                                                                                                                                                                                                                                                                                                           медицинская научная и общественная деятельность студентов военномедицинской академии в  гг  автореферат дис кандидата медицинских наук   придание огнестойкости деревянным постройкам  кирпичная изба   \n",
       "1                                                                                                                                                                                                                                                                                                                                                                    медали в честь александра сергеевича пушкина  синтез и свойства новых гетероциклических соединений на основе функциональных производных бензофуроксанов  диссертация  кандидата химических наук   сравнительная цитогенетика эмбриобласта трофобласта и внутриполостной жидкости бластоцисты человека  диссертация  кандидата биологических наук   разработка энергетических мультигенерирующих установок на базе дга  диссертация  кандидата технических наук   разработка метода проектирования высокоэффективных гидроагрегатов микрогэс на напоры до  м для комбинированных источников энергии  диссертация  кандидата технических наук   развитие метода акустической эмиссии за счет автоматизации обработки данных повышения помехоустойчивости и достоверности обнаружения трещиноподобных дефектов металлоконструкций  диссертация  доктора технических наук   методы и алгоритмы интеллектуального анализа данных о сложных проблемных ситуациях с использованием нейросетевого подхода  диссертация  кандидата технических наук   правовое регулирование ответственности за нарушение налогового законодательства в соединенных штатах америки  диссертация  кандидата юридических наук   обобщнные инварианты хованова узлов в прямоугольных представлениях  диссертация  кандидата физикоматематических наук   семантика традиционной танцевальной культуры тувинцев  автореферат дис кандидата культурологии   методы и алгоритмы штрихового кодирования для задач лицевой биометрии  диссертация  кандидата технических наук    \n",
       "2  проблема национального самосознания в идеологии бурятского просвещения  автореферат дис кандидата философских наук   власть и вера  государство и религиозные институты в истории и современности творчество пи мельниковапечорского и изображение старообрядчества в русской литературе xix века  автореферат дис кандидата филологических наук   циклизация как принцип поэтики пи мельниковапечерского  на материале произведений х гг  автореферат дис кандидата филологических наук   буддийское духовенство в социальнополитической истории калмыцкого ханства  xviixviii вв  автореферат дис кандидата исторических наук   национальный образ мира в русской литературе  пи мельниковпечерский ис шмелев аи солженицын  автореферат дис доктора филологических наук   раскольнические типы в беллетристических произведениях пи мельникова печерского  раскольники в россии  извлечения из распоряжений по делам о раскольниках при императорах николае и александре ii пополненные запискою пи мельниковапечерского полное собрание сочинений пи мельникова андрея печерского   очерки мордвы  дорожные записки на пути из тамбовской губернии в сибирь  статьи исторического содержания полное собрание сочинений пи мельникова андрея печерского   княжна тараканова и принцесса владимирская  семейство богачевых  старина  балахонцовы полное собрание сочинений пи мельникова андрея печерского  т    ч  полное собрание сочинений пи мельникова андрея печерского  на горах  роман  в  ч ч  полное собрание сочинений пи мельникова андрея печерского  т    ч  полное собрание сочинений пи мельникова андрея печерского  в лесах  роман  в  ч ч  полное собрание сочинений пи мельникова андрея печерского  павел иванович мельников его жизнь и литературная деятельность бузавы  очерки истории донских калмыцких станиц   нива  г  полное собрание сочинений п и мельниковапечерского  плакат  "
      ]
     },
     "execution_count": 40,
     "metadata": {},
     "output_type": "execute_result"
    }
   ],
   "source": [
    "frequency_list.head(3)"
   ]
  },
  {
   "cell_type": "code",
   "execution_count": 41,
   "metadata": {
    "scrolled": false
   },
   "outputs": [],
   "source": [
    "import nltk\n",
    "# nltk.download('punkt')\n",
    "from nltk.probability import FreqDist\n",
    "from nltk.corpus import stopwords\n",
    "# nltk.download('stopwords')\n",
    "from nltk import word_tokenize\n"
   ]
  },
  {
   "cell_type": "code",
   "execution_count": 42,
   "metadata": {},
   "outputs": [],
   "source": [
    "def frequency_analysis(text):\n",
    "    text_tokens = word_tokenize(text)\n",
    "    russian_stopwords = stopwords.words(\"russian\")\n",
    "    russian_stopwords.extend(['это', 'нею', 'н', 'ч','х','б','м','г','т','ф','е','й','п','л','д',\n",
    "'ю','w','i','р','э','a','з','c','g','пи','гг','ба','др','of','кн','ii','ам','хх','яз','xx','сб','in',\n",
    "'цк','de','et','го','вс','th','вв','on','to','аа','мм','нф','ст','xv','la','аф','фр','нв','ар','ах','кл','мю',\n",
    "'ми','ес', 'гр', 'ан', 'фм', 'вм', 'en', 'гл', 'ад', 'ап', 'ис', 'фз', 'св', 'мл', 'sa', 'ак', 'ix', 'iv', 'ex', \n",
    "                              'ся', 'вып', 'дис', 'the', 'пер', 'and', 'гос', 'smm', 'xix', 'док', 'des', 'ред', \n",
    "                              'ума', 'год', 'сэв', 'сми', 'for', 'нтв', 'миф', 'сел', 'сов', 'дач', 'iii', 'вся', \n",
    "                              'мвд', 'дон', 'обл', 'ход', 'der', 'law', 'гто', 'мир', 'fin', 'von', 'арх', 'снг', \n",
    "                              'быт', 'рус', 'рек', 'рос', 'оао', 'сср', 'жен', 'лит', 'рак', 'век', 'лет', 'сша', \n",
    "                              'ран', 'чай', 'xxx', 'пбу', 'xxi', 'рим', 'дом', 'par', 'тнк', 'ipo', 'дни', 'рок', \n",
    "                              'апк', 'окр', 'дня', 'мво', 'инт', 'лев', 'соч', 'his', 'тел', 'les', 'фет', 'кнр', \n",
    "                              'общ', 'уст', 'xvi', 'дпо', 'еда', 'ans', 'not', 'ваз', 'сил', 'шуи', 'css', 'бка', \n",
    "                              'чая', 'нло', 'пот', 'дао', 'hbr', 'фак', 'бсм', 'изд', 'ибо', 'tir', 'мои', 'экг', \n",
    "                              'und', 'дел', 'жил', 'мед', 'егэ', 'die', 'вне', 'янв', 'лиц', 'фон', 'жан', 'окт', \n",
    "                              'авт', 'ист', 'оон', 'оиф', 'квн', 'uml', 'суд', 'sap', 'шаг', 'нлп', 'фрг', 'big', \n",
    "                              'мгу', 'рун', 'дра', 'how', 'art', 'рай', 'физ', 'пол', 'оды', 'код', 'орл', 'шут', 'php' ])\n",
    "\n",
    "    text_tokens = [token.strip() for token in text_tokens if token not in russian_stopwords]\n",
    "    text = nltk.Text(text_tokens)\n",
    "    fdist_sw = FreqDist(text)\n",
    "    return fdist_sw.most_common(2)"
   ]
  },
  {
   "cell_type": "code",
   "execution_count": 43,
   "metadata": {
    "scrolled": true
   },
   "outputs": [
    {
     "data": {
      "text/plain": [
       "'научная'"
      ]
     },
     "execution_count": 43,
     "metadata": {},
     "output_type": "execute_result"
    }
   ],
   "source": [
    "frequency_analysis(frequency_list.loc[frequency_list.chb == '100000641403', 'titles_sum'].values[0])[1][0]"
   ]
  },
  {
   "cell_type": "code",
   "execution_count": 44,
   "metadata": {
    "scrolled": true
   },
   "outputs": [
    {
     "data": {
      "text/html": [
       "<div>\n",
       "<style scoped>\n",
       "    .dataframe tbody tr th:only-of-type {\n",
       "        vertical-align: middle;\n",
       "    }\n",
       "\n",
       "    .dataframe tbody tr th {\n",
       "        vertical-align: top;\n",
       "    }\n",
       "\n",
       "    .dataframe thead th {\n",
       "        text-align: right;\n",
       "    }\n",
       "</style>\n",
       "<table border=\"1\" class=\"dataframe\">\n",
       "  <thead>\n",
       "    <tr style=\"text-align: right;\">\n",
       "      <th></th>\n",
       "      <th>chb</th>\n",
       "      <th>titles_sum</th>\n",
       "    </tr>\n",
       "  </thead>\n",
       "  <tbody>\n",
       "    <tr>\n",
       "      <th>0</th>\n",
       "      <td>100000641403</td>\n",
       "      <td>медицинская научная и общественная деятельность студентов военномедицинской академии в  гг  автореферат дис кандидата медицинских наук   придание огнестойкости деревянным постройкам  кирпичная изба</td>\n",
       "    </tr>\n",
       "  </tbody>\n",
       "</table>\n",
       "</div>"
      ],
      "text/plain": [
       "            chb  \\\n",
       "0  100000641403   \n",
       "\n",
       "                                                                                                                                                                                               titles_sum  \n",
       "0  медицинская научная и общественная деятельность студентов военномедицинской академии в  гг  автореферат дис кандидата медицинских наук   придание огнестойкости деревянным постройкам  кирпичная изба   "
      ]
     },
     "execution_count": 44,
     "metadata": {},
     "output_type": "execute_result"
    }
   ],
   "source": [
    "frequency_list[frequency_list.chb == '100000641403']"
   ]
  },
  {
   "cell_type": "code",
   "execution_count": 45,
   "metadata": {
    "scrolled": true
   },
   "outputs": [],
   "source": [
    "for line in frequency_list.itertuples():\n",
    "    words = frequency_analysis(frequency_list.loc[frequency_list.chb == line.chb, 'titles_sum'].values[0])\n",
    "    word_num = 0\n",
    "    while word_num < len(words):\n",
    "        frequency_list.loc[(frequency_list.chb == line.chb), f'relevant_words{word_num}'] = words[word_num][0]\n",
    "        word_num += 1\n",
    "   "
   ]
  },
  {
   "cell_type": "code",
   "execution_count": 46,
   "metadata": {
    "scrolled": true
   },
   "outputs": [
    {
     "data": {
      "text/html": [
       "<div>\n",
       "<style scoped>\n",
       "    .dataframe tbody tr th:only-of-type {\n",
       "        vertical-align: middle;\n",
       "    }\n",
       "\n",
       "    .dataframe tbody tr th {\n",
       "        vertical-align: top;\n",
       "    }\n",
       "\n",
       "    .dataframe thead th {\n",
       "        text-align: right;\n",
       "    }\n",
       "</style>\n",
       "<table border=\"1\" class=\"dataframe\">\n",
       "  <thead>\n",
       "    <tr style=\"text-align: right;\">\n",
       "      <th></th>\n",
       "      <th>chb</th>\n",
       "      <th>titles_sum</th>\n",
       "      <th>relevant_words0</th>\n",
       "      <th>relevant_words1</th>\n",
       "    </tr>\n",
       "  </thead>\n",
       "  <tbody>\n",
       "    <tr>\n",
       "      <th>0</th>\n",
       "      <td>100000641403</td>\n",
       "      <td>медицинская научная и общественная деятельность студентов военномедицинской академии в  гг  автореферат дис кандидата медицинских наук   придание огнестойкости деревянным постройкам  кирпичная изба</td>\n",
       "      <td>медицинская</td>\n",
       "      <td>научная</td>\n",
       "    </tr>\n",
       "    <tr>\n",
       "      <th>1</th>\n",
       "      <td>100000644359</td>\n",
       "      <td>медали в честь александра сергеевича пушкина  синтез и свойства новых гетероциклических соединений на основе функциональных производных бензофуроксанов  диссертация  кандидата химических наук   сравнительная цитогенетика эмбриобласта трофобласта и внутриполостной жидкости бластоцисты человека  диссертация  кандидата биологических наук   разработка энергетических мультигенерирующих установок на базе дга  диссертация  кандидата технических наук   разработка метода проектирования высокоэффективных гидроагрегатов микрогэс на напоры до  м для комбинированных источников энергии  диссертация  кандидата технических наук   развитие метода акустической эмиссии за счет автоматизации обработки данных повышения помехоустойчивости и достоверности обнаружения трещиноподобных дефектов металлоконструкций  диссертация  доктора технических наук   методы и алгоритмы интеллектуального анализа данных о сложных проблемных ситуациях с использованием нейросетевого подхода  диссертация  кандидата технических наук   правовое регулирование ответственности за нарушение налогового законодательства в соединенных штатах америки  диссертация  кандидата юридических наук   обобщнные инварианты хованова узлов в прямоугольных представлениях  диссертация  кандидата физикоматематических наук   семантика традиционной танцевальной культуры тувинцев  автореферат дис кандидата культурологии   методы и алгоритмы штрихового кодирования для задач лицевой биометрии  диссертация  кандидата технических наук</td>\n",
       "      <td>диссертация</td>\n",
       "      <td>кандидата</td>\n",
       "    </tr>\n",
       "    <tr>\n",
       "      <th>2</th>\n",
       "      <td>100000665127</td>\n",
       "      <td>проблема национального самосознания в идеологии бурятского просвещения  автореферат дис кандидата философских наук   власть и вера  государство и религиозные институты в истории и современности творчество пи мельниковапечорского и изображение старообрядчества в русской литературе xix века  автореферат дис кандидата филологических наук   циклизация как принцип поэтики пи мельниковапечерского  на материале произведений х гг  автореферат дис кандидата филологических наук   буддийское духовенство в социальнополитической истории калмыцкого ханства  xviixviii вв  автореферат дис кандидата исторических наук   национальный образ мира в русской литературе  пи мельниковпечерский ис шмелев аи солженицын  автореферат дис доктора филологических наук   раскольнические типы в беллетристических произведениях пи мельникова печерского  раскольники в россии  извлечения из распоряжений по делам о раскольниках при императорах николае и александре ii пополненные запискою пи мельниковапечерского полное собрание сочинений пи мельникова андрея печерского   очерки мордвы  дорожные записки на пути из тамбовской губернии в сибирь  статьи исторического содержания полное собрание сочинений пи мельникова андрея печерского   княжна тараканова и принцесса владимирская  семейство богачевых  старина  балахонцовы полное собрание сочинений пи мельникова андрея печерского  т    ч  полное собрание сочинений пи мельникова андрея печерского  на горах  роман  в  ч ч  полное собрание сочинений пи мельникова андрея печерского  т    ч  полное собрание сочинений пи мельникова андрея печерского  в лесах  роман  в  ч ч  полное собрание сочинений пи мельникова андрея печерского  павел иванович мельников его жизнь и литературная деятельность бузавы  очерки истории донских калмыцких станиц   нива  г  полное собрание сочинений п и мельниковапечерского  плакат</td>\n",
       "      <td>мельникова</td>\n",
       "      <td>печерского</td>\n",
       "    </tr>\n",
       "    <tr>\n",
       "      <th>3</th>\n",
       "      <td>100000676191</td>\n",
       "      <td>подвижницы милосердия отсутствует отсутствует</td>\n",
       "      <td>отсутствует</td>\n",
       "      <td>подвижницы</td>\n",
       "    </tr>\n",
       "    <tr>\n",
       "      <th>4</th>\n",
       "      <td>100000679200</td>\n",
       "      <td>теоретические основы физической рекреации как составной части физической культуры  автореферат дис кандидата педагогических наук   рынок корпоративных акций стран центральной и восточной европы  тенденции и проблемы  автореферат дис кандидата экономических наук   управление миноритарными пакетами акций субъектов российской федерации  на примере г москвы  автореферат дис кандидата экономических наук   математическое моделирование и методы оценивания рисков инвестирования в финансовые активы с высокой волатильностью  автореферат дис кандидата физикоматематических наук   механизмы функционального созревания высшей нервной деятельности в цикле сон  бодрствование обеспечивающие адекватность адаптации ребенка к школе  автореферат дис доктора биологических наук   характеристика динамического компонента постурального баланса у женщин пожилого возраста  автореферат дис кандидата биологических наук</td>\n",
       "      <td>автореферат</td>\n",
       "      <td>наук</td>\n",
       "    </tr>\n",
       "    <tr>\n",
       "      <th>...</th>\n",
       "      <td>...</td>\n",
       "      <td>...</td>\n",
       "      <td>...</td>\n",
       "      <td>...</td>\n",
       "    </tr>\n",
       "    <tr>\n",
       "      <th>16748</th>\n",
       "      <td>300001170610</td>\n",
       "      <td>зверства немецкофашистских захватчиков  документы  глав полит упр ркка  вып  отомстим  материалы и документы о чудовищных злодеяниях зверствах и насилиях немецкофашистских захватчиков в оккупированных советских районах сборник статистических сведений по воронежской губернии  т   бирюченский уезд</td>\n",
       "      <td>немецкофашистских</td>\n",
       "      <td>захватчиков</td>\n",
       "    </tr>\n",
       "    <tr>\n",
       "      <th>16749</th>\n",
       "      <td>300001172682</td>\n",
       "      <td>метафизическая поэзия в американской литературной традиции  диссертация  доктора филологических наук   основные идейные и сюжетнообразные мотивы в литературе новой англии xviixviii веков становление традиций в литературе сша  диссертация  доктора филологических наук</td>\n",
       "      <td>диссертация</td>\n",
       "      <td>доктора</td>\n",
       "    </tr>\n",
       "    <tr>\n",
       "      <th>16750</th>\n",
       "      <td>300001172795</td>\n",
       "      <td>о преподавании русской литературы  полный обзор творений фридриха шиллера вольтер и руссо  крит очерк историколитературная хрестоматия новаго периода русской словесности  от петра i до нашего времени  учебное пособие для средних учебных заведений  составил а галахов  от карамзина до пушкина  баллады шиллера  опыт объясн  первая группа баллад о капитале маркса  история русской словесности  сост вв сиповский  очерки русской литературы xix ст х годов критические комментарии к сочинениям а н островскаго  хронологический сборник критикобиблиографических статей  собрал в зелинский  ч  сочинение по литературе  метод пособие для учащихся го кл словесность в образцах и разборах с объяснением общих свойств сочинения и главных родов прозы и поэзии  современные русские писатели толстой  тургенев  достоевский  конфуций  его жизнь и филос деятельность  биогр очерк км карягина ледяной дом  альбом ил к роману ии лажечникова мертвые души нв гоголя  опыт разбора в теккерей его жизнь и литературная деятельность  с портр теккерея грав в лейпциге геданом  биогр очерк нн александрова краткий очерк греческой литературы от начала ее до половины xv в по рх  русская словесность  применительно к новой прогр для епарх жен учщ о романе гете страдания молодого вертера  начало мировой скорби в герм лит  в  к вопросу о пессимизме  истлит этюд г александровского ав кольцов  биогр сведения и разбор его стихотворений для учащихся миф об оресте у эсхила софокла и еврипида  этюд иннокентия анненского  еа баратынский    крит очерк  литературные очерки  е доп изд литературных чтений максим горький  его личность и произведения  критич очерк ем девогюэ доп мнениями рус критиков андреевича боцяновского и др герои шекспира  общедоступное изд знакомящее с содерж  главнейших произведений шекспира с  ил худож м адамо г гофмана и др с биогр и портр шекспира александр сергеевич грибоедов  его жизнь и соч  сб истлит ст дмитрий васильевич григорович  его жизнь и сочинения  сборник историколитературных статей михаил юрьевич лермонтов  его жизнь и соч  сб истлит ст очерк истории западноевропейской литературы  лекции чит в моск унте слово о полку игореве  текст поэмы с примеч пер и разбор со стороны худож и ист нг григорьева  нг чернышевский его жизни и деятельность   литературные характеристики  литературное народничество гл успенский н златовратский граф лев николаевич толстой  разбор главнейших произведений и биогр очерк в гюго его литературная эпоха жизнь труды и мысли  русская комедия до появления ан островского  иван сергеевич тургенев  биогр и разбор его произведений сергей тимофеевич аксаков  его жизнь и соч  сб истлит ст история классического периода греческой литературы  дж п магаффи проф дублин унта пер александры веселовской т   поэзия  с прил ст проф сэйса о поэмах гомера историкокритический комментарий к сочинениям фм достоевского  сборник критик  с портретом ф м достоевского  сост в зелинский  бесы подросток братья карамазовы историкокритический комментарий к сочинениям фм достоевского  сборник критик  с портретом ф м достоевского  сост в зелинский  униженные и оскорбленные записки из мертвого дома преступление и наказание идиот историкокритический комментарий к сочинениям фм достоевского  сборник критик  с портретом ф м достоевского  сост в зелинский  ч  книга для чтения по истории средних веков  составленная кружком преподавателей под редакцией профессора пг виноградова вып   вып  книга для чтения по истории средних веков составленная кружком преподавателей  под ред проф пг виноградова  вып  и последний ис тургенев  разбор произведений характеристика действующих лиц содерж и подроб план ч   ви павлов   крещеная собственность ис тургенева  крепостникидворяне по запискам охотника ис тургенева  крестьянские дети  общественное и литературное значение записок охотника  во имя долга  герои дела  роман накануне и его герои  бежин луг ис тургенева  действующие лица романа новь  подробное излож  новь  накануне иван сергеевич тургенев  его жизнь и соч  сб истлит ст история русской литературы xix века  записки слушателей ред профессором english literature from beowulf to bernard shaw  for the use of schools seminaries and private students программа и устав российского ленинского коммунистического союза молодежи  с изменениями и дополнениями принятыми ым всесоюзным съездом рлксм вся школьная программа в одной книге  справочник школьника в кратком изложении  класс заговор фиеско в генуи сборник критических статей о на некрасове часть вторая  историколитературная хрестоматия новаго периода русской словесности  от петра i до нашего времени  учебное пособие для средних учебных заведений  составил а галахов  от петра i до карамзина история русской словесности  составил в в сиповский  народная словесность краткий курс истории русской словесности с древнейших времен до конца xviii века  с иллюстрациями в тексте и на отдельных листах портреты снимки с рукописей и т д критические комментарии к сочинениям а н островскаго  хронологический сборник критикобиблиографических статей  собрал в зелинский  ч  критические комментарии к сочинениям а н островскаго  хронологический сборник критикобиблиографических статей  собрал в зелинский  ч  история западноевропейской литературы xviixviii веков  учебное пособие для студентов обучающихся по программе бакалавриата по направлению подготовки  филология русский язык и литература  психология  журналистика  искусствоведение история русской словесности  для средних учебных заведений  в двух частях  сочинение а и незеленова  под ред в в каллаша  карамзинский и пушкинский периоды отсутствует отсутствует отсутствует отсутствует</td>\n",
       "      <td>русской</td>\n",
       "      <td>очерк</td>\n",
       "    </tr>\n",
       "    <tr>\n",
       "      <th>16751</th>\n",
       "      <td>300001173062</td>\n",
       "      <td>юрисдикция международного уголовного суда  диссертация  кандидата юридических наук   теоретические аспекты правосудия по римскому статуту международного уголовного суда  автореферат дис кандидата юридических наук   юрисдикция международного уголовного суда  автореферат дис кандидата юридических наук   международные судебные учреждения стороной разбирательства в которых вправе выступать физические лица  новые тенденции развития и совершенствования их деятельности  диссертация  доктора юридических наук</td>\n",
       "      <td>юридических</td>\n",
       "      <td>наук</td>\n",
       "    </tr>\n",
       "    <tr>\n",
       "      <th>16752</th>\n",
       "      <td>400001035059</td>\n",
       "      <td>формирование нравственных ценностных ориентаций подростков средствами русской хоровой культуры  диссертация  кандидата педагогических наук   организационнопедагогические условия развития педагогического колледжа  диссертация  кандидата педагогических наук   организационнопедагогические условия формирования графической культуры старшеклассников  диссертация  кандидата педагогических наук</td>\n",
       "      <td>диссертация</td>\n",
       "      <td>кандидата</td>\n",
       "    </tr>\n",
       "  </tbody>\n",
       "</table>\n",
       "<p>16753 rows × 4 columns</p>\n",
       "</div>"
      ],
      "text/plain": [
       "                chb  \\\n",
       "0      100000641403   \n",
       "1      100000644359   \n",
       "2      100000665127   \n",
       "3      100000676191   \n",
       "4      100000679200   \n",
       "...             ...   \n",
       "16748  300001170610   \n",
       "16749  300001172682   \n",
       "16750  300001172795   \n",
       "16751  300001173062   \n",
       "16752  400001035059   \n",
       "\n",
       "                                                                                                                                                                                                                                                                                                                                                                                                                                                                                                                                                                                                                                                                                                                                                                                                                                                                                                                                                                                                                                                                                                                                                                                                                                                                                                                                                                                                                                                                                                                                                                                                                                                                                                                                                                                                                                                                                                                                                                                                                                                                                                                                                                                                                                                                                                                                                                                                                                                                                                                                                                                                                                                                                                                                                                                                                                                                                                                                                                                                                                                                                                                                                                                                                                                                                                                                                                                                                                                                                                                                                                                                                                                                                                                                                                                                                                                                                                                                                                                                                                                                                                                                                                                                                                                                                                                                                                                                                                                                                                                                                                                                                                                                                                                                                                                                                                                                                                                                                                                                                                                                                                                                                                                                                                                                                                                                                                                                                                                                                                                                                                                                                                                                                                                                                                                                                                  titles_sum  \\\n",
       "0                                                                                                                                                                                                                                                                                                                                                                                                                                                                                                                                                                                                                                                                                                                                                                                                                                                                                                                                                                                                                                                                                                                                                                                                                                                                                                                                                                                                                                                                                                                                                                                                                                                                                                                                                                                                                                                                                                                                                                                                                                                                                                                                                                                                                                                                                                                                                                                                                                                                                                                                                                                                                                                                                                                                                                                                                                                                                                                                                                                                                                                                                                                                                                                                                                                                                                                                                                                                                                                                                                                                                                                                                                                                                                                                                                                                                                                                                                                                                                                                                                                                                                                                                                                                                                                                                                                                                                                                                                                                                                                                                                                                                                                                                                                                                                                                                                                                                                                                                                                                                                                                                                                                                                                                                                                                                                                                                                                                                                                                                                                                                                                                                                     медицинская научная и общественная деятельность студентов военномедицинской академии в  гг  автореферат дис кандидата медицинских наук   придание огнестойкости деревянным постройкам  кирпичная изба    \n",
       "1                                                                                                                                                                                                                                                                                                                                                                                                                                                                                                                                                                                                                                                                                                                                                                                                                                                                                                                                                                                                                                                                                                                                                                                                                                                                                                                                                                                                                                                                                                                                                                                                                                                                                                                                                                                                                                                                                                                                                                                                                                                                                                                                                                                                                                                                                                                                                                                                                                                                                                                                                                                                                                                                                                                                                                                                                                                                                                                                                                                                                                                                                                                                                                                                                                                                                                                                                                                                                                                                                                                                                                                                                                                                                                                                                                                                                                                                                                                                                                                                                                                                                                                                                                                                                                                                                              медали в честь александра сергеевича пушкина  синтез и свойства новых гетероциклических соединений на основе функциональных производных бензофуроксанов  диссертация  кандидата химических наук   сравнительная цитогенетика эмбриобласта трофобласта и внутриполостной жидкости бластоцисты человека  диссертация  кандидата биологических наук   разработка энергетических мультигенерирующих установок на базе дга  диссертация  кандидата технических наук   разработка метода проектирования высокоэффективных гидроагрегатов микрогэс на напоры до  м для комбинированных источников энергии  диссертация  кандидата технических наук   развитие метода акустической эмиссии за счет автоматизации обработки данных повышения помехоустойчивости и достоверности обнаружения трещиноподобных дефектов металлоконструкций  диссертация  доктора технических наук   методы и алгоритмы интеллектуального анализа данных о сложных проблемных ситуациях с использованием нейросетевого подхода  диссертация  кандидата технических наук   правовое регулирование ответственности за нарушение налогового законодательства в соединенных штатах америки  диссертация  кандидата юридических наук   обобщнные инварианты хованова узлов в прямоугольных представлениях  диссертация  кандидата физикоматематических наук   семантика традиционной танцевальной культуры тувинцев  автореферат дис кандидата культурологии   методы и алгоритмы штрихового кодирования для задач лицевой биометрии  диссертация  кандидата технических наук     \n",
       "2                                                                                                                                                                                                                                                                                                                                                                                                                                                                                                                                                                                                                                                                                                                                                                                                                                                                                                                                                                                                                                                                                                                                                                                                                                                                                                                                                                                                                                                                                                                                                                                                                                                                                                                                                                                                                                                                                                                                                                                                                                                                                                                                                                                                                                                                                                                                                                                                                                                                                                                                                                                                                                                                                                                                                                                                                                                                                                                                                                                                                                                                                                                                                                                                                                                                                                                                                                                                                                                                                                                                                                                                                                                                                                                                                                                                                                                                                                                            проблема национального самосознания в идеологии бурятского просвещения  автореферат дис кандидата философских наук   власть и вера  государство и религиозные институты в истории и современности творчество пи мельниковапечорского и изображение старообрядчества в русской литературе xix века  автореферат дис кандидата филологических наук   циклизация как принцип поэтики пи мельниковапечерского  на материале произведений х гг  автореферат дис кандидата филологических наук   буддийское духовенство в социальнополитической истории калмыцкого ханства  xviixviii вв  автореферат дис кандидата исторических наук   национальный образ мира в русской литературе  пи мельниковпечерский ис шмелев аи солженицын  автореферат дис доктора филологических наук   раскольнические типы в беллетристических произведениях пи мельникова печерского  раскольники в россии  извлечения из распоряжений по делам о раскольниках при императорах николае и александре ii пополненные запискою пи мельниковапечерского полное собрание сочинений пи мельникова андрея печерского   очерки мордвы  дорожные записки на пути из тамбовской губернии в сибирь  статьи исторического содержания полное собрание сочинений пи мельникова андрея печерского   княжна тараканова и принцесса владимирская  семейство богачевых  старина  балахонцовы полное собрание сочинений пи мельникова андрея печерского  т    ч  полное собрание сочинений пи мельникова андрея печерского  на горах  роман  в  ч ч  полное собрание сочинений пи мельникова андрея печерского  т    ч  полное собрание сочинений пи мельникова андрея печерского  в лесах  роман  в  ч ч  полное собрание сочинений пи мельникова андрея печерского  павел иванович мельников его жизнь и литературная деятельность бузавы  очерки истории донских калмыцких станиц   нива  г  полное собрание сочинений п и мельниковапечерского  плакат   \n",
       "3                                                                                                                                                                                                                                                                                                                                                                                                                                                                                                                                                                                                                                                                                                                                                                                                                                                                                                                                                                                                                                                                                                                                                                                                                                                                                                                                                                                                                                                                                                                                                                                                                                                                                                                                                                                                                                                                                                                                                                                                                                                                                                                                                                                                                                                                                                                                                                                                                                                                                                                                                                                                                                                                                                                                                                                                                                                                                                                                                                                                                                                                                                                                                                                                                                                                                                                                                                                                                                                                                                                                                                                                                                                                                                                                                                                                                                                                                                                                                                                                                                                                                                                                                                                                                                                                                                                                                                                                                                                                                                                                                                                                                                                                                                                                                                                                                                                                                                                                                                                                                                                                                                                                                                                                                                                                                                                                                                                                                                                                                                                                                                                                                                                                                                                                                                                              подвижницы милосердия отсутствует отсутствует   \n",
       "4                                                                                                                                                                                                                                                                                                                                                                                                                                                                                                                                                                                                                                                                                                                                                                                                                                                                                                                                                                                                                                                                                                                                                                                                                                                                                                                                                                                                                                                                                                                                                                                                                                                                                                                                                                                                                                                                                                                                                                                                                                                                                                                                                                                                                                                                                                                                                                                                                                                                                                                                                                                                                                                                                                                                                                                                                                                                                                                                                                                                                                                                                                                                                                                                                                                                                                                                                                                                                                                                                                                                                                                                                                                                                                                                                                                                                                                                                                                                                                                                                                                                                                                                                                                                                                                                                                                                                                                                                                                                                                                                                                                                                                                                                                                                                                                                                                                                                                    теоретические основы физической рекреации как составной части физической культуры  автореферат дис кандидата педагогических наук   рынок корпоративных акций стран центральной и восточной европы  тенденции и проблемы  автореферат дис кандидата экономических наук   управление миноритарными пакетами акций субъектов российской федерации  на примере г москвы  автореферат дис кандидата экономических наук   математическое моделирование и методы оценивания рисков инвестирования в финансовые активы с высокой волатильностью  автореферат дис кандидата физикоматематических наук   механизмы функционального созревания высшей нервной деятельности в цикле сон  бодрствование обеспечивающие адекватность адаптации ребенка к школе  автореферат дис доктора биологических наук   характеристика динамического компонента постурального баланса у женщин пожилого возраста  автореферат дис кандидата биологических наук     \n",
       "...                                                                                                                                                                                                                                                                                                                                                                                                                                                                                                                                                                                                                                                                                                                                                                                                                                                                                                                                                                                                                                                                                                                                                                                                                                                                                                                                                                                                                                                                                                                                                                                                                                                                                                                                                                                                                                                                                                                                                                                                                                                                                                                                                                                                                                                                                                                                                                                                                                                                                                                                                                                                                                                                                                                                                                                                                                                                                                                                                                                                                                                                                                                                                                                                                                                                                                                                                                                                                                                                                                                                                                                                                                                                                                                                                                                                                                                                                                                                                                                                                                                                                                                                                                                                                                                                                                                                                                                                                                                                                                                                                                                                                                                                                                                                                                                                                                                                                                                                                                                                                                                                                                                                                                                                                                                                                                                                                                                                                                                                                                                                                                                                                                                                                                                                                                                                                                      ...   \n",
       "16748                                                                                                                                                                                                                                                                                                                                                                                                                                                                                                                                                                                                                                                                                                                                                                                                                                                                                                                                                                                                                                                                                                                                                                                                                                                                                                                                                                                                                                                                                                                                                                                                                                                                                                                                                                                                                                                                                                                                                                                                                                                                                                                                                                                                                                                                                                                                                                                                                                                                                                                                                                                                                                                                                                                                                                                                                                                                                                                                                                                                                                                                                                                                                                                                                                                                                                                                                                                                                                                                                                                                                                                                                                                                                                                                                                                                                                                                                                                                                                                                                                                                                                                                                                                                                                                                                                                                                                                                                                                                                                                                                                                                                                                                                                                                                                                                                                                                                                                                                                                                                                                                                                                                                                                                                                                                                                                                                                                                                                                                                                                               зверства немецкофашистских захватчиков  документы  глав полит упр ркка  вып  отомстим  материалы и документы о чудовищных злодеяниях зверствах и насилиях немецкофашистских захватчиков в оккупированных советских районах сборник статистических сведений по воронежской губернии  т   бирюченский уезд   \n",
       "16749                                                                                                                                                                                                                                                                                                                                                                                                                                                                                                                                                                                                                                                                                                                                                                                                                                                                                                                                                                                                                                                                                                                                                                                                                                                                                                                                                                                                                                                                                                                                                                                                                                                                                                                                                                                                                                                                                                                                                                                                                                                                                                                                                                                                                                                                                                                                                                                                                                                                                                                                                                                                                                                                                                                                                                                                                                                                                                                                                                                                                                                                                                                                                                                                                                                                                                                                                                                                                                                                                                                                                                                                                                                                                                                                                                                                                                                                                                                                                                                                                                                                                                                                                                                                                                                                                                                                                                                                                                                                                                                                                                                                                                                                                                                                                                                                                                                                                                                                                                                                                                                                                                                                                                                                                                                                                                                                                                                                                                                                                                                                                           метафизическая поэзия в американской литературной традиции  диссертация  доктора филологических наук   основные идейные и сюжетнообразные мотивы в литературе новой англии xviixviii веков становление традиций в литературе сша  диссертация  доктора филологических наук     \n",
       "16750  о преподавании русской литературы  полный обзор творений фридриха шиллера вольтер и руссо  крит очерк историколитературная хрестоматия новаго периода русской словесности  от петра i до нашего времени  учебное пособие для средних учебных заведений  составил а галахов  от карамзина до пушкина  баллады шиллера  опыт объясн  первая группа баллад о капитале маркса  история русской словесности  сост вв сиповский  очерки русской литературы xix ст х годов критические комментарии к сочинениям а н островскаго  хронологический сборник критикобиблиографических статей  собрал в зелинский  ч  сочинение по литературе  метод пособие для учащихся го кл словесность в образцах и разборах с объяснением общих свойств сочинения и главных родов прозы и поэзии  современные русские писатели толстой  тургенев  достоевский  конфуций  его жизнь и филос деятельность  биогр очерк км карягина ледяной дом  альбом ил к роману ии лажечникова мертвые души нв гоголя  опыт разбора в теккерей его жизнь и литературная деятельность  с портр теккерея грав в лейпциге геданом  биогр очерк нн александрова краткий очерк греческой литературы от начала ее до половины xv в по рх  русская словесность  применительно к новой прогр для епарх жен учщ о романе гете страдания молодого вертера  начало мировой скорби в герм лит  в  к вопросу о пессимизме  истлит этюд г александровского ав кольцов  биогр сведения и разбор его стихотворений для учащихся миф об оресте у эсхила софокла и еврипида  этюд иннокентия анненского  еа баратынский    крит очерк  литературные очерки  е доп изд литературных чтений максим горький  его личность и произведения  критич очерк ем девогюэ доп мнениями рус критиков андреевича боцяновского и др герои шекспира  общедоступное изд знакомящее с содерж  главнейших произведений шекспира с  ил худож м адамо г гофмана и др с биогр и портр шекспира александр сергеевич грибоедов  его жизнь и соч  сб истлит ст дмитрий васильевич григорович  его жизнь и сочинения  сборник историколитературных статей михаил юрьевич лермонтов  его жизнь и соч  сб истлит ст очерк истории западноевропейской литературы  лекции чит в моск унте слово о полку игореве  текст поэмы с примеч пер и разбор со стороны худож и ист нг григорьева  нг чернышевский его жизни и деятельность   литературные характеристики  литературное народничество гл успенский н златовратский граф лев николаевич толстой  разбор главнейших произведений и биогр очерк в гюго его литературная эпоха жизнь труды и мысли  русская комедия до появления ан островского  иван сергеевич тургенев  биогр и разбор его произведений сергей тимофеевич аксаков  его жизнь и соч  сб истлит ст история классического периода греческой литературы  дж п магаффи проф дублин унта пер александры веселовской т   поэзия  с прил ст проф сэйса о поэмах гомера историкокритический комментарий к сочинениям фм достоевского  сборник критик  с портретом ф м достоевского  сост в зелинский  бесы подросток братья карамазовы историкокритический комментарий к сочинениям фм достоевского  сборник критик  с портретом ф м достоевского  сост в зелинский  униженные и оскорбленные записки из мертвого дома преступление и наказание идиот историкокритический комментарий к сочинениям фм достоевского  сборник критик  с портретом ф м достоевского  сост в зелинский  ч  книга для чтения по истории средних веков  составленная кружком преподавателей под редакцией профессора пг виноградова вып   вып  книга для чтения по истории средних веков составленная кружком преподавателей  под ред проф пг виноградова  вып  и последний ис тургенев  разбор произведений характеристика действующих лиц содерж и подроб план ч   ви павлов   крещеная собственность ис тургенева  крепостникидворяне по запискам охотника ис тургенева  крестьянские дети  общественное и литературное значение записок охотника  во имя долга  герои дела  роман накануне и его герои  бежин луг ис тургенева  действующие лица романа новь  подробное излож  новь  накануне иван сергеевич тургенев  его жизнь и соч  сб истлит ст история русской литературы xix века  записки слушателей ред профессором english literature from beowulf to bernard shaw  for the use of schools seminaries and private students программа и устав российского ленинского коммунистического союза молодежи  с изменениями и дополнениями принятыми ым всесоюзным съездом рлксм вся школьная программа в одной книге  справочник школьника в кратком изложении  класс заговор фиеско в генуи сборник критических статей о на некрасове часть вторая  историколитературная хрестоматия новаго периода русской словесности  от петра i до нашего времени  учебное пособие для средних учебных заведений  составил а галахов  от петра i до карамзина история русской словесности  составил в в сиповский  народная словесность краткий курс истории русской словесности с древнейших времен до конца xviii века  с иллюстрациями в тексте и на отдельных листах портреты снимки с рукописей и т д критические комментарии к сочинениям а н островскаго  хронологический сборник критикобиблиографических статей  собрал в зелинский  ч  критические комментарии к сочинениям а н островскаго  хронологический сборник критикобиблиографических статей  собрал в зелинский  ч  история западноевропейской литературы xviixviii веков  учебное пособие для студентов обучающихся по программе бакалавриата по направлению подготовки  филология русский язык и литература  психология  журналистика  искусствоведение история русской словесности  для средних учебных заведений  в двух частях  сочинение а и незеленова  под ред в в каллаша  карамзинский и пушкинский периоды отсутствует отсутствует отсутствует отсутствует   \n",
       "16751                                                                                                                                                                                                                                                                                                                                                                                                                                                                                                                                                                                                                                                                                                                                                                                                                                                                                                                                                                                                                                                                                                                                                                                                                                                                                                                                                                                                                                                                                                                                                                                                                                                                                                                                                                                                                                                                                                                                                                                                                                                                                                                                                                                                                                                                                                                                                                                                                                                                                                                                                                                                                                                                                                                                                                                                                                                                                                                                                                                                                                                                                                                                                                                                                                                                                                                                                                                                                                                                                                                                                                                                                                                                                                                                                                                                                                                                                                                                                                                                                                                                                                                                                                                                                                                                                                                                                                                                                                                                                                                                                                                                                                                                                                                                                                                                                                                                                                                                                                                                                                                                                                                                                                                                                                                                                                            юрисдикция международного уголовного суда  диссертация  кандидата юридических наук   теоретические аспекты правосудия по римскому статуту международного уголовного суда  автореферат дис кандидата юридических наук   юрисдикция международного уголовного суда  автореферат дис кандидата юридических наук   международные судебные учреждения стороной разбирательства в которых вправе выступать физические лица  новые тенденции развития и совершенствования их деятельности  диссертация  доктора юридических наук     \n",
       "16752                                                                                                                                                                                                                                                                                                                                                                                                                                                                                                                                                                                                                                                                                                                                                                                                                                                                                                                                                                                                                                                                                                                                                                                                                                                                                                                                                                                                                                                                                                                                                                                                                                                                                                                                                                                                                                                                                                                                                                                                                                                                                                                                                                                                                                                                                                                                                                                                                                                                                                                                                                                                                                                                                                                                                                                                                                                                                                                                                                                                                                                                                                                                                                                                                                                                                                                                                                                                                                                                                                                                                                                                                                                                                                                                                                                                                                                                                                                                                                                                                                                                                                                                                                                                                                                                                                                                                                                                                                                                                                                                                                                                                                                                                                                                                                                                                                                                                                                                                                                                                                                                                                                                                                                                                                                                                                                                                                                                                                формирование нравственных ценностных ориентаций подростков средствами русской хоровой культуры  диссертация  кандидата педагогических наук   организационнопедагогические условия развития педагогического колледжа  диссертация  кандидата педагогических наук   организационнопедагогические условия формирования графической культуры старшеклассников  диссертация  кандидата педагогических наук     \n",
       "\n",
       "         relevant_words0 relevant_words1  \n",
       "0            медицинская         научная  \n",
       "1            диссертация       кандидата  \n",
       "2             мельникова      печерского  \n",
       "3            отсутствует      подвижницы  \n",
       "4            автореферат            наук  \n",
       "...                  ...             ...  \n",
       "16748  немецкофашистских     захватчиков  \n",
       "16749        диссертация         доктора  \n",
       "16750            русской           очерк  \n",
       "16751        юридических            наук  \n",
       "16752        диссертация       кандидата  \n",
       "\n",
       "[16753 rows x 4 columns]"
      ]
     },
     "execution_count": 46,
     "metadata": {},
     "output_type": "execute_result"
    }
   ],
   "source": [
    "frequency_list"
   ]
  },
  {
   "cell_type": "code",
   "execution_count": 47,
   "metadata": {
    "scrolled": true
   },
   "outputs": [],
   "source": [
    "for line in train_transactions.itertuples():\n",
    "    text = line.title.split()\n",
    "    checklist = frequency_list.loc[(frequency_list.chb == line.chb), 'relevant_words1']\n",
    "    for word in checklist:\n",
    "        if str(word) in text:\n",
    "            train_transactions.loc[(train_transactions.sys_numb == line.sys_numb), 'rating'] = 19 *\\\n",
    "            train_transactions['taked']/train_transactions['max_taked']"
   ]
  },
  {
   "cell_type": "code",
   "execution_count": 48,
   "metadata": {
    "scrolled": true
   },
   "outputs": [
    {
     "data": {
      "text/html": [
       "<div>\n",
       "<style scoped>\n",
       "    .dataframe tbody tr th:only-of-type {\n",
       "        vertical-align: middle;\n",
       "    }\n",
       "\n",
       "    .dataframe tbody tr th {\n",
       "        vertical-align: top;\n",
       "    }\n",
       "\n",
       "    .dataframe thead th {\n",
       "        text-align: right;\n",
       "    }\n",
       "</style>\n",
       "<table border=\"1\" class=\"dataframe\">\n",
       "  <thead>\n",
       "    <tr style=\"text-align: right;\">\n",
       "      <th></th>\n",
       "      <th>chb</th>\n",
       "      <th>sys_numb</th>\n",
       "      <th>taked</th>\n",
       "      <th>number_of_books</th>\n",
       "      <th>max_taked</th>\n",
       "      <th>rating</th>\n",
       "      <th>title</th>\n",
       "    </tr>\n",
       "  </thead>\n",
       "  <tbody>\n",
       "    <tr>\n",
       "      <th>1</th>\n",
       "      <td>100000641403</td>\n",
       "      <td>RSL01004206702</td>\n",
       "      <td>1</td>\n",
       "      <td>3</td>\n",
       "      <td>1</td>\n",
       "      <td>6.666667</td>\n",
       "      <td>придание огнестойкости деревянным постройкам</td>\n",
       "    </tr>\n",
       "    <tr>\n",
       "      <th>2</th>\n",
       "      <td>100000641403</td>\n",
       "      <td>RSL01004211574</td>\n",
       "      <td>1</td>\n",
       "      <td>3</td>\n",
       "      <td>1</td>\n",
       "      <td>6.666667</td>\n",
       "      <td>кирпичная изба</td>\n",
       "    </tr>\n",
       "    <tr>\n",
       "      <th>0</th>\n",
       "      <td>100000641403</td>\n",
       "      <td>RSL01000769304</td>\n",
       "      <td>1</td>\n",
       "      <td>3</td>\n",
       "      <td>1</td>\n",
       "      <td>19.000000</td>\n",
       "      <td>медицинская научная и общественная деятельность студентов военномедицинской академии в  гг  автореферат дис кандидата медицинских наук</td>\n",
       "    </tr>\n",
       "  </tbody>\n",
       "</table>\n",
       "</div>"
      ],
      "text/plain": [
       "            chb        sys_numb  taked  number_of_books  max_taked     rating  \\\n",
       "1  100000641403  RSL01004206702      1                3          1   6.666667   \n",
       "2  100000641403  RSL01004211574      1                3          1   6.666667   \n",
       "0  100000641403  RSL01000769304      1                3          1  19.000000   \n",
       "\n",
       "                                                                                                                                      title  \n",
       "1                                                                                             придание огнестойкости деревянным постройкам   \n",
       "2                                                                                                                           кирпичная изба   \n",
       "0  медицинская научная и общественная деятельность студентов военномедицинской академии в  гг  автореферат дис кандидата медицинских наук    "
      ]
     },
     "execution_count": 48,
     "metadata": {},
     "output_type": "execute_result"
    }
   ],
   "source": [
    "train_transactions[train_transactions['chb'] == '100000641403'].sort_values('rating')"
   ]
  },
  {
   "cell_type": "code",
   "execution_count": 49,
   "metadata": {
    "scrolled": true
   },
   "outputs": [
    {
     "data": {
      "text/plain": [
       "Text(0.5, 1.0, 'Распределение ratings')"
      ]
     },
     "execution_count": 49,
     "metadata": {},
     "output_type": "execute_result"
    },
    {
     "data": {
      "image/png": "[encoded data removed]",
      "text/plain": [
       "<Figure size 432x288 with 1 Axes>"
      ]
     },
     "metadata": {
      "needs_background": "light"
     },
     "output_type": "display_data"
    }
   ],
   "source": [
    "train_transactions[\"rating\"].plot.hist(bins=200).set_title('Распределение ratings')"
   ]
  },
  {
   "cell_type": "code",
   "execution_count": 50,
   "metadata": {
    "scrolled": true
   },
   "outputs": [],
   "source": [
    "for line in train_transactions.itertuples():\n",
    "    text = line.title.split()\n",
    "    checklist = frequency_list.loc[(frequency_list.chb == line.chb), 'relevant_words0']\n",
    "    for word in checklist:\n",
    "        if str(word) in text:\n",
    "            train_transactions.loc[(train_transactions.sys_numb == line.sys_numb), 'rating'] = 20 *\\\n",
    "            train_transactions['taked']/train_transactions['max_taked']"
   ]
  },
  {
   "cell_type": "code",
   "execution_count": 51,
   "metadata": {
    "scrolled": true
   },
   "outputs": [
    {
     "data": {
      "text/html": [
       "<div>\n",
       "<style scoped>\n",
       "    .dataframe tbody tr th:only-of-type {\n",
       "        vertical-align: middle;\n",
       "    }\n",
       "\n",
       "    .dataframe tbody tr th {\n",
       "        vertical-align: top;\n",
       "    }\n",
       "\n",
       "    .dataframe thead th {\n",
       "        text-align: right;\n",
       "    }\n",
       "</style>\n",
       "<table border=\"1\" class=\"dataframe\">\n",
       "  <thead>\n",
       "    <tr style=\"text-align: right;\">\n",
       "      <th></th>\n",
       "      <th>chb</th>\n",
       "      <th>sys_numb</th>\n",
       "      <th>taked</th>\n",
       "      <th>number_of_books</th>\n",
       "      <th>max_taked</th>\n",
       "      <th>rating</th>\n",
       "      <th>title</th>\n",
       "    </tr>\n",
       "  </thead>\n",
       "  <tbody>\n",
       "    <tr>\n",
       "      <th>1</th>\n",
       "      <td>100000641403</td>\n",
       "      <td>RSL01004206702</td>\n",
       "      <td>1</td>\n",
       "      <td>3</td>\n",
       "      <td>1</td>\n",
       "      <td>6.666667</td>\n",
       "      <td>придание огнестойкости деревянным постройкам</td>\n",
       "    </tr>\n",
       "    <tr>\n",
       "      <th>2</th>\n",
       "      <td>100000641403</td>\n",
       "      <td>RSL01004211574</td>\n",
       "      <td>1</td>\n",
       "      <td>3</td>\n",
       "      <td>1</td>\n",
       "      <td>6.666667</td>\n",
       "      <td>кирпичная изба</td>\n",
       "    </tr>\n",
       "    <tr>\n",
       "      <th>0</th>\n",
       "      <td>100000641403</td>\n",
       "      <td>RSL01000769304</td>\n",
       "      <td>1</td>\n",
       "      <td>3</td>\n",
       "      <td>1</td>\n",
       "      <td>20.000000</td>\n",
       "      <td>медицинская научная и общественная деятельность студентов военномедицинской академии в  гг  автореферат дис кандидата медицинских наук</td>\n",
       "    </tr>\n",
       "  </tbody>\n",
       "</table>\n",
       "</div>"
      ],
      "text/plain": [
       "            chb        sys_numb  taked  number_of_books  max_taked     rating  \\\n",
       "1  100000641403  RSL01004206702      1                3          1   6.666667   \n",
       "2  100000641403  RSL01004211574      1                3          1   6.666667   \n",
       "0  100000641403  RSL01000769304      1                3          1  20.000000   \n",
       "\n",
       "                                                                                                                                      title  \n",
       "1                                                                                             придание огнестойкости деревянным постройкам   \n",
       "2                                                                                                                           кирпичная изба   \n",
       "0  медицинская научная и общественная деятельность студентов военномедицинской академии в  гг  автореферат дис кандидата медицинских наук    "
      ]
     },
     "execution_count": 51,
     "metadata": {},
     "output_type": "execute_result"
    }
   ],
   "source": [
    "train_transactions[train_transactions['chb'] == '100000641403'].sort_values('rating')"
   ]
  },
  {
   "cell_type": "code",
   "execution_count": 52,
   "metadata": {
    "scrolled": true
   },
   "outputs": [
    {
     "data": {
      "text/plain": [
       "Text(0.5, 1.0, 'Распределение ratings')"
      ]
     },
     "execution_count": 52,
     "metadata": {},
     "output_type": "execute_result"
    },
    {
     "data": {
      "image/png": "[encoded data removed]",
      "text/plain": [
       "<Figure size 432x288 with 1 Axes>"
      ]
     },
     "metadata": {
      "needs_background": "light"
     },
     "output_type": "display_data"
    }
   ],
   "source": [
    "train_transactions[\"rating\"].plot.hist(bins=200).set_title('Распределение ratings')"
   ]
  },
  {
   "cell_type": "code",
   "execution_count": 53,
   "metadata": {
    "scrolled": true
   },
   "outputs": [],
   "source": [
    "pd.set_option('display.max_rows', 25)\n",
    "# pd.set_option('display.max_columns', None)\n",
    "# pd.set_option('display.max_colwidth', None)\n"
   ]
  },
  {
   "cell_type": "code",
   "execution_count": 55,
   "metadata": {
    "scrolled": false
   },
   "outputs": [
    {
     "data": {
      "text/plain": [
       "chb                 16753\n",
       "sys_numb           194666\n",
       "taked                  20\n",
       "number_of_books       211\n",
       "max_taked              20\n",
       "rating                625\n",
       "title              173192\n",
       "dtype: int64"
      ]
     },
     "execution_count": 55,
     "metadata": {},
     "output_type": "execute_result"
    }
   ],
   "source": [
    "train_transactions.nunique()"
   ]
  },
  {
   "cell_type": "code",
   "execution_count": 56,
   "metadata": {},
   "outputs": [],
   "source": [
    "#т.к далее придётся работать с матрицами созданим словари, которые точно отображают индексы в chb/sys_numb и обратно\n",
    "mapping_chb_index = {chb_number: index for index, chb_number in enumerate(train_transactions['chb'].unique())}\n",
    "mapping_sys_numb_index = {sys_number: index for index, sys_number in enumerate(train_transactions['sys_numb'].unique())}\n",
    "\n",
    "mapping_index_chb = {index: chb_number for index, chb_number in enumerate(train_transactions['chb'].unique())}\n",
    "mapping_index_sys_numb = {index: sys_number for index, sys_number in enumerate(train_transactions['sys_numb'].unique())}"
   ]
  },
  {
   "cell_type": "code",
   "execution_count": 57,
   "metadata": {
    "id": "hLBb6KL_8H8U"
   },
   "outputs": [],
   "source": [
    "from sklearn.model_selection import train_test_split\n",
    "\n",
    "# делим данные на тренировочный и тестовый наборы\n",
    "train_data, test_data = train_test_split(train_transactions, test_size=0.3, stratify=train_transactions['chb'])"
   ]
  },
  {
   "cell_type": "code",
   "execution_count": 58,
   "metadata": {},
   "outputs": [
    {
     "data": {
      "text/plain": [
       "chb                 16753\n",
       "sys_numb           141852\n",
       "taked                  19\n",
       "number_of_books       211\n",
       "max_taked              20\n",
       "rating                610\n",
       "title              126956\n",
       "dtype: int64"
      ]
     },
     "execution_count": 58,
     "metadata": {},
     "output_type": "execute_result"
    }
   ],
   "source": [
    "train_data.nunique()"
   ]
  },
  {
   "cell_type": "code",
   "execution_count": 59,
   "metadata": {
    "colab": {
     "base_uri": "https://localhost:8080/"
    },
    "id": "dSyFiABD8PQX",
    "outputId": "4172398a-8986-4b16-db9b-d7e435e25fd5",
    "scrolled": true
   },
   "outputs": [
    {
     "name": "stdout",
     "output_type": "stream",
     "text": [
      "Кол-во уникальных пользователей: 16753\n",
      "Кол-во уникальных пользователей в выборке для обучения: 16753\n",
      "Кол-во уникальных пользователей в выборке для тестирования: 16753\n"
     ]
    }
   ],
   "source": [
    "# в выборке для тестирования присутствуют все пользователи. \n",
    "\n",
    "print(f\"Кол-во уникальных пользователей: {len(train_transactions['chb'].unique())}\")\n",
    "print(f\"Кол-во уникальных пользователей в выборке для обучения: {len(train_data['chb'].unique())}\")\n",
    "print(f\"Кол-во уникальных пользователей в выборке для тестирования: {len(test_data['chb'].unique())}\")"
   ]
  },
  {
   "cell_type": "code",
   "execution_count": 60,
   "metadata": {
    "id": "72paVDLY7oEa"
   },
   "outputs": [],
   "source": [
    "# Имеем дело с разряженными матрицами с ними лучше работать в sparse формате\n",
    "\n",
    "def df_to_sparse(df):\n",
    "    row = []\n",
    "    col = []\n",
    "    data = []\n",
    "\n",
    "    for line in df.itertuples():\n",
    "        row.append(mapping_chb_index[line.chb])\n",
    "        col.append(mapping_sys_numb_index[line.sys_numb])\n",
    "        data.append(line.rating)\n",
    "\n",
    "    return csr_matrix((data, (row, col)))"
   ]
  },
  {
   "cell_type": "code",
   "execution_count": 61,
   "metadata": {
    "id": "sIioYN2Pnw1e",
    "scrolled": true
   },
   "outputs": [],
   "source": [
    "# получение sparse матрицы user-item для train/test\n",
    "train_data_sparse = df_to_sparse(train_transactions)\n",
    "test_data_sparse = df_to_sparse(test_data)"
   ]
  },
  {
   "cell_type": "code",
   "execution_count": 62,
   "metadata": {
    "scrolled": false
   },
   "outputs": [
    {
     "data": {
      "text/plain": [
       "(16753, 194666)"
      ]
     },
     "execution_count": 62,
     "metadata": {},
     "output_type": "execute_result"
    }
   ],
   "source": [
    "train_data_sparse.shape"
   ]
  },
  {
   "cell_type": "markdown",
   "metadata": {
    "colab": {
     "base_uri": "https://localhost:8080/",
     "height": 140,
     "referenced_widgets": [
      "9e35014db65e438fada932a477dfebf2",
      "cd3f85754e844696a20fd41eacc89b40",
      "1af4fefd505f48d794821396f5b9fc1b",
      "583c1f2d5430452a9cf76ed438c65e64",
      "3db833df7f034c1199d52188b242610c",
      "1fcd51026434444fba4c19e014a4fd44",
      "c1bed85b821845fd88a0fc3d13c24f61",
      "0593ed0e5f114ce19b98638ebff2e107",
      "fac76e7c28494a078cea00a3503e6ae4",
      "3a361ace8315401b9faf50b7e377b654",
      "e46e3d9623db4f2c957c81ece8f59c9a"
     ]
    },
    "id": "X62dRVnjo5RH",
    "outputId": "1635b82f-684e-47b0-b52e-4603f0af6aff"
   },
   "source": [
    "# Построение модели с помощью алгоритма ALS"
   ]
  },
  {
   "cell_type": "code",
   "execution_count": 63,
   "metadata": {},
   "outputs": [],
   "source": [
    "from implicit.als import AlternatingLeastSquares\n",
    "# AlternatingLeastSquares?"
   ]
  },
  {
   "cell_type": "code",
   "execution_count": 65,
   "metadata": {
    "scrolled": false
   },
   "outputs": [
    {
     "data": {
      "application/vnd.jupyter.widget-view+json": {
       "model_id": "b33b7f342aa44ad6808ff188849d034d",
       "version_major": 2,
       "version_minor": 0
      },
      "text/plain": [
       "  0%|          | 0/50 [00:00<?, ?it/s]"
      ]
     },
     "metadata": {},
     "output_type": "display_data"
    }
   ],
   "source": [
    "# Создаем модель\n",
    "model = AlternatingLeastSquares(factors=20, iterations=15, alpha = 20)\n",
    "model.fit(train_data_sparse)"
   ]
  },
  {
   "cell_type": "code",
   "execution_count": 66,
   "metadata": {
    "id": "NvQfL8FKo-mK",
    "scrolled": true
   },
   "outputs": [],
   "source": [
    "# Получим рекомендации для конкретного пользователя \n",
    "userid = 2233\n",
    "ids, scores = model.recommend(userid, train_data_sparse[userid], N=20, filter_already_liked_items=False)"
   ]
  },
  {
   "cell_type": "code",
   "execution_count": 67,
   "metadata": {
    "id": "CKKraTEnpdx3"
   },
   "outputs": [],
   "source": [
    "# Отобразим рекомендации в DataFrame\n",
    "top20recom_df = pd.DataFrame({\"sys_numb\": [mapping_index_sys_numb[id] for id in ids], \"score\": scores, \"already_liked\": np.in1d(ids, train_data_sparse[userid].indices)})"
   ]
  },
  {
   "cell_type": "code",
   "execution_count": 68,
   "metadata": {
    "scrolled": false
   },
   "outputs": [
    {
     "data": {
      "text/html": [
       "<div>\n",
       "<style scoped>\n",
       "    .dataframe tbody tr th:only-of-type {\n",
       "        vertical-align: middle;\n",
       "    }\n",
       "\n",
       "    .dataframe tbody tr th {\n",
       "        vertical-align: top;\n",
       "    }\n",
       "\n",
       "    .dataframe thead th {\n",
       "        text-align: right;\n",
       "    }\n",
       "</style>\n",
       "<table border=\"1\" class=\"dataframe\">\n",
       "  <thead>\n",
       "    <tr style=\"text-align: right;\">\n",
       "      <th></th>\n",
       "      <th>sys_numb</th>\n",
       "      <th>score</th>\n",
       "      <th>already_liked</th>\n",
       "    </tr>\n",
       "  </thead>\n",
       "  <tbody>\n",
       "    <tr>\n",
       "      <th>0</th>\n",
       "      <td>RSL01002917145</td>\n",
       "      <td>0.675469</td>\n",
       "      <td>True</td>\n",
       "    </tr>\n",
       "    <tr>\n",
       "      <th>1</th>\n",
       "      <td>RSL01004479890</td>\n",
       "      <td>0.509975</td>\n",
       "      <td>True</td>\n",
       "    </tr>\n",
       "    <tr>\n",
       "      <th>2</th>\n",
       "      <td>RSL01009618059</td>\n",
       "      <td>0.509972</td>\n",
       "      <td>True</td>\n",
       "    </tr>\n",
       "    <tr>\n",
       "      <th>3</th>\n",
       "      <td>RSL01004898666</td>\n",
       "      <td>0.509972</td>\n",
       "      <td>True</td>\n",
       "    </tr>\n",
       "    <tr>\n",
       "      <th>4</th>\n",
       "      <td>RSL01004970585</td>\n",
       "      <td>0.509967</td>\n",
       "      <td>True</td>\n",
       "    </tr>\n",
       "    <tr>\n",
       "      <th>5</th>\n",
       "      <td>RSL01003443677</td>\n",
       "      <td>0.327824</td>\n",
       "      <td>False</td>\n",
       "    </tr>\n",
       "    <tr>\n",
       "      <th>6</th>\n",
       "      <td>RSL01003539006</td>\n",
       "      <td>0.307345</td>\n",
       "      <td>False</td>\n",
       "    </tr>\n",
       "    <tr>\n",
       "      <th>7</th>\n",
       "      <td>RSL01002589086</td>\n",
       "      <td>0.291215</td>\n",
       "      <td>False</td>\n",
       "    </tr>\n",
       "    <tr>\n",
       "      <th>8</th>\n",
       "      <td>RSL01002349089</td>\n",
       "      <td>0.279151</td>\n",
       "      <td>False</td>\n",
       "    </tr>\n",
       "    <tr>\n",
       "      <th>9</th>\n",
       "      <td>RSL01010337581</td>\n",
       "      <td>0.268866</td>\n",
       "      <td>False</td>\n",
       "    </tr>\n",
       "    <tr>\n",
       "      <th>10</th>\n",
       "      <td>RSL01007012409</td>\n",
       "      <td>0.268850</td>\n",
       "      <td>False</td>\n",
       "    </tr>\n",
       "    <tr>\n",
       "      <th>11</th>\n",
       "      <td>RSL01010180286</td>\n",
       "      <td>0.268460</td>\n",
       "      <td>False</td>\n",
       "    </tr>\n",
       "    <tr>\n",
       "      <th>12</th>\n",
       "      <td>RSL01003615897</td>\n",
       "      <td>0.268309</td>\n",
       "      <td>False</td>\n",
       "    </tr>\n",
       "    <tr>\n",
       "      <th>13</th>\n",
       "      <td>RSL01004581967</td>\n",
       "      <td>0.265415</td>\n",
       "      <td>False</td>\n",
       "    </tr>\n",
       "    <tr>\n",
       "      <th>14</th>\n",
       "      <td>RSL01004874605</td>\n",
       "      <td>0.265377</td>\n",
       "      <td>False</td>\n",
       "    </tr>\n",
       "    <tr>\n",
       "      <th>15</th>\n",
       "      <td>RSL01008806171</td>\n",
       "      <td>0.264654</td>\n",
       "      <td>False</td>\n",
       "    </tr>\n",
       "    <tr>\n",
       "      <th>16</th>\n",
       "      <td>RSL01010371138</td>\n",
       "      <td>0.264646</td>\n",
       "      <td>False</td>\n",
       "    </tr>\n",
       "    <tr>\n",
       "      <th>17</th>\n",
       "      <td>RSL01010644909</td>\n",
       "      <td>0.260938</td>\n",
       "      <td>False</td>\n",
       "    </tr>\n",
       "    <tr>\n",
       "      <th>18</th>\n",
       "      <td>RSL01004728630</td>\n",
       "      <td>0.258643</td>\n",
       "      <td>False</td>\n",
       "    </tr>\n",
       "    <tr>\n",
       "      <th>19</th>\n",
       "      <td>RSL01002980253</td>\n",
       "      <td>0.257468</td>\n",
       "      <td>False</td>\n",
       "    </tr>\n",
       "  </tbody>\n",
       "</table>\n",
       "</div>"
      ],
      "text/plain": [
       "          sys_numb     score  already_liked\n",
       "0   RSL01002917145  0.675469           True\n",
       "1   RSL01004479890  0.509975           True\n",
       "2   RSL01009618059  0.509972           True\n",
       "3   RSL01004898666  0.509972           True\n",
       "4   RSL01004970585  0.509967           True\n",
       "5   RSL01003443677  0.327824          False\n",
       "6   RSL01003539006  0.307345          False\n",
       "7   RSL01002589086  0.291215          False\n",
       "8   RSL01002349089  0.279151          False\n",
       "9   RSL01010337581  0.268866          False\n",
       "10  RSL01007012409  0.268850          False\n",
       "11  RSL01010180286  0.268460          False\n",
       "12  RSL01003615897  0.268309          False\n",
       "13  RSL01004581967  0.265415          False\n",
       "14  RSL01004874605  0.265377          False\n",
       "15  RSL01008806171  0.264654          False\n",
       "16  RSL01010371138  0.264646          False\n",
       "17  RSL01010644909  0.260938          False\n",
       "18  RSL01004728630  0.258643          False\n",
       "19  RSL01002980253  0.257468          False"
      ]
     },
     "execution_count": 68,
     "metadata": {},
     "output_type": "execute_result"
    }
   ],
   "source": [
    "top20recom_df"
   ]
  },
  {
   "cell_type": "code",
   "execution_count": 69,
   "metadata": {
    "id": "9mCV8ONytTb-"
   },
   "outputs": [],
   "source": [
    "def get_recom(userid):\n",
    "    ids, scores = model.recommend(userid, train_data_sparse[userid], N=20, filter_already_liked_items=False)\n",
    "    top20recom_df = pd.DataFrame({\"sys_numb\": [mapping_index_sys_numb[id] for id in ids], \"score\": scores, \"already_liked\": np.in1d(ids, train_data_sparse[userid].indices)})\n",
    "    return top20recom_df['sys_numb'].values"
   ]
  },
  {
   "cell_type": "code",
   "execution_count": 70,
   "metadata": {},
   "outputs": [
    {
     "data": {
      "application/vnd.jupyter.widget-view+json": {
       "model_id": "0c38bfebe3b54a87aa7dd3d0e17beb22",
       "version_major": 2,
       "version_minor": 0
      },
      "text/plain": [
       "  0%|          | 0/16753 [00:00<?, ?it/s]"
      ]
     },
     "metadata": {},
     "output_type": "display_data"
    }
   ],
   "source": [
    "#подбор рекомендаций для всех пользователей из train\n",
    "\n",
    "all_rec = []\n",
    "\n",
    "for userid in tqdm(range(train_data_sparse.shape[0])):\n",
    "    user_chb = mapping_index_chb[userid]\n",
    "    user_rec = get_recom(userid)\n",
    "    for rec in user_rec:\n",
    "        all_rec.append([user_chb, rec])"
   ]
  },
  {
   "cell_type": "code",
   "execution_count": 71,
   "metadata": {
    "colab": {
     "base_uri": "https://localhost:8080/",
     "height": 49,
     "referenced_widgets": [
      "be58df1cad224991b004a318f0c69322",
      "6bf87b161b954999952a6d337577a664",
      "5e46694fefb542e0948270973c702954",
      "428c136d31964fd093e2aadca93ef5c7",
      "e7880e2ddc5e4f9080f78d652db0bade",
      "692b0e4b0f47424e848f943e9dc2920a",
      "23d91341a43349b9a49f19ffd81c9e02",
      "4ac5a4756d884e3c8dce1d8eb5ee8df4",
      "313a2d8b1d0d4da791ce6a926e15fa19",
      "f279b84231f247e391ae3e70913c2f8d",
      "0a8179380583411785f4610ab541d6ec"
     ]
    },
    "id": "wxN0Daj3sUkC",
    "outputId": "91cf625f-9785-4c75-9d8d-201fb5d6be91",
    "scrolled": true
   },
   "outputs": [],
   "source": [
    "# DataFrame для отправки решения с рекомендациями\n",
    "solution = pd.DataFrame(all_rec, columns=[\"chb\", \"sys_numb\"])"
   ]
  },
  {
   "cell_type": "code",
   "execution_count": 72,
   "metadata": {},
   "outputs": [],
   "source": [
    "# Формирование csv файла для отправки на платформу\n",
    "solution.to_csv(\"solution59.csv\", index=False, sep=';')"
   ]
  },
  {
   "cell_type": "markdown",
   "metadata": {
    "id": "U_pygwAjyog-"
   },
   "source": [
    "## Метрика"
   ]
  },
  {
   "cell_type": "code",
   "execution_count": 73,
   "metadata": {},
   "outputs": [],
   "source": [
    "df_solution = solution\n",
    "df_grd = test_data"
   ]
  },
  {
   "cell_type": "code",
   "execution_count": 74,
   "metadata": {},
   "outputs": [],
   "source": [
    "#считаем recall, precision, f1_score\n",
    "\n",
    "def metric(df_solution, df_grd):\n",
    "    pred = set(df_solution['chb'] + '_' + df_solution['sys_numb'].values)\n",
    "    true = set(df_grd['chb'] + '_' + df_grd['sys_numb'].values)\n",
    "    recall = len(pred.intersection(true)) / len(true)\n",
    "    precision = len(pred.intersection(true)) / (20 * len(df_grd['chb'].unique()))\n",
    "    f1_score = 2 * (precision * recall) / (precision + recall)\n",
    "    print(f\"Recall: {round(recall, 5)}\")\n",
    "    print(f\"Precision: {round(precision, 5)}\")\n",
    "    print(f\"F1-score: {round(f1_score, 5)}\")"
   ]
  },
  {
   "cell_type": "code",
   "execution_count": 75,
   "metadata": {},
   "outputs": [
    {
     "name": "stdout",
     "output_type": "stream",
     "text": [
      "Recall: 0.36247\n",
      "Precision: 0.07432\n",
      "F1-score: 0.12335\n"
     ]
    }
   ],
   "source": [
    "# оценка базового решения\n",
    "\n",
    "metric(df_solution, df_grd)"
   ]
  },
  {
   "cell_type": "markdown",
   "metadata": {},
   "source": [
    "Recall: 0.45836\n",
    "Precision: 0.09398\n",
    "F1-score: 0.15598 iterations=30, alpha = 90\n",
    "\n",
    "Recall: 0.47523\n",
    "Precision: 0.09744\n",
    "F1-score: 0.16172 iterations=100, alpha = 250\n",
    "\n",
    "Recall: 0.39937\n",
    "Precision: 0.08189\n",
    "F1-score: 0.13591 iterations=50, alpha = 42\n",
    "\n",
    "Recall: 0.4098\n",
    "Precision: 0.08403\n",
    "F1-score: 0.13946 iterations=50, alpha = 200\n",
    "\n",
    "Recall: 0.48957\n",
    "Precision: 0.096\n",
    "F1-score: 0.16052 factors=200, iterations=50, alpha = 200\n",
    "\n",
    "Recall: 0.51441\n",
    "Precision: 0.09672\n",
    "F1-score: 0.16282 factors=200, iterations=100, alpha = 350\n",
    "\n",
    "Recall: 0.50392\n",
    "Precision: 0.10332\n",
    "F1-score: 0.17149 factors=200, iterations=50, alpha = 350\n",
    "\n",
    "Recall: 0.47321\n",
    "Precision: 0.09703\n",
    "F1-score: 0.16104 factors=200, iterations=100, alpha = 350\n",
    "\n",
    "Recall: 0.08908\n",
    "Precision: 0.01827\n",
    "F1-score: 0.03031 alpha = 2\n",
    "\n",
    "Recall: 0.32525\n",
    "Precision: 0.06669\n",
    "F1-score: 0.11068 alpha = 100\n",
    "\n",
    "Recall: 0.35465\n",
    "Precision: 0.07272\n",
    "F1-score: 0.12069 alpha = 150\n",
    "\n",
    "Recall: 0.37439\n",
    "Precision: 0.07677\n",
    "F1-score: 0.12741 alpha = 200\n",
    "\n",
    "Recall: 0.39126\n",
    "Precision: 0.08022\n",
    "F1-score: 0.13315 alpha = 250\n",
    "\n",
    "Recall: 0.40452\n",
    "Precision: 0.08294\n",
    "F1-score: 0.13766 alpha = 300\n",
    "\n",
    "Recall: 0.41513\n",
    "Precision: 0.08512\n",
    "F1-score: 0.14127 alpha = 350\n",
    "\n",
    "Recall: 0.40439\n",
    "Precision: 0.08292\n",
    "F1-score: 0.13762 alpha = 400\\\n",
    "\n",
    "\n",
    "Recall: 0.44954\n",
    "Precision: 0.09217\n",
    "F1-score: 0.15298 iterations=50, alpha = 350\n",
    "\n",
    "Recall: 0.4078\n",
    "Precision: 0.08361\n",
    "F1-score: 0.13878 iterations=50, alpha = 200\n",
    "\n",
    "regularization=0\\\n",
    "Recall: 0.41438\n",
    "Precision: 0.08496\n",
    "F1-score: 0.14101 alpha = 350"
   ]
  },
  {
   "cell_type": "code",
   "execution_count": 76,
   "metadata": {
    "colab": {
     "base_uri": "https://localhost:8080/"
    },
    "id": "v4b-lqwuKhA0",
    "outputId": "30da4d87-85b0-4c8a-a031-7573917a6201",
    "scrolled": true
   },
   "outputs": [
    {
     "name": "stdout",
     "output_type": "stream",
     "text": [
      "Recall: 1.0\n",
      "Precision: 0.20504\n",
      "F1-score: 0.34031\n"
     ]
    }
   ],
   "source": [
    "# подадим ответы в качестве рекомендаций\n",
    "\n",
    "metric(df_grd, df_grd)"
   ]
  },
  {
   "cell_type": "code",
   "execution_count": 77,
   "metadata": {
    "colab": {
     "base_uri": "https://localhost:8080/",
     "height": 49,
     "referenced_widgets": [
      "58097bbf6fef4e2b95f41f558a0a300a",
      "dced4c19d6d3431ebedb6a5a9fd29a00",
      "455829e8241d45c099fa872d015d76ee",
      "708e0d7bd9e348d1b99185ddcbe27cc0",
      "6aded57491184c279c28ae4d4e7407f6",
      "224b4e830a974af7a2b3d50f7964e63d",
      "4bd7c42ca78d4672b3a5b2a4ad508b13",
      "5d4246d46d6c42baa66f0ee341be7c72",
      "bc76eef610b34ee5bd3198c2e59b5571",
      "3eac1aa497e142348cc7ddd3d3149d07",
      "9a5eaae1ccb34ef99eb1ceef37c2b0ad"
     ]
    },
    "id": "bJNU4LRcE1yK",
    "outputId": "7fc21ade-93fa-42af-c91b-75ba3edd9d2c"
   },
   "outputs": [
    {
     "data": {
      "application/vnd.jupyter.widget-view+json": {
       "model_id": "0373bb67498246a7b5456a0c30a0f81e",
       "version_major": 2,
       "version_minor": 0
      },
      "text/plain": [
       "  0%|          | 0/16753 [00:00<?, ?it/s]"
      ]
     },
     "metadata": {},
     "output_type": "display_data"
    }
   ],
   "source": [
    "# создадим случайные рекомендации \n",
    "random_solution = []\n",
    "for chb in tqdm(set(df_grd['chb'].values)):\n",
    "    for sys in items['sys_numb'].sample(20).values:\n",
    "        random_solution.append([chb, sys])"
   ]
  },
  {
   "cell_type": "code",
   "execution_count": 78,
   "metadata": {
    "colab": {
     "base_uri": "https://localhost:8080/"
    },
    "id": "rS3NJs-dGkrs",
    "outputId": "d91b6121-abd2-4b03-957a-0061d9db94da"
   },
   "outputs": [
    {
     "name": "stdout",
     "output_type": "stream",
     "text": [
      "Recall: 7e-05\n",
      "Precision: 1e-05\n",
      "F1-score: 2e-05\n"
     ]
    }
   ],
   "source": [
    "# оценка подхода со случайными рекомендациями\n",
    "metric(pd.DataFrame(random_solution, columns=['chb', 'sys_numb']), df_grd)"
   ]
  },
  {
   "cell_type": "code",
   "execution_count": null,
   "metadata": {},
   "outputs": [],
   "source": []
  }
 ],
 "metadata": {
  "colab": {
   "collapsed_sections": [],
   "name": "baseline.ipynb",
   "provenance": []
  },
  "kernelspec": {
   "display_name": "Python 3 (ipykernel)",
   "language": "python",
   "name": "python3"
  },
  "language_info": {
   "codemirror_mode": {
    "name": "ipython",
    "version": 3
   },
   "file_extension": ".py",
   "mimetype": "text/x-python",
   "name": "python",
   "nbconvert_exporter": "python",
   "pygments_lexer": "ipython3",
   "version": "3.9.7"
  },
  "widgets": {
   "application/vnd.jupyter.widget-state+json": {
    "0593ed0e5f114ce19b98638ebff2e107": {
     "model_module": "@jupyter-widgets/base",
     "model_module_version": "1.2.0",
     "model_name": "LayoutModel",
     "state": {
      "_model_module": "@jupyter-widgets/base",
      "_model_module_version": "1.2.0",
      "_model_name": "LayoutModel",
      "_view_count": null,
      "_view_module": "@jupyter-widgets/base",
      "_view_module_version": "1.2.0",
      "_view_name": "LayoutView",
      "align_content": null,
      "align_items": null,
      "align_self": null,
      "border": null,
      "bottom": null,
      "display": null,
      "flex": null,
      "flex_flow": null,
      "grid_area": null,
      "grid_auto_columns": null,
      "grid_auto_flow": null,
      "grid_auto_rows": null,
      "grid_column": null,
      "grid_gap": null,
      "grid_row": null,
      "grid_template_areas": null,
      "grid_template_columns": null,
      "grid_template_rows": null,
      "height": null,
      "justify_content": null,
      "justify_items": null,
      "left": null,
      "margin": null,
      "max_height": null,
      "max_width": null,
      "min_height": null,
      "min_width": null,
      "object_fit": null,
      "object_position": null,
      "order": null,
      "overflow": null,
      "overflow_x": null,
      "overflow_y": null,
      "padding": null,
      "right": null,
      "top": null,
      "visibility": null,
      "width": null
     }
    },
    "0a8179380583411785f4610ab541d6ec": {
     "model_module": "@jupyter-widgets/controls",
     "model_module_version": "1.5.0",
     "model_name": "DescriptionStyleModel",
     "state": {
      "_model_module": "@jupyter-widgets/controls",
      "_model_module_version": "1.5.0",
      "_model_name": "DescriptionStyleModel",
      "_view_count": null,
      "_view_module": "@jupyter-widgets/base",
      "_view_module_version": "1.2.0",
      "_view_name": "StyleView",
      "description_width": ""
     }
    },
    "1af4fefd505f48d794821396f5b9fc1b": {
     "model_module": "@jupyter-widgets/controls",
     "model_module_version": "1.5.0",
     "model_name": "FloatProgressModel",
     "state": {
      "_dom_classes": [],
      "_model_module": "@jupyter-widgets/controls",
      "_model_module_version": "1.5.0",
      "_model_name": "FloatProgressModel",
      "_view_count": null,
      "_view_module": "@jupyter-widgets/controls",
      "_view_module_version": "1.5.0",
      "_view_name": "ProgressView",
      "bar_style": "success",
      "description": "",
      "description_tooltip": null,
      "layout": "IPY_MODEL_0593ed0e5f114ce19b98638ebff2e107",
      "max": 15,
      "min": 0,
      "orientation": "horizontal",
      "style": "IPY_MODEL_fac76e7c28494a078cea00a3503e6ae4",
      "value": 15
     }
    },
    "1fcd51026434444fba4c19e014a4fd44": {
     "model_module": "@jupyter-widgets/base",
     "model_module_version": "1.2.0",
     "model_name": "LayoutModel",
     "state": {
      "_model_module": "@jupyter-widgets/base",
      "_model_module_version": "1.2.0",
      "_model_name": "LayoutModel",
      "_view_count": null,
      "_view_module": "@jupyter-widgets/base",
      "_view_module_version": "1.2.0",
      "_view_name": "LayoutView",
      "align_content": null,
      "align_items": null,
      "align_self": null,
      "border": null,
      "bottom": null,
      "display": null,
      "flex": null,
      "flex_flow": null,
      "grid_area": null,
      "grid_auto_columns": null,
      "grid_auto_flow": null,
      "grid_auto_rows": null,
      "grid_column": null,
      "grid_gap": null,
      "grid_row": null,
      "grid_template_areas": null,
      "grid_template_columns": null,
      "grid_template_rows": null,
      "height": null,
      "justify_content": null,
      "justify_items": null,
      "left": null,
      "margin": null,
      "max_height": null,
      "max_width": null,
      "min_height": null,
      "min_width": null,
      "object_fit": null,
      "object_position": null,
      "order": null,
      "overflow": null,
      "overflow_x": null,
      "overflow_y": null,
      "padding": null,
      "right": null,
      "top": null,
      "visibility": null,
      "width": null
     }
    },
    "224b4e830a974af7a2b3d50f7964e63d": {
     "model_module": "@jupyter-widgets/base",
     "model_module_version": "1.2.0",
     "model_name": "LayoutModel",
     "state": {
      "_model_module": "@jupyter-widgets/base",
      "_model_module_version": "1.2.0",
      "_model_name": "LayoutModel",
      "_view_count": null,
      "_view_module": "@jupyter-widgets/base",
      "_view_module_version": "1.2.0",
      "_view_name": "LayoutView",
      "align_content": null,
      "align_items": null,
      "align_self": null,
      "border": null,
      "bottom": null,
      "display": null,
      "flex": null,
      "flex_flow": null,
      "grid_area": null,
      "grid_auto_columns": null,
      "grid_auto_flow": null,
      "grid_auto_rows": null,
      "grid_column": null,
      "grid_gap": null,
      "grid_row": null,
      "grid_template_areas": null,
      "grid_template_columns": null,
      "grid_template_rows": null,
      "height": null,
      "justify_content": null,
      "justify_items": null,
      "left": null,
      "margin": null,
      "max_height": null,
      "max_width": null,
      "min_height": null,
      "min_width": null,
      "object_fit": null,
      "object_position": null,
      "order": null,
      "overflow": null,
      "overflow_x": null,
      "overflow_y": null,
      "padding": null,
      "right": null,
      "top": null,
      "visibility": null,
      "width": null
     }
    },
    "23d91341a43349b9a49f19ffd81c9e02": {
     "model_module": "@jupyter-widgets/controls",
     "model_module_version": "1.5.0",
     "model_name": "DescriptionStyleModel",
     "state": {
      "_model_module": "@jupyter-widgets/controls",
      "_model_module_version": "1.5.0",
      "_model_name": "DescriptionStyleModel",
      "_view_count": null,
      "_view_module": "@jupyter-widgets/base",
      "_view_module_version": "1.2.0",
      "_view_name": "StyleView",
      "description_width": ""
     }
    },
    "313a2d8b1d0d4da791ce6a926e15fa19": {
     "model_module": "@jupyter-widgets/controls",
     "model_module_version": "1.5.0",
     "model_name": "ProgressStyleModel",
     "state": {
      "_model_module": "@jupyter-widgets/controls",
      "_model_module_version": "1.5.0",
      "_model_name": "ProgressStyleModel",
      "_view_count": null,
      "_view_module": "@jupyter-widgets/base",
      "_view_module_version": "1.2.0",
      "_view_name": "StyleView",
      "bar_color": null,
      "description_width": ""
     }
    },
    "3a361ace8315401b9faf50b7e377b654": {
     "model_module": "@jupyter-widgets/base",
     "model_module_version": "1.2.0",
     "model_name": "LayoutModel",
     "state": {
      "_model_module": "@jupyter-widgets/base",
      "_model_module_version": "1.2.0",
      "_model_name": "LayoutModel",
      "_view_count": null,
      "_view_module": "@jupyter-widgets/base",
      "_view_module_version": "1.2.0",
      "_view_name": "LayoutView",
      "align_content": null,
      "align_items": null,
      "align_self": null,
      "border": null,
      "bottom": null,
      "display": null,
      "flex": null,
      "flex_flow": null,
      "grid_area": null,
      "grid_auto_columns": null,
      "grid_auto_flow": null,
      "grid_auto_rows": null,
      "grid_column": null,
      "grid_gap": null,
      "grid_row": null,
      "grid_template_areas": null,
      "grid_template_columns": null,
      "grid_template_rows": null,
      "height": null,
      "justify_content": null,
      "justify_items": null,
      "left": null,
      "margin": null,
      "max_height": null,
      "max_width": null,
      "min_height": null,
      "min_width": null,
      "object_fit": null,
      "object_position": null,
      "order": null,
      "overflow": null,
      "overflow_x": null,
      "overflow_y": null,
      "padding": null,
      "right": null,
      "top": null,
      "visibility": null,
      "width": null
     }
    },
    "3db833df7f034c1199d52188b242610c": {
     "model_module": "@jupyter-widgets/base",
     "model_module_version": "1.2.0",
     "model_name": "LayoutModel",
     "state": {
      "_model_module": "@jupyter-widgets/base",
      "_model_module_version": "1.2.0",
      "_model_name": "LayoutModel",
      "_view_count": null,
      "_view_module": "@jupyter-widgets/base",
      "_view_module_version": "1.2.0",
      "_view_name": "LayoutView",
      "align_content": null,
      "align_items": null,
      "align_self": null,
      "border": null,
      "bottom": null,
      "display": null,
      "flex": null,
      "flex_flow": null,
      "grid_area": null,
      "grid_auto_columns": null,
      "grid_auto_flow": null,
      "grid_auto_rows": null,
      "grid_column": null,
      "grid_gap": null,
      "grid_row": null,
      "grid_template_areas": null,
      "grid_template_columns": null,
      "grid_template_rows": null,
      "height": null,
      "justify_content": null,
      "justify_items": null,
      "left": null,
      "margin": null,
      "max_height": null,
      "max_width": null,
      "min_height": null,
      "min_width": null,
      "object_fit": null,
      "object_position": null,
      "order": null,
      "overflow": null,
      "overflow_x": null,
      "overflow_y": null,
      "padding": null,
      "right": null,
      "top": null,
      "visibility": null,
      "width": null
     }
    },
    "3eac1aa497e142348cc7ddd3d3149d07": {
     "model_module": "@jupyter-widgets/base",
     "model_module_version": "1.2.0",
     "model_name": "LayoutModel",
     "state": {
      "_model_module": "@jupyter-widgets/base",
      "_model_module_version": "1.2.0",
      "_model_name": "LayoutModel",
      "_view_count": null,
      "_view_module": "@jupyter-widgets/base",
      "_view_module_version": "1.2.0",
      "_view_name": "LayoutView",
      "align_content": null,
      "align_items": null,
      "align_self": null,
      "border": null,
      "bottom": null,
      "display": null,
      "flex": null,
      "flex_flow": null,
      "grid_area": null,
      "grid_auto_columns": null,
      "grid_auto_flow": null,
      "grid_auto_rows": null,
      "grid_column": null,
      "grid_gap": null,
      "grid_row": null,
      "grid_template_areas": null,
      "grid_template_columns": null,
      "grid_template_rows": null,
      "height": null,
      "justify_content": null,
      "justify_items": null,
      "left": null,
      "margin": null,
      "max_height": null,
      "max_width": null,
      "min_height": null,
      "min_width": null,
      "object_fit": null,
      "object_position": null,
      "order": null,
      "overflow": null,
      "overflow_x": null,
      "overflow_y": null,
      "padding": null,
      "right": null,
      "top": null,
      "visibility": null,
      "width": null
     }
    },
    "428c136d31964fd093e2aadca93ef5c7": {
     "model_module": "@jupyter-widgets/controls",
     "model_module_version": "1.5.0",
     "model_name": "HTMLModel",
     "state": {
      "_dom_classes": [],
      "_model_module": "@jupyter-widgets/controls",
      "_model_module_version": "1.5.0",
      "_model_name": "HTMLModel",
      "_view_count": null,
      "_view_module": "@jupyter-widgets/controls",
      "_view_module_version": "1.5.0",
      "_view_name": "HTMLView",
      "description": "",
      "description_tooltip": null,
      "layout": "IPY_MODEL_f279b84231f247e391ae3e70913c2f8d",
      "placeholder": "​",
      "style": "IPY_MODEL_0a8179380583411785f4610ab541d6ec",
      "value": " 16753/16753 [04:54&lt;00:00, 57.85it/s]"
     }
    },
    "455829e8241d45c099fa872d015d76ee": {
     "model_module": "@jupyter-widgets/controls",
     "model_module_version": "1.5.0",
     "model_name": "FloatProgressModel",
     "state": {
      "_dom_classes": [],
      "_model_module": "@jupyter-widgets/controls",
      "_model_module_version": "1.5.0",
      "_model_name": "FloatProgressModel",
      "_view_count": null,
      "_view_module": "@jupyter-widgets/controls",
      "_view_module_version": "1.5.0",
      "_view_name": "ProgressView",
      "bar_style": "success",
      "description": "",
      "description_tooltip": null,
      "layout": "IPY_MODEL_5d4246d46d6c42baa66f0ee341be7c72",
      "max": 12406,
      "min": 0,
      "orientation": "horizontal",
      "style": "IPY_MODEL_bc76eef610b34ee5bd3198c2e59b5571",
      "value": 12406
     }
    },
    "4ac5a4756d884e3c8dce1d8eb5ee8df4": {
     "model_module": "@jupyter-widgets/base",
     "model_module_version": "1.2.0",
     "model_name": "LayoutModel",
     "state": {
      "_model_module": "@jupyter-widgets/base",
      "_model_module_version": "1.2.0",
      "_model_name": "LayoutModel",
      "_view_count": null,
      "_view_module": "@jupyter-widgets/base",
      "_view_module_version": "1.2.0",
      "_view_name": "LayoutView",
      "align_content": null,
      "align_items": null,
      "align_self": null,
      "border": null,
      "bottom": null,
      "display": null,
      "flex": null,
      "flex_flow": null,
      "grid_area": null,
      "grid_auto_columns": null,
      "grid_auto_flow": null,
      "grid_auto_rows": null,
      "grid_column": null,
      "grid_gap": null,
      "grid_row": null,
      "grid_template_areas": null,
      "grid_template_columns": null,
      "grid_template_rows": null,
      "height": null,
      "justify_content": null,
      "justify_items": null,
      "left": null,
      "margin": null,
      "max_height": null,
      "max_width": null,
      "min_height": null,
      "min_width": null,
      "object_fit": null,
      "object_position": null,
      "order": null,
      "overflow": null,
      "overflow_x": null,
      "overflow_y": null,
      "padding": null,
      "right": null,
      "top": null,
      "visibility": null,
      "width": null
     }
    },
    "4bd7c42ca78d4672b3a5b2a4ad508b13": {
     "model_module": "@jupyter-widgets/controls",
     "model_module_version": "1.5.0",
     "model_name": "DescriptionStyleModel",
     "state": {
      "_model_module": "@jupyter-widgets/controls",
      "_model_module_version": "1.5.0",
      "_model_name": "DescriptionStyleModel",
      "_view_count": null,
      "_view_module": "@jupyter-widgets/base",
      "_view_module_version": "1.2.0",
      "_view_name": "StyleView",
      "description_width": ""
     }
    },
    "58097bbf6fef4e2b95f41f558a0a300a": {
     "model_module": "@jupyter-widgets/controls",
     "model_module_version": "1.5.0",
     "model_name": "HBoxModel",
     "state": {
      "_dom_classes": [],
      "_model_module": "@jupyter-widgets/controls",
      "_model_module_version": "1.5.0",
      "_model_name": "HBoxModel",
      "_view_count": null,
      "_view_module": "@jupyter-widgets/controls",
      "_view_module_version": "1.5.0",
      "_view_name": "HBoxView",
      "box_style": "",
      "children": [
       "IPY_MODEL_dced4c19d6d3431ebedb6a5a9fd29a00",
       "IPY_MODEL_455829e8241d45c099fa872d015d76ee",
       "IPY_MODEL_708e0d7bd9e348d1b99185ddcbe27cc0"
      ],
      "layout": "IPY_MODEL_6aded57491184c279c28ae4d4e7407f6"
     }
    },
    "583c1f2d5430452a9cf76ed438c65e64": {
     "model_module": "@jupyter-widgets/controls",
     "model_module_version": "1.5.0",
     "model_name": "HTMLModel",
     "state": {
      "_dom_classes": [],
      "_model_module": "@jupyter-widgets/controls",
      "_model_module_version": "1.5.0",
      "_model_name": "HTMLModel",
      "_view_count": null,
      "_view_module": "@jupyter-widgets/controls",
      "_view_module_version": "1.5.0",
      "_view_name": "HTMLView",
      "description": "",
      "description_tooltip": null,
      "layout": "IPY_MODEL_3a361ace8315401b9faf50b7e377b654",
      "placeholder": "​",
      "style": "IPY_MODEL_e46e3d9623db4f2c957c81ece8f59c9a",
      "value": " 15/15 [02:08&lt;00:00,  7.71s/it]"
     }
    },
    "5d4246d46d6c42baa66f0ee341be7c72": {
     "model_module": "@jupyter-widgets/base",
     "model_module_version": "1.2.0",
     "model_name": "LayoutModel",
     "state": {
      "_model_module": "@jupyter-widgets/base",
      "_model_module_version": "1.2.0",
      "_model_name": "LayoutModel",
      "_view_count": null,
      "_view_module": "@jupyter-widgets/base",
      "_view_module_version": "1.2.0",
      "_view_name": "LayoutView",
      "align_content": null,
      "align_items": null,
      "align_self": null,
      "border": null,
      "bottom": null,
      "display": null,
      "flex": null,
      "flex_flow": null,
      "grid_area": null,
      "grid_auto_columns": null,
      "grid_auto_flow": null,
      "grid_auto_rows": null,
      "grid_column": null,
      "grid_gap": null,
      "grid_row": null,
      "grid_template_areas": null,
      "grid_template_columns": null,
      "grid_template_rows": null,
      "height": null,
      "justify_content": null,
      "justify_items": null,
      "left": null,
      "margin": null,
      "max_height": null,
      "max_width": null,
      "min_height": null,
      "min_width": null,
      "object_fit": null,
      "object_position": null,
      "order": null,
      "overflow": null,
      "overflow_x": null,
      "overflow_y": null,
      "padding": null,
      "right": null,
      "top": null,
      "visibility": null,
      "width": null
     }
    },
    "5e46694fefb542e0948270973c702954": {
     "model_module": "@jupyter-widgets/controls",
     "model_module_version": "1.5.0",
     "model_name": "FloatProgressModel",
     "state": {
      "_dom_classes": [],
      "_model_module": "@jupyter-widgets/controls",
      "_model_module_version": "1.5.0",
      "_model_name": "FloatProgressModel",
      "_view_count": null,
      "_view_module": "@jupyter-widgets/controls",
      "_view_module_version": "1.5.0",
      "_view_name": "ProgressView",
      "bar_style": "success",
      "description": "",
      "description_tooltip": null,
      "layout": "IPY_MODEL_4ac5a4756d884e3c8dce1d8eb5ee8df4",
      "max": 16753,
      "min": 0,
      "orientation": "horizontal",
      "style": "IPY_MODEL_313a2d8b1d0d4da791ce6a926e15fa19",
      "value": 16753
     }
    },
    "692b0e4b0f47424e848f943e9dc2920a": {
     "model_module": "@jupyter-widgets/base",
     "model_module_version": "1.2.0",
     "model_name": "LayoutModel",
     "state": {
      "_model_module": "@jupyter-widgets/base",
      "_model_module_version": "1.2.0",
      "_model_name": "LayoutModel",
      "_view_count": null,
      "_view_module": "@jupyter-widgets/base",
      "_view_module_version": "1.2.0",
      "_view_name": "LayoutView",
      "align_content": null,
      "align_items": null,
      "align_self": null,
      "border": null,
      "bottom": null,
      "display": null,
      "flex": null,
      "flex_flow": null,
      "grid_area": null,
      "grid_auto_columns": null,
      "grid_auto_flow": null,
      "grid_auto_rows": null,
      "grid_column": null,
      "grid_gap": null,
      "grid_row": null,
      "grid_template_areas": null,
      "grid_template_columns": null,
      "grid_template_rows": null,
      "height": null,
      "justify_content": null,
      "justify_items": null,
      "left": null,
      "margin": null,
      "max_height": null,
      "max_width": null,
      "min_height": null,
      "min_width": null,
      "object_fit": null,
      "object_position": null,
      "order": null,
      "overflow": null,
      "overflow_x": null,
      "overflow_y": null,
      "padding": null,
      "right": null,
      "top": null,
      "visibility": null,
      "width": null
     }
    },
    "6aded57491184c279c28ae4d4e7407f6": {
     "model_module": "@jupyter-widgets/base",
     "model_module_version": "1.2.0",
     "model_name": "LayoutModel",
     "state": {
      "_model_module": "@jupyter-widgets/base",
      "_model_module_version": "1.2.0",
      "_model_name": "LayoutModel",
      "_view_count": null,
      "_view_module": "@jupyter-widgets/base",
      "_view_module_version": "1.2.0",
      "_view_name": "LayoutView",
      "align_content": null,
      "align_items": null,
      "align_self": null,
      "border": null,
      "bottom": null,
      "display": null,
      "flex": null,
      "flex_flow": null,
      "grid_area": null,
      "grid_auto_columns": null,
      "grid_auto_flow": null,
      "grid_auto_rows": null,
      "grid_column": null,
      "grid_gap": null,
      "grid_row": null,
      "grid_template_areas": null,
      "grid_template_columns": null,
      "grid_template_rows": null,
      "height": null,
      "justify_content": null,
      "justify_items": null,
      "left": null,
      "margin": null,
      "max_height": null,
      "max_width": null,
      "min_height": null,
      "min_width": null,
      "object_fit": null,
      "object_position": null,
      "order": null,
      "overflow": null,
      "overflow_x": null,
      "overflow_y": null,
      "padding": null,
      "right": null,
      "top": null,
      "visibility": null,
      "width": null
     }
    },
    "6bf87b161b954999952a6d337577a664": {
     "model_module": "@jupyter-widgets/controls",
     "model_module_version": "1.5.0",
     "model_name": "HTMLModel",
     "state": {
      "_dom_classes": [],
      "_model_module": "@jupyter-widgets/controls",
      "_model_module_version": "1.5.0",
      "_model_name": "HTMLModel",
      "_view_count": null,
      "_view_module": "@jupyter-widgets/controls",
      "_view_module_version": "1.5.0",
      "_view_name": "HTMLView",
      "description": "",
      "description_tooltip": null,
      "layout": "IPY_MODEL_692b0e4b0f47424e848f943e9dc2920a",
      "placeholder": "​",
      "style": "IPY_MODEL_23d91341a43349b9a49f19ffd81c9e02",
      "value": "100%"
     }
    },
    "708e0d7bd9e348d1b99185ddcbe27cc0": {
     "model_module": "@jupyter-widgets/controls",
     "model_module_version": "1.5.0",
     "model_name": "HTMLModel",
     "state": {
      "_dom_classes": [],
      "_model_module": "@jupyter-widgets/controls",
      "_model_module_version": "1.5.0",
      "_model_name": "HTMLModel",
      "_view_count": null,
      "_view_module": "@jupyter-widgets/controls",
      "_view_module_version": "1.5.0",
      "_view_name": "HTMLView",
      "description": "",
      "description_tooltip": null,
      "layout": "IPY_MODEL_3eac1aa497e142348cc7ddd3d3149d07",
      "placeholder": "​",
      "style": "IPY_MODEL_9a5eaae1ccb34ef99eb1ceef37c2b0ad",
      "value": " 12406/12406 [02:07&lt;00:00, 101.69it/s]"
     }
    },
    "9a5eaae1ccb34ef99eb1ceef37c2b0ad": {
     "model_module": "@jupyter-widgets/controls",
     "model_module_version": "1.5.0",
     "model_name": "DescriptionStyleModel",
     "state": {
      "_model_module": "@jupyter-widgets/controls",
      "_model_module_version": "1.5.0",
      "_model_name": "DescriptionStyleModel",
      "_view_count": null,
      "_view_module": "@jupyter-widgets/base",
      "_view_module_version": "1.2.0",
      "_view_name": "StyleView",
      "description_width": ""
     }
    },
    "9e35014db65e438fada932a477dfebf2": {
     "model_module": "@jupyter-widgets/controls",
     "model_module_version": "1.5.0",
     "model_name": "HBoxModel",
     "state": {
      "_dom_classes": [],
      "_model_module": "@jupyter-widgets/controls",
      "_model_module_version": "1.5.0",
      "_model_name": "HBoxModel",
      "_view_count": null,
      "_view_module": "@jupyter-widgets/controls",
      "_view_module_version": "1.5.0",
      "_view_name": "HBoxView",
      "box_style": "",
      "children": [
       "IPY_MODEL_cd3f85754e844696a20fd41eacc89b40",
       "IPY_MODEL_1af4fefd505f48d794821396f5b9fc1b",
       "IPY_MODEL_583c1f2d5430452a9cf76ed438c65e64"
      ],
      "layout": "IPY_MODEL_3db833df7f034c1199d52188b242610c"
     }
    },
    "bc76eef610b34ee5bd3198c2e59b5571": {
     "model_module": "@jupyter-widgets/controls",
     "model_module_version": "1.5.0",
     "model_name": "ProgressStyleModel",
     "state": {
      "_model_module": "@jupyter-widgets/controls",
      "_model_module_version": "1.5.0",
      "_model_name": "ProgressStyleModel",
      "_view_count": null,
      "_view_module": "@jupyter-widgets/base",
      "_view_module_version": "1.2.0",
      "_view_name": "StyleView",
      "bar_color": null,
      "description_width": ""
     }
    },
    "be58df1cad224991b004a318f0c69322": {
     "model_module": "@jupyter-widgets/controls",
     "model_module_version": "1.5.0",
     "model_name": "HBoxModel",
     "state": {
      "_dom_classes": [],
      "_model_module": "@jupyter-widgets/controls",
      "_model_module_version": "1.5.0",
      "_model_name": "HBoxModel",
      "_view_count": null,
      "_view_module": "@jupyter-widgets/controls",
      "_view_module_version": "1.5.0",
      "_view_name": "HBoxView",
      "box_style": "",
      "children": [
       "IPY_MODEL_6bf87b161b954999952a6d337577a664",
       "IPY_MODEL_5e46694fefb542e0948270973c702954",
       "IPY_MODEL_428c136d31964fd093e2aadca93ef5c7"
      ],
      "layout": "IPY_MODEL_e7880e2ddc5e4f9080f78d652db0bade"
     }
    },
    "c1bed85b821845fd88a0fc3d13c24f61": {
     "model_module": "@jupyter-widgets/controls",
     "model_module_version": "1.5.0",
     "model_name": "DescriptionStyleModel",
     "state": {
      "_model_module": "@jupyter-widgets/controls",
      "_model_module_version": "1.5.0",
      "_model_name": "DescriptionStyleModel",
      "_view_count": null,
      "_view_module": "@jupyter-widgets/base",
      "_view_module_version": "1.2.0",
      "_view_name": "StyleView",
      "description_width": ""
     }
    },
    "cd3f85754e844696a20fd41eacc89b40": {
     "model_module": "@jupyter-widgets/controls",
     "model_module_version": "1.5.0",
     "model_name": "HTMLModel",
     "state": {
      "_dom_classes": [],
      "_model_module": "@jupyter-widgets/controls",
      "_model_module_version": "1.5.0",
      "_model_name": "HTMLModel",
      "_view_count": null,
      "_view_module": "@jupyter-widgets/controls",
      "_view_module_version": "1.5.0",
      "_view_name": "HTMLView",
      "description": "",
      "description_tooltip": null,
      "layout": "IPY_MODEL_1fcd51026434444fba4c19e014a4fd44",
      "placeholder": "​",
      "style": "IPY_MODEL_c1bed85b821845fd88a0fc3d13c24f61",
      "value": "100%"
     }
    },
    "dced4c19d6d3431ebedb6a5a9fd29a00": {
     "model_module": "@jupyter-widgets/controls",
     "model_module_version": "1.5.0",
     "model_name": "HTMLModel",
     "state": {
      "_dom_classes": [],
      "_model_module": "@jupyter-widgets/controls",
      "_model_module_version": "1.5.0",
      "_model_name": "HTMLModel",
      "_view_count": null,
      "_view_module": "@jupyter-widgets/controls",
      "_view_module_version": "1.5.0",
      "_view_name": "HTMLView",
      "description": "",
      "description_tooltip": null,
      "layout": "IPY_MODEL_224b4e830a974af7a2b3d50f7964e63d",
      "placeholder": "​",
      "style": "IPY_MODEL_4bd7c42ca78d4672b3a5b2a4ad508b13",
      "value": "100%"
     }
    },
    "e46e3d9623db4f2c957c81ece8f59c9a": {
     "model_module": "@jupyter-widgets/controls",
     "model_module_version": "1.5.0",
     "model_name": "DescriptionStyleModel",
     "state": {
      "_model_module": "@jupyter-widgets/controls",
      "_model_module_version": "1.5.0",
      "_model_name": "DescriptionStyleModel",
      "_view_count": null,
      "_view_module": "@jupyter-widgets/base",
      "_view_module_version": "1.2.0",
      "_view_name": "StyleView",
      "description_width": ""
     }
    },
    "e7880e2ddc5e4f9080f78d652db0bade": {
     "model_module": "@jupyter-widgets/base",
     "model_module_version": "1.2.0",
     "model_name": "LayoutModel",
     "state": {
      "_model_module": "@jupyter-widgets/base",
      "_model_module_version": "1.2.0",
      "_model_name": "LayoutModel",
      "_view_count": null,
      "_view_module": "@jupyter-widgets/base",
      "_view_module_version": "1.2.0",
      "_view_name": "LayoutView",
      "align_content": null,
      "align_items": null,
      "align_self": null,
      "border": null,
      "bottom": null,
      "display": null,
      "flex": null,
      "flex_flow": null,
      "grid_area": null,
      "grid_auto_columns": null,
      "grid_auto_flow": null,
      "grid_auto_rows": null,
      "grid_column": null,
      "grid_gap": null,
      "grid_row": null,
      "grid_template_areas": null,
      "grid_template_columns": null,
      "grid_template_rows": null,
      "height": null,
      "justify_content": null,
      "justify_items": null,
      "left": null,
      "margin": null,
      "max_height": null,
      "max_width": null,
      "min_height": null,
      "min_width": null,
      "object_fit": null,
      "object_position": null,
      "order": null,
      "overflow": null,
      "overflow_x": null,
      "overflow_y": null,
      "padding": null,
      "right": null,
      "top": null,
      "visibility": null,
      "width": null
     }
    },
    "f279b84231f247e391ae3e70913c2f8d": {
     "model_module": "@jupyter-widgets/base",
     "model_module_version": "1.2.0",
     "model_name": "LayoutModel",
     "state": {
      "_model_module": "@jupyter-widgets/base",
      "_model_module_version": "1.2.0",
      "_model_name": "LayoutModel",
      "_view_count": null,
      "_view_module": "@jupyter-widgets/base",
      "_view_module_version": "1.2.0",
      "_view_name": "LayoutView",
      "align_content": null,
      "align_items": null,
      "align_self": null,
      "border": null,
      "bottom": null,
      "display": null,
      "flex": null,
      "flex_flow": null,
      "grid_area": null,
      "grid_auto_columns": null,
      "grid_auto_flow": null,
      "grid_auto_rows": null,
      "grid_column": null,
      "grid_gap": null,
      "grid_row": null,
      "grid_template_areas": null,
      "grid_template_columns": null,
      "grid_template_rows": null,
      "height": null,
      "justify_content": null,
      "justify_items": null,
      "left": null,
      "margin": null,
      "max_height": null,
      "max_width": null,
      "min_height": null,
      "min_width": null,
      "object_fit": null,
      "object_position": null,
      "order": null,
      "overflow": null,
      "overflow_x": null,
      "overflow_y": null,
      "padding": null,
      "right": null,
      "top": null,
      "visibility": null,
      "width": null
     }
    },
    "fac76e7c28494a078cea00a3503e6ae4": {
     "model_module": "@jupyter-widgets/controls",
     "model_module_version": "1.5.0",
     "model_name": "ProgressStyleModel",
     "state": {
      "_model_module": "@jupyter-widgets/controls",
      "_model_module_version": "1.5.0",
      "_model_name": "ProgressStyleModel",
      "_view_count": null,
      "_view_module": "@jupyter-widgets/base",
      "_view_module_version": "1.2.0",
      "_view_name": "StyleView",
      "bar_color": null,
      "description_width": ""
     }
    }
   }
  }
 },
 "nbformat": 4,
 "nbformat_minor": 1
}
